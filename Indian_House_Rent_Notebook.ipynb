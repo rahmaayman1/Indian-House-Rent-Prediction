{
  "nbformat": 4,
  "nbformat_minor": 0,
  "metadata": {
    "colab": {
      "provenance": []
    },
    "kernelspec": {
      "name": "python3",
      "display_name": "Python 3"
    },
    "language_info": {
      "name": "python"
    }
  },
  "cells": [
    {
      "cell_type": "markdown",
      "source": [
        "#**Import Libraries**"
      ],
      "metadata": {
        "id": "TJStIDxu5ocA"
      }
    },
    {
      "cell_type": "code",
      "execution_count": 336,
      "metadata": {
        "id": "Hc5qUu8yNoFO"
      },
      "outputs": [],
      "source": [
        "import pandas as pd\n",
        "import numpy as np\n",
        "import matplotlib.pyplot as plt\n",
        "import seaborn as sns\n",
        "import re\n",
        "from sklearn.model_selection import train_test_split, GridSearchCV, RandomizedSearchCV, cross_val_score\n",
        "from sklearn.preprocessing import OneHotEncoder, LabelEncoder, StandardScaler, MinMaxScaler\n",
        "from sklearn.compose import ColumnTransformer\n",
        "from sklearn.pipeline import Pipeline\n",
        "from sklearn.linear_model import LinearRegression, Ridge, Lasso\n",
        "from sklearn.ensemble import RandomForestRegressor, GradientBoostingRegressor\n",
        "from sklearn.tree import DecisionTreeRegressor\n",
        "from sklearn.neighbors import KNeighborsRegressor\n",
        "from xgboost import XGBRegressor\n",
        "from lightgbm import LGBMRegressor\n",
        "from sklearn.metrics import mean_absolute_error, mean_squared_error, r2_score\n",
        "import warnings\n",
        "warnings.filterwarnings(\"ignore\")"
      ]
    },
    {
      "cell_type": "markdown",
      "source": [
        "#**Data Exploring & Cleaning**"
      ],
      "metadata": {
        "id": "VZ6o_0KD6HFP"
      }
    },
    {
      "cell_type": "code",
      "source": [
        "df=pd.read_csv(\"/content/Indian_House_Rent_Dataset.csv\")\n",
        "df.head()"
      ],
      "metadata": {
        "colab": {
          "base_uri": "https://localhost:8080/",
          "height": 310
        },
        "id": "9st9SrZKeE6R",
        "outputId": "5b75e0a0-5edc-4b9d-ee07-2b90e1867a78"
      },
      "execution_count": 337,
      "outputs": [
        {
          "output_type": "execute_result",
          "data": {
            "text/plain": [
              "    Posted On       BHK    Size       Floor    Area Type  \\\n",
              "0         NaN       2.0  1100.0         NaN   Super Area   \n",
              "1  2022-05-13       2.0   800.0  1 out of 3   Super Area   \n",
              "2  2022-05-16       2.0  1000.0  1 out of 3   Super Area   \n",
              "3  2022-07-04       2.0   800.0  1 out of 2   Super Area   \n",
              "4  2022-05-09  2.0 room   850.0  1 out of 2  Carpet Area   \n",
              "\n",
              "              Area Locality             City Furnishing Status  \\\n",
              "0                    Bandel  India-! Kolkata       Unfurnished   \n",
              "1  Phool Bagan, Kankurgachi  India-! Kolkata    Semi-Furnished   \n",
              "2   Salt Lake City Sector 2  India-- Kolkata    Semi-Furnished   \n",
              "3                       NaN              NaN       Unfurnished   \n",
              "4             South Dum Dum  India-^ Kolkata       Unfurnished   \n",
              "\n",
              "     Tenant Preferred Bathroom Point of Contact   Rent  \n",
              "0  Bach^elors/Fam.ily      2.0    Contact Owner  10000  \n",
              "1  Bachelors\\/Family*      NaN              NaN  20000  \n",
              "2                 NaN      1.0    Contact Owner  17000  \n",
              "3  Bachel]ors/F@amily      1.0              NaN  10000  \n",
              "4         Bache[lors&      1.0    Contact Owner   7500  "
            ],
            "text/html": [
              "\n",
              "  <div id=\"df-e0be4daa-802c-48bf-b594-ba0a8eb9f3df\" class=\"colab-df-container\">\n",
              "    <div>\n",
              "<style scoped>\n",
              "    .dataframe tbody tr th:only-of-type {\n",
              "        vertical-align: middle;\n",
              "    }\n",
              "\n",
              "    .dataframe tbody tr th {\n",
              "        vertical-align: top;\n",
              "    }\n",
              "\n",
              "    .dataframe thead th {\n",
              "        text-align: right;\n",
              "    }\n",
              "</style>\n",
              "<table border=\"1\" class=\"dataframe\">\n",
              "  <thead>\n",
              "    <tr style=\"text-align: right;\">\n",
              "      <th></th>\n",
              "      <th>Posted On</th>\n",
              "      <th>BHK</th>\n",
              "      <th>Size</th>\n",
              "      <th>Floor</th>\n",
              "      <th>Area Type</th>\n",
              "      <th>Area Locality</th>\n",
              "      <th>City</th>\n",
              "      <th>Furnishing Status</th>\n",
              "      <th>Tenant Preferred</th>\n",
              "      <th>Bathroom</th>\n",
              "      <th>Point of Contact</th>\n",
              "      <th>Rent</th>\n",
              "    </tr>\n",
              "  </thead>\n",
              "  <tbody>\n",
              "    <tr>\n",
              "      <th>0</th>\n",
              "      <td>NaN</td>\n",
              "      <td>2.0</td>\n",
              "      <td>1100.0</td>\n",
              "      <td>NaN</td>\n",
              "      <td>Super Area</td>\n",
              "      <td>Bandel</td>\n",
              "      <td>India-! Kolkata</td>\n",
              "      <td>Unfurnished</td>\n",
              "      <td>Bach^elors/Fam.ily</td>\n",
              "      <td>2.0</td>\n",
              "      <td>Contact Owner</td>\n",
              "      <td>10000</td>\n",
              "    </tr>\n",
              "    <tr>\n",
              "      <th>1</th>\n",
              "      <td>2022-05-13</td>\n",
              "      <td>2.0</td>\n",
              "      <td>800.0</td>\n",
              "      <td>1 out of 3</td>\n",
              "      <td>Super Area</td>\n",
              "      <td>Phool Bagan, Kankurgachi</td>\n",
              "      <td>India-! Kolkata</td>\n",
              "      <td>Semi-Furnished</td>\n",
              "      <td>Bachelors\\/Family*</td>\n",
              "      <td>NaN</td>\n",
              "      <td>NaN</td>\n",
              "      <td>20000</td>\n",
              "    </tr>\n",
              "    <tr>\n",
              "      <th>2</th>\n",
              "      <td>2022-05-16</td>\n",
              "      <td>2.0</td>\n",
              "      <td>1000.0</td>\n",
              "      <td>1 out of 3</td>\n",
              "      <td>Super Area</td>\n",
              "      <td>Salt Lake City Sector 2</td>\n",
              "      <td>India-- Kolkata</td>\n",
              "      <td>Semi-Furnished</td>\n",
              "      <td>NaN</td>\n",
              "      <td>1.0</td>\n",
              "      <td>Contact Owner</td>\n",
              "      <td>17000</td>\n",
              "    </tr>\n",
              "    <tr>\n",
              "      <th>3</th>\n",
              "      <td>2022-07-04</td>\n",
              "      <td>2.0</td>\n",
              "      <td>800.0</td>\n",
              "      <td>1 out of 2</td>\n",
              "      <td>Super Area</td>\n",
              "      <td>NaN</td>\n",
              "      <td>NaN</td>\n",
              "      <td>Unfurnished</td>\n",
              "      <td>Bachel]ors/F@amily</td>\n",
              "      <td>1.0</td>\n",
              "      <td>NaN</td>\n",
              "      <td>10000</td>\n",
              "    </tr>\n",
              "    <tr>\n",
              "      <th>4</th>\n",
              "      <td>2022-05-09</td>\n",
              "      <td>2.0 room</td>\n",
              "      <td>850.0</td>\n",
              "      <td>1 out of 2</td>\n",
              "      <td>Carpet Area</td>\n",
              "      <td>South Dum Dum</td>\n",
              "      <td>India-^ Kolkata</td>\n",
              "      <td>Unfurnished</td>\n",
              "      <td>Bache[lors&amp;</td>\n",
              "      <td>1.0</td>\n",
              "      <td>Contact Owner</td>\n",
              "      <td>7500</td>\n",
              "    </tr>\n",
              "  </tbody>\n",
              "</table>\n",
              "</div>\n",
              "    <div class=\"colab-df-buttons\">\n",
              "\n",
              "  <div class=\"colab-df-container\">\n",
              "    <button class=\"colab-df-convert\" onclick=\"convertToInteractive('df-e0be4daa-802c-48bf-b594-ba0a8eb9f3df')\"\n",
              "            title=\"Convert this dataframe to an interactive table.\"\n",
              "            style=\"display:none;\">\n",
              "\n",
              "  <svg xmlns=\"http://www.w3.org/2000/svg\" height=\"24px\" viewBox=\"0 -960 960 960\">\n",
              "    <path d=\"M120-120v-720h720v720H120Zm60-500h600v-160H180v160Zm220 220h160v-160H400v160Zm0 220h160v-160H400v160ZM180-400h160v-160H180v160Zm440 0h160v-160H620v160ZM180-180h160v-160H180v160Zm440 0h160v-160H620v160Z\"/>\n",
              "  </svg>\n",
              "    </button>\n",
              "\n",
              "  <style>\n",
              "    .colab-df-container {\n",
              "      display:flex;\n",
              "      gap: 12px;\n",
              "    }\n",
              "\n",
              "    .colab-df-convert {\n",
              "      background-color: #E8F0FE;\n",
              "      border: none;\n",
              "      border-radius: 50%;\n",
              "      cursor: pointer;\n",
              "      display: none;\n",
              "      fill: #1967D2;\n",
              "      height: 32px;\n",
              "      padding: 0 0 0 0;\n",
              "      width: 32px;\n",
              "    }\n",
              "\n",
              "    .colab-df-convert:hover {\n",
              "      background-color: #E2EBFA;\n",
              "      box-shadow: 0px 1px 2px rgba(60, 64, 67, 0.3), 0px 1px 3px 1px rgba(60, 64, 67, 0.15);\n",
              "      fill: #174EA6;\n",
              "    }\n",
              "\n",
              "    .colab-df-buttons div {\n",
              "      margin-bottom: 4px;\n",
              "    }\n",
              "\n",
              "    [theme=dark] .colab-df-convert {\n",
              "      background-color: #3B4455;\n",
              "      fill: #D2E3FC;\n",
              "    }\n",
              "\n",
              "    [theme=dark] .colab-df-convert:hover {\n",
              "      background-color: #434B5C;\n",
              "      box-shadow: 0px 1px 3px 1px rgba(0, 0, 0, 0.15);\n",
              "      filter: drop-shadow(0px 1px 2px rgba(0, 0, 0, 0.3));\n",
              "      fill: #FFFFFF;\n",
              "    }\n",
              "  </style>\n",
              "\n",
              "    <script>\n",
              "      const buttonEl =\n",
              "        document.querySelector('#df-e0be4daa-802c-48bf-b594-ba0a8eb9f3df button.colab-df-convert');\n",
              "      buttonEl.style.display =\n",
              "        google.colab.kernel.accessAllowed ? 'block' : 'none';\n",
              "\n",
              "      async function convertToInteractive(key) {\n",
              "        const element = document.querySelector('#df-e0be4daa-802c-48bf-b594-ba0a8eb9f3df');\n",
              "        const dataTable =\n",
              "          await google.colab.kernel.invokeFunction('convertToInteractive',\n",
              "                                                    [key], {});\n",
              "        if (!dataTable) return;\n",
              "\n",
              "        const docLinkHtml = 'Like what you see? Visit the ' +\n",
              "          '<a target=\"_blank\" href=https://colab.research.google.com/notebooks/data_table.ipynb>data table notebook</a>'\n",
              "          + ' to learn more about interactive tables.';\n",
              "        element.innerHTML = '';\n",
              "        dataTable['output_type'] = 'display_data';\n",
              "        await google.colab.output.renderOutput(dataTable, element);\n",
              "        const docLink = document.createElement('div');\n",
              "        docLink.innerHTML = docLinkHtml;\n",
              "        element.appendChild(docLink);\n",
              "      }\n",
              "    </script>\n",
              "  </div>\n",
              "\n",
              "\n",
              "    <div id=\"df-c6934374-d5d3-466a-be1a-ebb93e84df2b\">\n",
              "      <button class=\"colab-df-quickchart\" onclick=\"quickchart('df-c6934374-d5d3-466a-be1a-ebb93e84df2b')\"\n",
              "                title=\"Suggest charts\"\n",
              "                style=\"display:none;\">\n",
              "\n",
              "<svg xmlns=\"http://www.w3.org/2000/svg\" height=\"24px\"viewBox=\"0 0 24 24\"\n",
              "     width=\"24px\">\n",
              "    <g>\n",
              "        <path d=\"M19 3H5c-1.1 0-2 .9-2 2v14c0 1.1.9 2 2 2h14c1.1 0 2-.9 2-2V5c0-1.1-.9-2-2-2zM9 17H7v-7h2v7zm4 0h-2V7h2v10zm4 0h-2v-4h2v4z\"/>\n",
              "    </g>\n",
              "</svg>\n",
              "      </button>\n",
              "\n",
              "<style>\n",
              "  .colab-df-quickchart {\n",
              "      --bg-color: #E8F0FE;\n",
              "      --fill-color: #1967D2;\n",
              "      --hover-bg-color: #E2EBFA;\n",
              "      --hover-fill-color: #174EA6;\n",
              "      --disabled-fill-color: #AAA;\n",
              "      --disabled-bg-color: #DDD;\n",
              "  }\n",
              "\n",
              "  [theme=dark] .colab-df-quickchart {\n",
              "      --bg-color: #3B4455;\n",
              "      --fill-color: #D2E3FC;\n",
              "      --hover-bg-color: #434B5C;\n",
              "      --hover-fill-color: #FFFFFF;\n",
              "      --disabled-bg-color: #3B4455;\n",
              "      --disabled-fill-color: #666;\n",
              "  }\n",
              "\n",
              "  .colab-df-quickchart {\n",
              "    background-color: var(--bg-color);\n",
              "    border: none;\n",
              "    border-radius: 50%;\n",
              "    cursor: pointer;\n",
              "    display: none;\n",
              "    fill: var(--fill-color);\n",
              "    height: 32px;\n",
              "    padding: 0;\n",
              "    width: 32px;\n",
              "  }\n",
              "\n",
              "  .colab-df-quickchart:hover {\n",
              "    background-color: var(--hover-bg-color);\n",
              "    box-shadow: 0 1px 2px rgba(60, 64, 67, 0.3), 0 1px 3px 1px rgba(60, 64, 67, 0.15);\n",
              "    fill: var(--button-hover-fill-color);\n",
              "  }\n",
              "\n",
              "  .colab-df-quickchart-complete:disabled,\n",
              "  .colab-df-quickchart-complete:disabled:hover {\n",
              "    background-color: var(--disabled-bg-color);\n",
              "    fill: var(--disabled-fill-color);\n",
              "    box-shadow: none;\n",
              "  }\n",
              "\n",
              "  .colab-df-spinner {\n",
              "    border: 2px solid var(--fill-color);\n",
              "    border-color: transparent;\n",
              "    border-bottom-color: var(--fill-color);\n",
              "    animation:\n",
              "      spin 1s steps(1) infinite;\n",
              "  }\n",
              "\n",
              "  @keyframes spin {\n",
              "    0% {\n",
              "      border-color: transparent;\n",
              "      border-bottom-color: var(--fill-color);\n",
              "      border-left-color: var(--fill-color);\n",
              "    }\n",
              "    20% {\n",
              "      border-color: transparent;\n",
              "      border-left-color: var(--fill-color);\n",
              "      border-top-color: var(--fill-color);\n",
              "    }\n",
              "    30% {\n",
              "      border-color: transparent;\n",
              "      border-left-color: var(--fill-color);\n",
              "      border-top-color: var(--fill-color);\n",
              "      border-right-color: var(--fill-color);\n",
              "    }\n",
              "    40% {\n",
              "      border-color: transparent;\n",
              "      border-right-color: var(--fill-color);\n",
              "      border-top-color: var(--fill-color);\n",
              "    }\n",
              "    60% {\n",
              "      border-color: transparent;\n",
              "      border-right-color: var(--fill-color);\n",
              "    }\n",
              "    80% {\n",
              "      border-color: transparent;\n",
              "      border-right-color: var(--fill-color);\n",
              "      border-bottom-color: var(--fill-color);\n",
              "    }\n",
              "    90% {\n",
              "      border-color: transparent;\n",
              "      border-bottom-color: var(--fill-color);\n",
              "    }\n",
              "  }\n",
              "</style>\n",
              "\n",
              "      <script>\n",
              "        async function quickchart(key) {\n",
              "          const quickchartButtonEl =\n",
              "            document.querySelector('#' + key + ' button');\n",
              "          quickchartButtonEl.disabled = true;  // To prevent multiple clicks.\n",
              "          quickchartButtonEl.classList.add('colab-df-spinner');\n",
              "          try {\n",
              "            const charts = await google.colab.kernel.invokeFunction(\n",
              "                'suggestCharts', [key], {});\n",
              "          } catch (error) {\n",
              "            console.error('Error during call to suggestCharts:', error);\n",
              "          }\n",
              "          quickchartButtonEl.classList.remove('colab-df-spinner');\n",
              "          quickchartButtonEl.classList.add('colab-df-quickchart-complete');\n",
              "        }\n",
              "        (() => {\n",
              "          let quickchartButtonEl =\n",
              "            document.querySelector('#df-c6934374-d5d3-466a-be1a-ebb93e84df2b button');\n",
              "          quickchartButtonEl.style.display =\n",
              "            google.colab.kernel.accessAllowed ? 'block' : 'none';\n",
              "        })();\n",
              "      </script>\n",
              "    </div>\n",
              "\n",
              "    </div>\n",
              "  </div>\n"
            ],
            "application/vnd.google.colaboratory.intrinsic+json": {
              "type": "dataframe",
              "variable_name": "df",
              "summary": "{\n  \"name\": \"df\",\n  \"rows\": 4746,\n  \"fields\": [\n    {\n      \"column\": \"Posted On\",\n      \"properties\": {\n        \"dtype\": \"date\",\n        \"min\": \"2022-04-13 00:00:00\",\n        \"max\": \"2022-07-11 00:00:00\",\n        \"num_unique_values\": 81,\n        \"samples\": [\n          \"2022-05-14\",\n          \"2022-05-13\",\n          \"2022-05-12\"\n        ],\n        \"semantic_type\": \"\",\n        \"description\": \"\"\n      }\n    },\n    {\n      \"column\": \"BHK\",\n      \"properties\": {\n        \"dtype\": \"category\",\n        \"num_unique_values\": 12,\n        \"samples\": [\n          \"4.0 room\",\n          \"5.0 room\",\n          \"2.0\"\n        ],\n        \"semantic_type\": \"\",\n        \"description\": \"\"\n      }\n    },\n    {\n      \"column\": \"Size\",\n      \"properties\": {\n        \"dtype\": \"category\",\n        \"num_unique_values\": 588,\n        \"samples\": [\n          \"1815.0\",\n          \"1380.0\",\n          \"750.0Square Feet\"\n        ],\n        \"semantic_type\": \"\",\n        \"description\": \"\"\n      }\n    },\n    {\n      \"column\": \"Floor\",\n      \"properties\": {\n        \"dtype\": \"category\",\n        \"num_unique_values\": 433,\n        \"samples\": [\n          \"11 out of 35\",\n          \"17 out of 42\",\n          \"6 out of 18\"\n        ],\n        \"semantic_type\": \"\",\n        \"description\": \"\"\n      }\n    },\n    {\n      \"column\": \"Area Type\",\n      \"properties\": {\n        \"dtype\": \"category\",\n        \"num_unique_values\": 5,\n        \"samples\": [\n          \"Carpet Area\",\n          \"Built Area\",\n          \"CARPET AREA\"\n        ],\n        \"semantic_type\": \"\",\n        \"description\": \"\"\n      }\n    },\n    {\n      \"column\": \"Area Locality\",\n      \"properties\": {\n        \"dtype\": \"category\",\n        \"num_unique_values\": 2017,\n        \"samples\": [\n          \"Pazhavanthangal, Jawaharlal Nehru Road\",\n          \"Platinum Prive, Andheri West\",\n          \"Mount Marry, Mount Mary\"\n        ],\n        \"semantic_type\": \"\",\n        \"description\": \"\"\n      }\n    },\n    {\n      \"column\": \"City\",\n      \"properties\": {\n        \"dtype\": \"category\",\n        \"num_unique_values\": 360,\n        \"samples\": [\n          \"%-9 Delhi\",\n          \"India-, Kolkata\",\n          \":-9 Chennai\"\n        ],\n        \"semantic_type\": \"\",\n        \"description\": \"\"\n      }\n    },\n    {\n      \"column\": \"Furnishing Status\",\n      \"properties\": {\n        \"dtype\": \"category\",\n        \"num_unique_values\": 3,\n        \"samples\": [\n          \"Unfurnished\",\n          \"Semi-Furnished\",\n          \"Furnished\"\n        ],\n        \"semantic_type\": \"\",\n        \"description\": \"\"\n      }\n    },\n    {\n      \"column\": \"Tenant Preferred\",\n      \"properties\": {\n        \"dtype\": \"string\",\n        \"num_unique_values\": 4051,\n        \"samples\": [\n          \"B&ac:helors/Family\",\n          \"!Bachelors/Fa*mily\",\n          \"Bachel&ors/Fam=ily\"\n        ],\n        \"semantic_type\": \"\",\n        \"description\": \"\"\n      }\n    },\n    {\n      \"column\": \"Bathroom\",\n      \"properties\": {\n        \"dtype\": \"category\",\n        \"num_unique_values\": 13,\n        \"samples\": [\n          \"7.0\",\n          \"6.0\",\n          \"2.0\"\n        ],\n        \"semantic_type\": \"\",\n        \"description\": \"\"\n      }\n    },\n    {\n      \"column\": \"Point of Contact\",\n      \"properties\": {\n        \"dtype\": \"category\",\n        \"num_unique_values\": 2,\n        \"samples\": [\n          \"Contact Agent\",\n          \"Contact Owner\"\n        ],\n        \"semantic_type\": \"\",\n        \"description\": \"\"\n      }\n    },\n    {\n      \"column\": \"Rent\",\n      \"properties\": {\n        \"dtype\": \"number\",\n        \"std\": 78106,\n        \"min\": 1200,\n        \"max\": 3500000,\n        \"num_unique_values\": 243,\n        \"samples\": [\n          12000,\n          26000\n        ],\n        \"semantic_type\": \"\",\n        \"description\": \"\"\n      }\n    }\n  ]\n}"
            }
          },
          "metadata": {},
          "execution_count": 337
        }
      ]
    },
    {
      "cell_type": "code",
      "source": [
        "df.shape"
      ],
      "metadata": {
        "colab": {
          "base_uri": "https://localhost:8080/"
        },
        "id": "vxheAvz7e_lo",
        "outputId": "8d624172-0d29-40aa-8fa9-c73e7bfbe01e"
      },
      "execution_count": 338,
      "outputs": [
        {
          "output_type": "execute_result",
          "data": {
            "text/plain": [
              "(4746, 12)"
            ]
          },
          "metadata": {},
          "execution_count": 338
        }
      ]
    },
    {
      "cell_type": "code",
      "source": [
        "df.info()"
      ],
      "metadata": {
        "colab": {
          "base_uri": "https://localhost:8080/"
        },
        "id": "Blk6NTqZe6Yp",
        "outputId": "c594e654-886c-4025-fea6-0b7c9c881675"
      },
      "execution_count": 339,
      "outputs": [
        {
          "output_type": "stream",
          "name": "stdout",
          "text": [
            "<class 'pandas.core.frame.DataFrame'>\n",
            "RangeIndex: 4746 entries, 0 to 4745\n",
            "Data columns (total 12 columns):\n",
            " #   Column             Non-Null Count  Dtype \n",
            "---  ------             --------------  ----- \n",
            " 0   Posted On          4084 non-null   object\n",
            " 1   BHK                3963 non-null   object\n",
            " 2   Size               3826 non-null   object\n",
            " 3   Floor              3960 non-null   object\n",
            " 4   Area Type          3804 non-null   object\n",
            " 5   Area Locality      4146 non-null   object\n",
            " 6   City               4091 non-null   object\n",
            " 7   Furnishing Status  4042 non-null   object\n",
            " 8   Tenant Preferred   4094 non-null   object\n",
            " 9   Bathroom           4205 non-null   object\n",
            " 10  Point of Contact   4137 non-null   object\n",
            " 11  Rent               4746 non-null   int64 \n",
            "dtypes: int64(1), object(11)\n",
            "memory usage: 445.1+ KB\n"
          ]
        }
      ]
    },
    {
      "cell_type": "code",
      "source": [
        "df.isnull().sum()"
      ],
      "metadata": {
        "colab": {
          "base_uri": "https://localhost:8080/",
          "height": 460
        },
        "id": "cGG_InNZfQKV",
        "outputId": "cebbc7c3-8953-48ec-8a06-a60720eb9579"
      },
      "execution_count": 340,
      "outputs": [
        {
          "output_type": "execute_result",
          "data": {
            "text/plain": [
              "Posted On            662\n",
              "BHK                  783\n",
              "Size                 920\n",
              "Floor                786\n",
              "Area Type            942\n",
              "Area Locality        600\n",
              "City                 655\n",
              "Furnishing Status    704\n",
              "Tenant Preferred     652\n",
              "Bathroom             541\n",
              "Point of Contact     609\n",
              "Rent                   0\n",
              "dtype: int64"
            ],
            "text/html": [
              "<div>\n",
              "<style scoped>\n",
              "    .dataframe tbody tr th:only-of-type {\n",
              "        vertical-align: middle;\n",
              "    }\n",
              "\n",
              "    .dataframe tbody tr th {\n",
              "        vertical-align: top;\n",
              "    }\n",
              "\n",
              "    .dataframe thead th {\n",
              "        text-align: right;\n",
              "    }\n",
              "</style>\n",
              "<table border=\"1\" class=\"dataframe\">\n",
              "  <thead>\n",
              "    <tr style=\"text-align: right;\">\n",
              "      <th></th>\n",
              "      <th>0</th>\n",
              "    </tr>\n",
              "  </thead>\n",
              "  <tbody>\n",
              "    <tr>\n",
              "      <th>Posted On</th>\n",
              "      <td>662</td>\n",
              "    </tr>\n",
              "    <tr>\n",
              "      <th>BHK</th>\n",
              "      <td>783</td>\n",
              "    </tr>\n",
              "    <tr>\n",
              "      <th>Size</th>\n",
              "      <td>920</td>\n",
              "    </tr>\n",
              "    <tr>\n",
              "      <th>Floor</th>\n",
              "      <td>786</td>\n",
              "    </tr>\n",
              "    <tr>\n",
              "      <th>Area Type</th>\n",
              "      <td>942</td>\n",
              "    </tr>\n",
              "    <tr>\n",
              "      <th>Area Locality</th>\n",
              "      <td>600</td>\n",
              "    </tr>\n",
              "    <tr>\n",
              "      <th>City</th>\n",
              "      <td>655</td>\n",
              "    </tr>\n",
              "    <tr>\n",
              "      <th>Furnishing Status</th>\n",
              "      <td>704</td>\n",
              "    </tr>\n",
              "    <tr>\n",
              "      <th>Tenant Preferred</th>\n",
              "      <td>652</td>\n",
              "    </tr>\n",
              "    <tr>\n",
              "      <th>Bathroom</th>\n",
              "      <td>541</td>\n",
              "    </tr>\n",
              "    <tr>\n",
              "      <th>Point of Contact</th>\n",
              "      <td>609</td>\n",
              "    </tr>\n",
              "    <tr>\n",
              "      <th>Rent</th>\n",
              "      <td>0</td>\n",
              "    </tr>\n",
              "  </tbody>\n",
              "</table>\n",
              "</div><br><label><b>dtype:</b> int64</label>"
            ]
          },
          "metadata": {},
          "execution_count": 340
        }
      ]
    },
    {
      "cell_type": "code",
      "source": [
        "df.describe()"
      ],
      "metadata": {
        "colab": {
          "base_uri": "https://localhost:8080/",
          "height": 300
        },
        "id": "mi1EluxzeQYq",
        "outputId": "ecddbde9-3aed-4a73-8d1f-dd2c600b8cbd"
      },
      "execution_count": 341,
      "outputs": [
        {
          "output_type": "execute_result",
          "data": {
            "text/plain": [
              "               Rent\n",
              "count  4.746000e+03\n",
              "mean   3.499345e+04\n",
              "std    7.810641e+04\n",
              "min    1.200000e+03\n",
              "25%    1.000000e+04\n",
              "50%    1.600000e+04\n",
              "75%    3.300000e+04\n",
              "max    3.500000e+06"
            ],
            "text/html": [
              "\n",
              "  <div id=\"df-e8fa666b-66ab-4281-b492-6c66ca921db8\" class=\"colab-df-container\">\n",
              "    <div>\n",
              "<style scoped>\n",
              "    .dataframe tbody tr th:only-of-type {\n",
              "        vertical-align: middle;\n",
              "    }\n",
              "\n",
              "    .dataframe tbody tr th {\n",
              "        vertical-align: top;\n",
              "    }\n",
              "\n",
              "    .dataframe thead th {\n",
              "        text-align: right;\n",
              "    }\n",
              "</style>\n",
              "<table border=\"1\" class=\"dataframe\">\n",
              "  <thead>\n",
              "    <tr style=\"text-align: right;\">\n",
              "      <th></th>\n",
              "      <th>Rent</th>\n",
              "    </tr>\n",
              "  </thead>\n",
              "  <tbody>\n",
              "    <tr>\n",
              "      <th>count</th>\n",
              "      <td>4.746000e+03</td>\n",
              "    </tr>\n",
              "    <tr>\n",
              "      <th>mean</th>\n",
              "      <td>3.499345e+04</td>\n",
              "    </tr>\n",
              "    <tr>\n",
              "      <th>std</th>\n",
              "      <td>7.810641e+04</td>\n",
              "    </tr>\n",
              "    <tr>\n",
              "      <th>min</th>\n",
              "      <td>1.200000e+03</td>\n",
              "    </tr>\n",
              "    <tr>\n",
              "      <th>25%</th>\n",
              "      <td>1.000000e+04</td>\n",
              "    </tr>\n",
              "    <tr>\n",
              "      <th>50%</th>\n",
              "      <td>1.600000e+04</td>\n",
              "    </tr>\n",
              "    <tr>\n",
              "      <th>75%</th>\n",
              "      <td>3.300000e+04</td>\n",
              "    </tr>\n",
              "    <tr>\n",
              "      <th>max</th>\n",
              "      <td>3.500000e+06</td>\n",
              "    </tr>\n",
              "  </tbody>\n",
              "</table>\n",
              "</div>\n",
              "    <div class=\"colab-df-buttons\">\n",
              "\n",
              "  <div class=\"colab-df-container\">\n",
              "    <button class=\"colab-df-convert\" onclick=\"convertToInteractive('df-e8fa666b-66ab-4281-b492-6c66ca921db8')\"\n",
              "            title=\"Convert this dataframe to an interactive table.\"\n",
              "            style=\"display:none;\">\n",
              "\n",
              "  <svg xmlns=\"http://www.w3.org/2000/svg\" height=\"24px\" viewBox=\"0 -960 960 960\">\n",
              "    <path d=\"M120-120v-720h720v720H120Zm60-500h600v-160H180v160Zm220 220h160v-160H400v160Zm0 220h160v-160H400v160ZM180-400h160v-160H180v160Zm440 0h160v-160H620v160ZM180-180h160v-160H180v160Zm440 0h160v-160H620v160Z\"/>\n",
              "  </svg>\n",
              "    </button>\n",
              "\n",
              "  <style>\n",
              "    .colab-df-container {\n",
              "      display:flex;\n",
              "      gap: 12px;\n",
              "    }\n",
              "\n",
              "    .colab-df-convert {\n",
              "      background-color: #E8F0FE;\n",
              "      border: none;\n",
              "      border-radius: 50%;\n",
              "      cursor: pointer;\n",
              "      display: none;\n",
              "      fill: #1967D2;\n",
              "      height: 32px;\n",
              "      padding: 0 0 0 0;\n",
              "      width: 32px;\n",
              "    }\n",
              "\n",
              "    .colab-df-convert:hover {\n",
              "      background-color: #E2EBFA;\n",
              "      box-shadow: 0px 1px 2px rgba(60, 64, 67, 0.3), 0px 1px 3px 1px rgba(60, 64, 67, 0.15);\n",
              "      fill: #174EA6;\n",
              "    }\n",
              "\n",
              "    .colab-df-buttons div {\n",
              "      margin-bottom: 4px;\n",
              "    }\n",
              "\n",
              "    [theme=dark] .colab-df-convert {\n",
              "      background-color: #3B4455;\n",
              "      fill: #D2E3FC;\n",
              "    }\n",
              "\n",
              "    [theme=dark] .colab-df-convert:hover {\n",
              "      background-color: #434B5C;\n",
              "      box-shadow: 0px 1px 3px 1px rgba(0, 0, 0, 0.15);\n",
              "      filter: drop-shadow(0px 1px 2px rgba(0, 0, 0, 0.3));\n",
              "      fill: #FFFFFF;\n",
              "    }\n",
              "  </style>\n",
              "\n",
              "    <script>\n",
              "      const buttonEl =\n",
              "        document.querySelector('#df-e8fa666b-66ab-4281-b492-6c66ca921db8 button.colab-df-convert');\n",
              "      buttonEl.style.display =\n",
              "        google.colab.kernel.accessAllowed ? 'block' : 'none';\n",
              "\n",
              "      async function convertToInteractive(key) {\n",
              "        const element = document.querySelector('#df-e8fa666b-66ab-4281-b492-6c66ca921db8');\n",
              "        const dataTable =\n",
              "          await google.colab.kernel.invokeFunction('convertToInteractive',\n",
              "                                                    [key], {});\n",
              "        if (!dataTable) return;\n",
              "\n",
              "        const docLinkHtml = 'Like what you see? Visit the ' +\n",
              "          '<a target=\"_blank\" href=https://colab.research.google.com/notebooks/data_table.ipynb>data table notebook</a>'\n",
              "          + ' to learn more about interactive tables.';\n",
              "        element.innerHTML = '';\n",
              "        dataTable['output_type'] = 'display_data';\n",
              "        await google.colab.output.renderOutput(dataTable, element);\n",
              "        const docLink = document.createElement('div');\n",
              "        docLink.innerHTML = docLinkHtml;\n",
              "        element.appendChild(docLink);\n",
              "      }\n",
              "    </script>\n",
              "  </div>\n",
              "\n",
              "\n",
              "    <div id=\"df-839cb031-48b3-4410-ba73-c68a9ba9e8e3\">\n",
              "      <button class=\"colab-df-quickchart\" onclick=\"quickchart('df-839cb031-48b3-4410-ba73-c68a9ba9e8e3')\"\n",
              "                title=\"Suggest charts\"\n",
              "                style=\"display:none;\">\n",
              "\n",
              "<svg xmlns=\"http://www.w3.org/2000/svg\" height=\"24px\"viewBox=\"0 0 24 24\"\n",
              "     width=\"24px\">\n",
              "    <g>\n",
              "        <path d=\"M19 3H5c-1.1 0-2 .9-2 2v14c0 1.1.9 2 2 2h14c1.1 0 2-.9 2-2V5c0-1.1-.9-2-2-2zM9 17H7v-7h2v7zm4 0h-2V7h2v10zm4 0h-2v-4h2v4z\"/>\n",
              "    </g>\n",
              "</svg>\n",
              "      </button>\n",
              "\n",
              "<style>\n",
              "  .colab-df-quickchart {\n",
              "      --bg-color: #E8F0FE;\n",
              "      --fill-color: #1967D2;\n",
              "      --hover-bg-color: #E2EBFA;\n",
              "      --hover-fill-color: #174EA6;\n",
              "      --disabled-fill-color: #AAA;\n",
              "      --disabled-bg-color: #DDD;\n",
              "  }\n",
              "\n",
              "  [theme=dark] .colab-df-quickchart {\n",
              "      --bg-color: #3B4455;\n",
              "      --fill-color: #D2E3FC;\n",
              "      --hover-bg-color: #434B5C;\n",
              "      --hover-fill-color: #FFFFFF;\n",
              "      --disabled-bg-color: #3B4455;\n",
              "      --disabled-fill-color: #666;\n",
              "  }\n",
              "\n",
              "  .colab-df-quickchart {\n",
              "    background-color: var(--bg-color);\n",
              "    border: none;\n",
              "    border-radius: 50%;\n",
              "    cursor: pointer;\n",
              "    display: none;\n",
              "    fill: var(--fill-color);\n",
              "    height: 32px;\n",
              "    padding: 0;\n",
              "    width: 32px;\n",
              "  }\n",
              "\n",
              "  .colab-df-quickchart:hover {\n",
              "    background-color: var(--hover-bg-color);\n",
              "    box-shadow: 0 1px 2px rgba(60, 64, 67, 0.3), 0 1px 3px 1px rgba(60, 64, 67, 0.15);\n",
              "    fill: var(--button-hover-fill-color);\n",
              "  }\n",
              "\n",
              "  .colab-df-quickchart-complete:disabled,\n",
              "  .colab-df-quickchart-complete:disabled:hover {\n",
              "    background-color: var(--disabled-bg-color);\n",
              "    fill: var(--disabled-fill-color);\n",
              "    box-shadow: none;\n",
              "  }\n",
              "\n",
              "  .colab-df-spinner {\n",
              "    border: 2px solid var(--fill-color);\n",
              "    border-color: transparent;\n",
              "    border-bottom-color: var(--fill-color);\n",
              "    animation:\n",
              "      spin 1s steps(1) infinite;\n",
              "  }\n",
              "\n",
              "  @keyframes spin {\n",
              "    0% {\n",
              "      border-color: transparent;\n",
              "      border-bottom-color: var(--fill-color);\n",
              "      border-left-color: var(--fill-color);\n",
              "    }\n",
              "    20% {\n",
              "      border-color: transparent;\n",
              "      border-left-color: var(--fill-color);\n",
              "      border-top-color: var(--fill-color);\n",
              "    }\n",
              "    30% {\n",
              "      border-color: transparent;\n",
              "      border-left-color: var(--fill-color);\n",
              "      border-top-color: var(--fill-color);\n",
              "      border-right-color: var(--fill-color);\n",
              "    }\n",
              "    40% {\n",
              "      border-color: transparent;\n",
              "      border-right-color: var(--fill-color);\n",
              "      border-top-color: var(--fill-color);\n",
              "    }\n",
              "    60% {\n",
              "      border-color: transparent;\n",
              "      border-right-color: var(--fill-color);\n",
              "    }\n",
              "    80% {\n",
              "      border-color: transparent;\n",
              "      border-right-color: var(--fill-color);\n",
              "      border-bottom-color: var(--fill-color);\n",
              "    }\n",
              "    90% {\n",
              "      border-color: transparent;\n",
              "      border-bottom-color: var(--fill-color);\n",
              "    }\n",
              "  }\n",
              "</style>\n",
              "\n",
              "      <script>\n",
              "        async function quickchart(key) {\n",
              "          const quickchartButtonEl =\n",
              "            document.querySelector('#' + key + ' button');\n",
              "          quickchartButtonEl.disabled = true;  // To prevent multiple clicks.\n",
              "          quickchartButtonEl.classList.add('colab-df-spinner');\n",
              "          try {\n",
              "            const charts = await google.colab.kernel.invokeFunction(\n",
              "                'suggestCharts', [key], {});\n",
              "          } catch (error) {\n",
              "            console.error('Error during call to suggestCharts:', error);\n",
              "          }\n",
              "          quickchartButtonEl.classList.remove('colab-df-spinner');\n",
              "          quickchartButtonEl.classList.add('colab-df-quickchart-complete');\n",
              "        }\n",
              "        (() => {\n",
              "          let quickchartButtonEl =\n",
              "            document.querySelector('#df-839cb031-48b3-4410-ba73-c68a9ba9e8e3 button');\n",
              "          quickchartButtonEl.style.display =\n",
              "            google.colab.kernel.accessAllowed ? 'block' : 'none';\n",
              "        })();\n",
              "      </script>\n",
              "    </div>\n",
              "\n",
              "    </div>\n",
              "  </div>\n"
            ],
            "application/vnd.google.colaboratory.intrinsic+json": {
              "type": "dataframe",
              "summary": "{\n  \"name\": \"df\",\n  \"rows\": 8,\n  \"fields\": [\n    {\n      \"column\": \"Rent\",\n      \"properties\": {\n        \"dtype\": \"number\",\n        \"std\": 1228692.1877368717,\n        \"min\": 1200.0,\n        \"max\": 3500000.0,\n        \"num_unique_values\": 8,\n        \"samples\": [\n          34993.45132743363,\n          16000.0,\n          4746.0\n        ],\n        \"semantic_type\": \"\",\n        \"description\": \"\"\n      }\n    }\n  ]\n}"
            }
          },
          "metadata": {},
          "execution_count": 341
        }
      ]
    },
    {
      "cell_type": "code",
      "source": [
        "for col in df.columns:\n",
        "    print(f\"{col}: {df[col].nunique()} unique values\")"
      ],
      "metadata": {
        "colab": {
          "base_uri": "https://localhost:8080/"
        },
        "id": "4FeoLwnufdDh",
        "outputId": "0d139d9a-d265-4d93-c747-7dbd2fba1a13"
      },
      "execution_count": 342,
      "outputs": [
        {
          "output_type": "stream",
          "name": "stdout",
          "text": [
            "Posted On: 81 unique values\n",
            "BHK: 12 unique values\n",
            "Size: 588 unique values\n",
            "Floor: 433 unique values\n",
            "Area Type: 5 unique values\n",
            "Area Locality: 2017 unique values\n",
            "City: 360 unique values\n",
            "Furnishing Status: 3 unique values\n",
            "Tenant Preferred: 4051 unique values\n",
            "Bathroom: 13 unique values\n",
            "Point of Contact: 2 unique values\n",
            "Rent: 243 unique values\n"
          ]
        }
      ]
    },
    {
      "cell_type": "code",
      "source": [
        "df.duplicated().sum()"
      ],
      "metadata": {
        "colab": {
          "base_uri": "https://localhost:8080/"
        },
        "id": "ZMiS89IlwFvr",
        "outputId": "43c7c58e-af25-41b8-fc7f-ebf60c96ea15"
      },
      "execution_count": 343,
      "outputs": [
        {
          "output_type": "execute_result",
          "data": {
            "text/plain": [
              "np.int64(0)"
            ]
          },
          "metadata": {},
          "execution_count": 343
        }
      ]
    },
    {
      "cell_type": "markdown",
      "source": [
        "#'Posted On' column"
      ],
      "metadata": {
        "id": "ROez8InTPFmk"
      }
    },
    {
      "cell_type": "code",
      "source": [
        "df['Posted On'].unique()"
      ],
      "metadata": {
        "colab": {
          "base_uri": "https://localhost:8080/"
        },
        "id": "k4NpqcO9U-fG",
        "outputId": "729aad6e-8bed-43a8-ef6e-b42f56434ff9"
      },
      "execution_count": 344,
      "outputs": [
        {
          "output_type": "execute_result",
          "data": {
            "text/plain": [
              "array([nan, '2022-05-13', '2022-05-16', '2022-07-04', '2022-05-09',\n",
              "       '2022-04-29', '2022-06-21', '2022-06-07', '2022-05-23',\n",
              "       '2022-05-05', '2022-05-17', '2022-06-20', '2022-06-09',\n",
              "       '2022-06-14', '2022-05-28', '2022-05-22', '2022-06-25',\n",
              "       '2022-06-22', '2022-05-21', '2022-06-26', '2022-06-16',\n",
              "       '2022-06-29', '2022-05-10', '2022-05-12', '2022-05-31',\n",
              "       '2022-06-10', '2022-06-06', '2022-05-20', '2022-07-02',\n",
              "       '2022-07-03', '2022-04-23', '2022-05-14', '2022-05-27',\n",
              "       '2022-06-19', '2022-07-06', '2022-06-04', '2022-06-24',\n",
              "       '2022-05-18', '2022-05-30', '2022-06-18', '2022-06-08',\n",
              "       '2022-05-03', '2022-05-07', '2022-06-27', '2022-04-28',\n",
              "       '2022-06-28', '2022-06-23', '2022-06-13', '2022-05-15',\n",
              "       '2022-05-04', '2022-04-25', '2022-05-06', '2022-06-30',\n",
              "       '2022-07-01', '2022-06-17', '2022-05-26', '2022-05-11',\n",
              "       '2022-06-12', '2022-06-05', '2022-06-11', '2022-05-25',\n",
              "       '2022-06-01', '2022-04-30', '2022-05-24', '2022-05-19',\n",
              "       '2022-04-24', '2022-06-03', '2022-04-27', '2022-06-15',\n",
              "       '2022-05-08', '2022-04-26', '2022-06-02', '2022-05-29',\n",
              "       '2022-07-07', '2022-07-08', '2022-07-09', '2022-07-05',\n",
              "       '2022-04-13', '2022-05-02', '2022-05-01', '2022-07-10',\n",
              "       '2022-07-11'], dtype=object)"
            ]
          },
          "metadata": {},
          "execution_count": 344
        }
      ]
    },
    {
      "cell_type": "code",
      "source": [
        "#convert to date\n",
        "df['Posted On'] = pd.to_datetime(df['Posted On'], errors='coerce')\n",
        "\n",
        "df['Post_Age_Days'] = (df['Posted On'].max() - df['Posted On']).dt.days\n",
        "df['Post_Age_Days'].fillna(df['Post_Age_Days'].median(), inplace=True)\n",
        "df.drop('Posted On', axis=1, inplace=True)"
      ],
      "metadata": {
        "id": "eTuAlwskhKUo"
      },
      "execution_count": 345,
      "outputs": []
    },
    {
      "cell_type": "markdown",
      "source": [
        "#'City' column"
      ],
      "metadata": {
        "id": "1Uwbn6JOGURj"
      }
    },
    {
      "cell_type": "code",
      "source": [
        "df['City'].unique()"
      ],
      "metadata": {
        "colab": {
          "base_uri": "https://localhost:8080/"
        },
        "id": "pQI7qGLNGUry",
        "outputId": "fc746d1b-c59a-46d9-97ea-2e9dac99bd80"
      },
      "execution_count": 346,
      "outputs": [
        {
          "output_type": "execute_result",
          "data": {
            "text/plain": [
              "array(['India-! Kolkata', 'India-- Kolkata', nan, 'India-^ Kolkata',\n",
              "       'India-\\\\ Kolkata', 'India-% Kolkata', ',-9 Kolkata',\n",
              "       'India-/ Kolkata', '(-9 Kolkata', '^-9 Kolkata', '--9 Kolkata',\n",
              "       'India-* Kolkata', 'India-; Kolkata', 'India-. Kolkata',\n",
              "       '!-9 Kolkata', ':-9 Kolkata', '\\\\-9 Kolkata', ';-9 Kolkata',\n",
              "       'India-> Kolkata', '.-9 Kolkata', 'India-@ Kolkata',\n",
              "       'India-{ Kolkata', 'India-[ Kolkata', 'India-| Kolkata',\n",
              "       'India-} Kolkata', '\"-9 Kolkata', '|-9 Kolkata', \"'-9 Kolkata\",\n",
              "       '>-9 Kolkata', 'India-? Kolkata', '}-9 Kolkata', '#-9 Kolkata',\n",
              "       'India-$ Kolkata', ']-9 Kolkata', 'India-< Kolkata', '$-9 Kolkata',\n",
              "       'India-] Kolkata', '<-9 Kolkata', 'India-: Kolkata',\n",
              "       'India-# Kolkata', 'India-+ Kolkata', '+-9 Kolkata',\n",
              "       'India-& Kolkata', 'India-, Kolkata', '%-9 Kolkata',\n",
              "       'India-( Kolkata', 'India-_ Kolkata', '@-9 Kolkata', '=-9 Kolkata',\n",
              "       'India-\" Kolkata', '/-9 Kolkata', '_-9 Kolkata', '?-9 Kolkata',\n",
              "       ')-9 Kolkata', '*-9 Kolkata', 'India-= Kolkata', \"India-' Kolkata\",\n",
              "       '{-9 Kolkata', '&-9 Kolkata', '[-9 Kolkata', 'India-) Kolkata',\n",
              "       '=-9 Mumbai', '\\\\-9 Mumbai', 'India-- Mumbai', 'India-/ Mumbai',\n",
              "       ']-9 Mumbai', '%-9 Mumbai', 'India-$ Mumbai', 'India-* Mumbai',\n",
              "       'India-^ Mumbai', '?-9 Mumbai', '@-9 Mumbai', '+-9 Mumbai',\n",
              "       \"India-' Mumbai\", 'India-} Mumbai', '}-9 Mumbai', 'India-! Mumbai',\n",
              "       'India-+ Mumbai', 'India-> Mumbai', '*-9 Mumbai', 'India-( Mumbai',\n",
              "       'India-, Mumbai', 'India-& Mumbai', '>-9 Mumbai',\n",
              "       'India-\\\\ Mumbai', 'India-[ Mumbai', 'India-: Mumbai',\n",
              "       'India-; Mumbai', '<-9 Mumbai', '\"-9 Mumbai', 'India-< Mumbai',\n",
              "       'India-? Mumbai', ')-9 Mumbai', '^-9 Mumbai', 'India-_ Mumbai',\n",
              "       'India-) Mumbai', 'India-@ Mumbai', '|-9 Mumbai', '&-9 Mumbai',\n",
              "       'India-\" Mumbai', '/-9 Mumbai', '(-9 Mumbai', 'India-% Mumbai',\n",
              "       '!-9 Mumbai', '--9 Mumbai', '$-9 Mumbai', '[-9 Mumbai',\n",
              "       ',-9 Mumbai', ':-9 Mumbai', ';-9 Mumbai', 'India-# Mumbai',\n",
              "       'India-] Mumbai', 'India-{ Mumbai', 'India-= Mumbai', \"'-9 Mumbai\",\n",
              "       '_-9 Mumbai', 'India-| Mumbai', 'India-. Mumbai', '{-9 Mumbai',\n",
              "       '.-9 Mumbai', '#-9 Mumbai', 'India-, Bangalore',\n",
              "       'India-[ Bangalore', 'India-@ Bangalore', '_-9 Bangalore',\n",
              "       '%-9 Bangalore', 'India-& Bangalore', '$-9 Bangalore',\n",
              "       '?-9 Bangalore', '#-9 Bangalore', 'India-. Bangalore',\n",
              "       ')-9 Bangalore', 'India-; Bangalore', '/-9 Bangalore',\n",
              "       'India-# Bangalore', 'India-\\\\ Bangalore', 'India-* Bangalore',\n",
              "       '!-9 Bangalore', 'India-| Bangalore', '\\\\-9 Bangalore',\n",
              "       'India-< Bangalore', 'India-- Bangalore', 'India-/ Bangalore',\n",
              "       'India-\" Bangalore', '(-9 Bangalore', '--9 Bangalore',\n",
              "       'India-? Bangalore', ';-9 Bangalore', '&-9 Bangalore',\n",
              "       '+-9 Bangalore', 'India-( Bangalore', 'India-^ Bangalore',\n",
              "       '{-9 Bangalore', '|-9 Bangalore', '\"-9 Bangalore', \"'-9 Bangalore\",\n",
              "       'India-: Bangalore', 'India-> Bangalore', 'India-! Bangalore',\n",
              "       '>-9 Bangalore', 'India-} Bangalore', 'India-] Bangalore',\n",
              "       '*-9 Bangalore', 'India-= Bangalore', \"India-' Bangalore\",\n",
              "       'India-% Bangalore', 'India-$ Bangalore', '.-9 Bangalore',\n",
              "       'India-{ Bangalore', '<-9 Bangalore', '@-9 Bangalore',\n",
              "       ':-9 Bangalore', 'India-+ Bangalore', '^-9 Bangalore',\n",
              "       '=-9 Bangalore', '[-9 Bangalore', '}-9 Bangalore',\n",
              "       'India-_ Bangalore', 'India-) Bangalore', ']-9 Bangalore',\n",
              "       ',-9 Bangalore', 'India-[ Delhi', 'India-, Delhi', '_-9 Delhi',\n",
              "       'India-+ Delhi', 'India-! Delhi', '*-9 Delhi', \"'-9 Delhi\",\n",
              "       ';-9 Delhi', '=-9 Delhi', '\\\\-9 Delhi', '?-9 Delhi', '{-9 Delhi',\n",
              "       '/-9 Delhi', '$-9 Delhi', 'India-{ Delhi', '&-9 Delhi',\n",
              "       'India-? Delhi', ']-9 Delhi', 'India-$ Delhi', '#-9 Delhi',\n",
              "       'India-\" Delhi', 'India-@ Delhi', 'India-. Delhi', '@-9 Delhi',\n",
              "       'India-\\\\ Delhi', 'India-/ Delhi', 'India-^ Delhi',\n",
              "       'India-( Delhi', '!-9 Delhi', '[-9 Delhi', 'India-} Delhi',\n",
              "       ')-9 Delhi', '<-9 Delhi', 'India-] Delhi', '+-9 Delhi',\n",
              "       'India-< Delhi', 'India-& Delhi', 'India-; Delhi', '|-9 Delhi',\n",
              "       'India-_ Delhi', '.-9 Delhi', '(-9 Delhi', 'India-= Delhi',\n",
              "       'India-> Delhi', '%-9 Delhi', 'India-# Delhi', ',-9 Delhi',\n",
              "       'India-- Delhi', '>-9 Delhi', '^-9 Delhi', '--9 Delhi',\n",
              "       'India-* Delhi', \"India-' Delhi\", 'India-: Delhi', ':-9 Delhi',\n",
              "       'India-% Delhi', 'India-| Delhi', '}-9 Delhi', 'India-) Delhi',\n",
              "       '\"-9 Delhi', '%-9 Chennai', '^-9 Chennai', 'India-: Chennai',\n",
              "       ']-9 Chennai', '--9 Chennai', 'India-) Chennai', 'India-( Chennai',\n",
              "       'India-@ Chennai', '.-9 Chennai', '&-9 Chennai', '<-9 Chennai',\n",
              "       '_-9 Chennai', '?-9 Chennai', '}-9 Chennai', '*-9 Chennai',\n",
              "       'India-= Chennai', 'India-# Chennai', 'India-% Chennai',\n",
              "       'India-[ Chennai', 'India-! Chennai', 'India-} Chennai',\n",
              "       'India-< Chennai', 'India-^ Chennai', '@-9 Chennai',\n",
              "       'India-* Chennai', 'India-\\\\ Chennai', '(-9 Chennai',\n",
              "       'India-& Chennai', 'India-? Chennai', '=-9 Chennai',\n",
              "       'India-] Chennai', 'India-+ Chennai', ')-9 Chennai',\n",
              "       '\\\\-9 Chennai', '!-9 Chennai', 'India-{ Chennai', '\"-9 Chennai',\n",
              "       'India-; Chennai', 'India-> Chennai', '#-9 Chennai', \"'-9 Chennai\",\n",
              "       ';-9 Chennai', '/-9 Chennai', '>-9 Chennai', 'India-- Chennai',\n",
              "       ':-9 Chennai', 'India-. Chennai', '|-9 Chennai', '$-9 Chennai',\n",
              "       ',-9 Chennai', 'India-| Chennai', 'India-/ Chennai', '{-9 Chennai',\n",
              "       'India-\" Chennai', '+-9 Chennai', 'India-_ Chennai',\n",
              "       'India-$ Chennai', 'India-, Chennai', '[-9 Chennai',\n",
              "       \"India-' Chennai\", 'India-! Hyderabad', ';-9 Hyderabad',\n",
              "       '_-9 Hyderabad', 'India-[ Hyderabad', 'India-@ Hyderabad',\n",
              "       'India-% Hyderabad', 'India-( Hyderabad', '>-9 Hyderabad',\n",
              "       '(-9 Hyderabad', '\\\\-9 Hyderabad', 'India-< Hyderabad',\n",
              "       'India-\" Hyderabad', \"'-9 Hyderabad\", 'India-$ Hyderabad',\n",
              "       'India-- Hyderabad', 'India-= Hyderabad', ':-9 Hyderabad',\n",
              "       '|-9 Hyderabad', 'India-} Hyderabad', '%-9 Hyderabad',\n",
              "       '#-9 Hyderabad', ',-9 Hyderabad', 'India-] Hyderabad',\n",
              "       'India-. Hyderabad', '.-9 Hyderabad', 'India-? Hyderabad',\n",
              "       'India-+ Hyderabad', '@-9 Hyderabad', '+-9 Hyderabad',\n",
              "       'India-& Hyderabad', '^-9 Hyderabad', 'India-\\\\ Hyderabad',\n",
              "       '&-9 Hyderabad', '=-9 Hyderabad', 'India-| Hyderabad',\n",
              "       'India-; Hyderabad', '!-9 Hyderabad', '?-9 Hyderabad',\n",
              "       'India-> Hyderabad', ']-9 Hyderabad', 'India-* Hyderabad',\n",
              "       'India-^ Hyderabad', '}-9 Hyderabad', 'India-{ Hyderabad',\n",
              "       '--9 Hyderabad', \"India-' Hyderabad\", '{-9 Hyderabad',\n",
              "       '\"-9 Hyderabad', 'India-: Hyderabad', 'India-/ Hyderabad',\n",
              "       '<-9 Hyderabad', ')-9 Hyderabad', '/-9 Hyderabad',\n",
              "       'India-) Hyderabad', 'India-_ Hyderabad', 'India-# Hyderabad',\n",
              "       '[-9 Hyderabad', '*-9 Hyderabad', 'India-, Hyderabad',\n",
              "       '$-9 Hyderabad'], dtype=object)"
            ]
          },
          "metadata": {},
          "execution_count": 346
        }
      ]
    },
    {
      "cell_type": "code",
      "source": [
        "df['City'] = df['City'].str.split().str[-1]\n",
        "df['City'] = df['City'].fillna(\"Unknown\")\n",
        "df['City'].unique()"
      ],
      "metadata": {
        "colab": {
          "base_uri": "https://localhost:8080/"
        },
        "id": "3Jge-xqSGaru",
        "outputId": "c2b2d0d7-939d-4fd6-dc7a-58aa51f175d9"
      },
      "execution_count": 347,
      "outputs": [
        {
          "output_type": "execute_result",
          "data": {
            "text/plain": [
              "array(['Kolkata', 'Unknown', 'Mumbai', 'Bangalore', 'Delhi', 'Chennai',\n",
              "       'Hyderabad'], dtype=object)"
            ]
          },
          "metadata": {},
          "execution_count": 347
        }
      ]
    },
    {
      "cell_type": "markdown",
      "source": [
        "# 'BHK' Column"
      ],
      "metadata": {
        "id": "Uts6BBPlky7o"
      }
    },
    {
      "cell_type": "code",
      "source": [
        "df['BHK'].unique()"
      ],
      "metadata": {
        "colab": {
          "base_uri": "https://localhost:8080/"
        },
        "id": "pqOhUDO3X9d4",
        "outputId": "70600058-1f25-451e-f261-66c66e874740"
      },
      "execution_count": 348,
      "outputs": [
        {
          "output_type": "execute_result",
          "data": {
            "text/plain": [
              "array(['2.0', '2.0 room', '1.0', nan, '3.0', '1.0 room', '6.0', '4.0',\n",
              "       '3.0 room', '5.0', '5.0 room', '4.0 room', '6.0 room'],\n",
              "      dtype=object)"
            ]
          },
          "metadata": {},
          "execution_count": 348
        }
      ]
    },
    {
      "cell_type": "code",
      "source": [
        "df['BHK'] = df['BHK'].astype(str).str.extract(r'(\\d+)').astype(float)\n",
        "bhk_mode = df['BHK'].mode()[0]\n",
        "df['BHK'] = df.groupby('City')['BHK'].transform(lambda x: x.fillna(x.mode()[0] if not x.mode().empty else bhk_mode))\n",
        "df['BHK'].unique()"
      ],
      "metadata": {
        "colab": {
          "base_uri": "https://localhost:8080/"
        },
        "id": "b_ZNVQSyi2T8",
        "outputId": "4342644b-7c22-4ffb-9d79-60b98a2e85f3"
      },
      "execution_count": 349,
      "outputs": [
        {
          "output_type": "execute_result",
          "data": {
            "text/plain": [
              "array([2., 1., 3., 6., 4., 5.])"
            ]
          },
          "metadata": {},
          "execution_count": 349
        }
      ]
    },
    {
      "cell_type": "markdown",
      "source": [
        "# 'Size' Column"
      ],
      "metadata": {
        "id": "SzuW3IppmzcL"
      }
    },
    {
      "cell_type": "code",
      "source": [
        "df['Size'].unique()"
      ],
      "metadata": {
        "colab": {
          "base_uri": "https://localhost:8080/"
        },
        "id": "sTM9wv3ClOWb",
        "outputId": "5b24f4cb-e91c-4fcb-e3d4-55e7a01930d3"
      },
      "execution_count": 350,
      "outputs": [
        {
          "output_type": "execute_result",
          "data": {
            "text/plain": [
              "array(['1100.0', '800.0', '1000.0', '850.0', '600.0', '700.0', '250.0',\n",
              "       nan, '1200.0', '400.0', '375.0', '900.0', '1286.0', '2000.0',\n",
              "       '650.0', '300.0', '1600.0', '355.0', '350.0', '550.0', '500.0',\n",
              "       '630.0', '270.0', '1500.0', '1068.0', '150.0', '450.0', '720.0',\n",
              "       '680.0', '950.0', '1800.0', '480.0', '435.0', '1300.0', '1450.0',\n",
              "       '750.0', '220.0', '20.0', '200.0', '840.0', '740.0', '490.0',\n",
              "       '280.0', '120.0', '1220.0', '670.0', '240.0', '2200.0', '685.0',\n",
              "       '44.0', '392.0', '710.0', '1400.0', '160.0', '1250.0', '839.0',\n",
              "       '230.0', '620.0', '1350.0Square Feet', '723.0', '320.0', '2160.0',\n",
              "       '1700.0', '130.0', '505.0', '4000.0', '1190.0', '1012.0', '812.0',\n",
              "       '420.0', '1750.0', '830.0', '1050.0', '960.0', '756.0', '288.0',\n",
              "       '1600.0Square Feet', '986.0', '322.0', '957.0', '1430.0', '1320.0',\n",
              "       '650.0Square Feet', '475.0', '550.0Square Feet', '570.0', '460.0',\n",
              "       '530.0', '850.0Square Feet', '558.0', '175.0', '721.0', '2210.0',\n",
              "       '675.0', '1880.0', '640.0', '518.0', '777.0', '2308.0', '890.0',\n",
              "       '888.0', '275.0', '424.0', '610.0', '722.0', '1150.0', '470.0',\n",
              "       '410.0', '435.0Square Feet', '932.0', '560.0', '3000.0', '751.0',\n",
              "       '696.0', '2500.0', '715.0', '1337.0', '737.0', '760.0', '365.0',\n",
              "       '2000.0Square Feet', '1330.0', '2600.0', '1783.0', '565.0',\n",
              "       '1080.0', '825.0', '1545.0', '780.0', '695.0', '1095.0', '790.0',\n",
              "       '661.0', '1350.0', '330.0', '925.0', '1105.0', '1460.0', '415.0',\n",
              "       '1755.0', '628.0', '1064.0', '845.0', '1915.0', '807.0',\n",
              "       '1100.0Square Feet', '380.0', '428.0', '1550.0', '860.0', '433.0',\n",
              "       '1225.0', '1650.0', '305.0', '690.0', '635.0', '935.0', '535.0',\n",
              "       '3700.0', '1208.0', '3200.0', '225.0', '1900.0', '905.0', '430.0',\n",
              "       '795.0', '575.0', '656.0', '719.0', '3064.0', '3400.0', '980.0',\n",
              "       '413.0', '1850.0', '1705.0', '1355.0', '610.0Square Feet', '471.0',\n",
              "       '1528.0Square Feet', '1030.0', '583.0', '806.0', '390.0', '994.0',\n",
              "       '520.0', '2750.0', '2424.0', '724.0', '1076.0', '485.0', '385.0',\n",
              "       '704.0', '755.0', '700.0Square Feet', '625.0', '805.0', '742.0',\n",
              "       '1265.0', '325.0', '1233.0', '2120.0', '1937.0', '596.0', '1950.0',\n",
              "       '510.0', '1260.0', '770.0', '3900.0', '660.0Square Feet', '694.0',\n",
              "       '1740.0', '472.0', '421.0', '831.0', '753.0', '2800.0', '1197.0',\n",
              "       '880.0', '1088.0', '2650.0', '975.0', '1325.0', '785.0', '1016.0',\n",
              "       '508.0', '623.0', '1358.0', '1255.0', '450.0Square Feet', '870.0',\n",
              "       '1691.0', '615.0', '663.0', '1432.0', '425.0', '649.0', '882.0',\n",
              "       '1710.0', '555.0', '854.0', '1130.0', '495.0', '407.0', '1092.0',\n",
              "       '669.0', '725.0', '1110.0Square Feet', '1110.0', '999.0', '1256.0',\n",
              "       '889.0', '660.0', '434.0', '1121.0', '937.0', '360.0', '379.0',\n",
              "       '440.0', '582.0', '444.0', '1617.0', '836.0', '585.0', '2046.0',\n",
              "       '730.0', '229.0', '910.0', '1648.0', '820.0', '771.0', '465.0',\n",
              "       '1073.0', '310.0Square Feet', '1649.0', '1560.0',\n",
              "       '4500.0Square Feet', '1425.0Square Feet', '1375.0', '920.0',\n",
              "       '265.0', '1663.0', '377.0', '2080.0', '965.0', '2100.0Square Feet',\n",
              "       '1380.0', '540.0', '500.0Square Feet', '970.0', '340.0', '641.0',\n",
              "       '810.0', '875.0', '758.0', '2880.0', '1962.0', '590.0', '1120.0',\n",
              "       '2729.0', '1040.0', '1403.0', '2608.0', '1400.0Square Feet',\n",
              "       '1045.0', '1021.0', '1155.0', '2900.0', '3150.0',\n",
              "       '100.0Square Feet', '1771.0', '773.0', '1840.0', '990.0', '1360.0',\n",
              "       '1757.0', '1281.0', '3500.0', '1221.0', '416.0', '976.0', '1387.0',\n",
              "       '1020.0', '400.0Square Feet', '1645.0', '3276.0', '1893.0',\n",
              "       '1296.0', '455.0', '1066.0', '2150.0', '2110.0', '1025.0',\n",
              "       '1180.0', '580.0', '904.0', '1252.0', '144.0', '1005.0', '1274.0',\n",
              "       '1480.0', '4500.0', '600.0Square Feet', '1115.0', '1278.0',\n",
              "       '4105.0', '1055.0', '800.0Square Feet', '1603.0',\n",
              "       '1900.0Square Feet', '894.0', '2400.0', '1200.0Square Feet',\n",
              "       '1680.0', '1475.0', '2100.0', '4341.0', '846.0', '110.0', '5700.0',\n",
              "       '1760.0', '775.0', '445.0', '2710.0', '1768.0', '1280.0', '532.0',\n",
              "       '1465.0', '940.0', '1789.0', '1618.0', '1580.0', '4550.0',\n",
              "       '1333.0', '1875.0', '1065.0', '1660.0', '625.0Square Feet',\n",
              "       '100.0', '1305.0', '1188.0', '2390.0', '1788.0', '1520.0',\n",
              "       '1464.0', '180.0', '140.0', '70.0', '60.0', '170.0', '48.0',\n",
              "       '1901.0', '145.0', '25.0', '892.0', '80.0', '45.0', '75.0',\n",
              "       '1125.0', '50.0', '63.0', '1440.0', '55.0', '65.0', '2300.0',\n",
              "       '84.0', '90.0', '446.0', '125.0', '2700.0', '30.0', '497.0',\n",
              "       '95.0', '272.0', '585.0Square Feet', '2925.0', '96.0',\n",
              "       '1800.0Square Feet', '545.0', '165.0', '1872.0', '40.0', '42.0',\n",
              "       '3800.0', '1205.0', '950.0Square Feet', '900.0Square Feet', '77.0',\n",
              "       '1000.0Square Feet', '1428.0', '2117.0', '1462.0', '674.0',\n",
              "       '1540.0', '985.0', '930.0', '1234.0', '1162.0', '1425.0', '1145.0',\n",
              "       '3600.0', '898.0', '2036.0', '115.0', '2064.0', '1557.0', '917.0',\n",
              "       '579.0Square Feet', '1920.0', '1002.0', '778.0', '1567.0',\n",
              "       '1113.0', '1175.0', '618.0', '705.0', '901.0', '1340.0', '1246.0',\n",
              "       '1530.0', '1780.0', '1500.0Square Feet', '1402.0Square Feet',\n",
              "       '1484.0', '1065.0Square Feet', '1140.0', '1525.0', '2550.0',\n",
              "       '1132.0', '3300.0', '1785.0', '985.0Square Feet', '1975.0',\n",
              "       '914.0', '1170.0Square Feet', '1444.0', '1503.0', '966.0',\n",
              "       '2900.0Square Feet', '1570.0', '1157.0', '1153.0', '506.0',\n",
              "       '749.0', '1107.0', '1235.0', '1415.0', '281.0', '6000.0', '926.0',\n",
              "       '2280.0', '826.0', '1050.0Square Feet', '745.0', '833.0', '809.0',\n",
              "       '1062.0', '2240.0', '1424.0', '1075.0', '2317.0', '1109.0',\n",
              "       '1290.0', '939.0', '1610.0', '1420.0', '1152.0', '1144.0',\n",
              "       '1903.0', '1383.0', '1912.0', '1146.0', '909.0',\n",
              "       '1570.0Square Feet', '750.0Square Feet', '1270.0', '1625.0',\n",
              "       '1535.0', '647.0', '2061.0', '919.0', '2210.0Square Feet',\n",
              "       '1815.0', '2430.0', '1210.0', '1010.0', '2290.0', '1473.0',\n",
              "       '4050.0Square Feet', '2520.0', '242.0', '1725.0', '878.0',\n",
              "       '1956.0', '1955.0', '1090.0', '1070.0', '3133.0', '2050.0',\n",
              "       '1565.0', '1135.0', '3698.0', '2405.0', '1248.0', '3115.0',\n",
              "       '1374.0', '927.0', '562.0', '1720.0', '103.0', '1730.0', '133.0',\n",
              "       '1315.0', '1230.0', '4761.0', '1970.0', '1940.0', '1170.0',\n",
              "       '167.0', '933.0', '1960.0', '1275.0', '1285.0', '1742.0', '2235.0',\n",
              "       '1283.0', '3455.0', '3050.0', '7000.0', '1606.0', '2352.0',\n",
              "       '2671.0', '1156.0', '67.0', '1060.0', '2780.0', '1685.0', '853.0',\n",
              "       '2310.0', '1965.0', '1834.0', '10.0', '3789.0', '1160.0', '1422.0',\n",
              "       '1124.0', '4200.0', '3250.0', '214.0', '855.0'], dtype=object)"
            ]
          },
          "metadata": {},
          "execution_count": 350
        }
      ]
    },
    {
      "cell_type": "code",
      "source": [
        "df['Size'] = df['Size'].astype(str).str.extract('(\\d+\\.?\\d*)')[0].astype(float)\n",
        "df.loc[df['Size'] < 100, 'Size'] = np.nan\n",
        "df['Size'] = df.groupby(['City', 'BHK'])['Size'].transform(\n",
        "    lambda x: x.fillna(x.median())\n",
        ")\n",
        "df['Size'].fillna(df['Size'].median(), inplace=True)"
      ],
      "metadata": {
        "id": "Hh0SxgTCmX8d"
      },
      "execution_count": 351,
      "outputs": []
    },
    {
      "cell_type": "code",
      "source": [
        "df['Size'].describe()"
      ],
      "metadata": {
        "colab": {
          "base_uri": "https://localhost:8080/",
          "height": 335
        },
        "id": "ZFju8ORPY_ss",
        "outputId": "7032db7a-51ba-43ad-e4a6-f23f3a29a115"
      },
      "execution_count": 352,
      "outputs": [
        {
          "output_type": "execute_result",
          "data": {
            "text/plain": [
              "count    4746.000000\n",
              "mean      973.101981\n",
              "std       584.659906\n",
              "min       100.000000\n",
              "25%       600.000000\n",
              "50%       850.000000\n",
              "75%      1200.000000\n",
              "max      7000.000000\n",
              "Name: Size, dtype: float64"
            ],
            "text/html": [
              "<div>\n",
              "<style scoped>\n",
              "    .dataframe tbody tr th:only-of-type {\n",
              "        vertical-align: middle;\n",
              "    }\n",
              "\n",
              "    .dataframe tbody tr th {\n",
              "        vertical-align: top;\n",
              "    }\n",
              "\n",
              "    .dataframe thead th {\n",
              "        text-align: right;\n",
              "    }\n",
              "</style>\n",
              "<table border=\"1\" class=\"dataframe\">\n",
              "  <thead>\n",
              "    <tr style=\"text-align: right;\">\n",
              "      <th></th>\n",
              "      <th>Size</th>\n",
              "    </tr>\n",
              "  </thead>\n",
              "  <tbody>\n",
              "    <tr>\n",
              "      <th>count</th>\n",
              "      <td>4746.000000</td>\n",
              "    </tr>\n",
              "    <tr>\n",
              "      <th>mean</th>\n",
              "      <td>973.101981</td>\n",
              "    </tr>\n",
              "    <tr>\n",
              "      <th>std</th>\n",
              "      <td>584.659906</td>\n",
              "    </tr>\n",
              "    <tr>\n",
              "      <th>min</th>\n",
              "      <td>100.000000</td>\n",
              "    </tr>\n",
              "    <tr>\n",
              "      <th>25%</th>\n",
              "      <td>600.000000</td>\n",
              "    </tr>\n",
              "    <tr>\n",
              "      <th>50%</th>\n",
              "      <td>850.000000</td>\n",
              "    </tr>\n",
              "    <tr>\n",
              "      <th>75%</th>\n",
              "      <td>1200.000000</td>\n",
              "    </tr>\n",
              "    <tr>\n",
              "      <th>max</th>\n",
              "      <td>7000.000000</td>\n",
              "    </tr>\n",
              "  </tbody>\n",
              "</table>\n",
              "</div><br><label><b>dtype:</b> float64</label>"
            ]
          },
          "metadata": {},
          "execution_count": 352
        }
      ]
    },
    {
      "cell_type": "code",
      "source": [
        "# Remove outliers in Size column using IQR\n",
        "Q1 = df['Size'].quantile(0.25)\n",
        "Q3 = df['Size'].quantile(0.75)\n",
        "IQR = Q3 - Q1\n",
        "\n",
        "lower_bound = Q1 - 1.5 * IQR\n",
        "upper_bound = Q3 + 1.5 * IQR\n",
        "\n",
        "print(((df['Size'] < lower_bound) | (df['Size'] > upper_bound)).sum())"
      ],
      "metadata": {
        "colab": {
          "base_uri": "https://localhost:8080/"
        },
        "id": "MIzMUfa6ZoK6",
        "outputId": "446d83f0-8328-4863-bf7b-7ffec189dd82"
      },
      "execution_count": 353,
      "outputs": [
        {
          "output_type": "stream",
          "name": "stdout",
          "text": [
            "187\n"
          ]
        }
      ]
    },
    {
      "cell_type": "code",
      "source": [
        "# Remove rows with outliers\n",
        "df = df[(df['Size'] >= lower_bound) & (df['Size'] <= upper_bound)]"
      ],
      "metadata": {
        "id": "PgM1blsNaSjA"
      },
      "execution_count": 354,
      "outputs": []
    },
    {
      "cell_type": "markdown",
      "source": [
        "#'Floor' column"
      ],
      "metadata": {
        "id": "6wuhiXV1nVIK"
      }
    },
    {
      "cell_type": "code",
      "source": [
        "df['Floor'].unique()"
      ],
      "metadata": {
        "colab": {
          "base_uri": "https://localhost:8080/"
        },
        "id": "lk13c8vmnVgo",
        "outputId": "68dd32d2-1250-49d4-bd44-b5cd27c81182"
      },
      "execution_count": 355,
      "outputs": [
        {
          "output_type": "execute_result",
          "data": {
            "text/plain": [
              "array([nan, '1 out of 3', '1 out of 2', 'Ground out of 1',\n",
              "       'Ground out of 4', '1 out of 4', '1 out of 1', 'Ground out of 2',\n",
              "       'Ground out of 3', '2 out of 3', '4 out of 5', '2 out of 2',\n",
              "       '2 out of 5', '3 out of 3', '5 out of 5', '4 out of 4',\n",
              "       '7 out of 8', '2 out of 4', '3 out of 4', '1 out of 5',\n",
              "       'Ground out of 6', 'Upper Basement out of 4', 'Ground out of 5',\n",
              "       '3 out of 5', '11 out of 19', '5 out of 10', '11 out of 14',\n",
              "       'Lower Basement out of 2', '2 out of 7', '4 out of 10',\n",
              "       '7 out of 10', '2 out of 13', '6 out of 7', '4 out of 7',\n",
              "       '14 out of 14', '43 out of 78', '2 out of 8', '13 out of 18',\n",
              "       '18 out of 24', '3 out of 7', '11 out of 21', '14 out of 23',\n",
              "       '19 out of 24', '3 out of 21', '8 out of 8', '6 out of 12',\n",
              "       '4 out of 58', '60 out of 66', '34 out of 48', '5 out of 8',\n",
              "       '14 out of 40', '5 out of 7', '26 out of 44', '1 out of 8',\n",
              "       '25 out of 42', '25 out of 41', '53 out of 78', 'Ground out of 7',\n",
              "       '14 out of 20', '16 out of 23', '16 out of 21', '10 out of 32',\n",
              "       '4 out of 8', '12 out of 24', '32 out of 41', '13 out of 21',\n",
              "       '7 out of 41', '28 out of 30', '13 out of 15', '6 out of 21',\n",
              "       '8 out of 16', '5 out of 19', '3 out of 11', '17 out of 42',\n",
              "       '8 out of 28', '9 out of 15', '14 out of 22', '18 out of 40',\n",
              "       '9 out of 17', '12 out of 45', '25 out of 35', '4 out of 14',\n",
              "       '2 out of 6', '5 out of 14', 'Upper Basement out of 9',\n",
              "       '5 out of 20', 'Upper Basement out of 40', '5 out of 18',\n",
              "       '34 out of 58', '4 out of 6', '20 out of 22', '12 out of 19',\n",
              "       '15 out of 18', '65 out of 78', '6 out of 16', '17 out of 22',\n",
              "       '6 out of 24', '40 out of 75', '19 out of 38', '11 out of 28',\n",
              "       '17 out of 24', '15 out of 19', '9 out of 10', '7 out of 12',\n",
              "       '8 out of 20', '11 out of 13', '9 out of 19', '37 out of 51',\n",
              "       '6 out of 11', '8 out of 15', '11 out of 20', '10 out of 23',\n",
              "       'Upper Basement out of 10', '4 out of 11', '17 out of 43',\n",
              "       '7 out of 22', '14 out of 18', '8 out of 12', '3 out of 18',\n",
              "       '7 out of 7', '14 out of 58', '18 out of 23', '19 out of 19',\n",
              "       '9 out of 20', '13 out of 14', '11 out of 22',\n",
              "       'Upper Basement out of 30', '12 out of 14', '2 out of 12',\n",
              "       '9 out of 22', '7 out of 14', '10 out of 22', '10 out of 12',\n",
              "       '5 out of 13', '7 out of 21', '14 out of 21', '17 out of 25',\n",
              "       '9 out of 14', '8 out of 27', '3 out of 6', '17 out of 20',\n",
              "       '18 out of 22', '9 out of 30', '3 out of 8', '17 out of 27',\n",
              "       '4 out of 12', '10 out of 24', '65 out of 76', '1 out of 7',\n",
              "       '7 out of 9', '17 out of 60', '18 out of 25', '5 out of 11',\n",
              "       '15 out of 17', '15 out of 23', '5 out of 17', '3 out of 28',\n",
              "       '16 out of 32', '6 out of 10', '21 out of 22', '7 out of 13',\n",
              "       '9 out of 12', '15 out of 32', '18 out of 27', '15 out of 16',\n",
              "       '15 out of 15', '6 out of 14', '16 out of 36', '30 out of 44',\n",
              "       '30 out of 37', '2 out of 9', '12 out of 22', '4 out of 9',\n",
              "       '5 out of 6', '6 out of 18', '35 out of 55', '30 out of 45',\n",
              "       '5 out of 12', '5 out of 9', '13 out of 23', '9 out of 38',\n",
              "       '8 out of 13', '11 out of 24', '9 out of 16', '9 out of 31',\n",
              "       '7 out of 15', '12 out of 13', '3 out of 9', '22 out of 30',\n",
              "       '3 out of 58', '4 out of 15', '6 out of 8', '5 out of 22',\n",
              "       '15 out of 22', '19 out of 21', '9 out of 40', 'Ground out of 8',\n",
              "       '44 out of 75', '8 out of 17', '3 out of 14', '12 out of 31',\n",
              "       '26 out of 42', '2 out of 45', '12 out of 68', '17 out of 36',\n",
              "       '10 out of 16', '41 out of 41', '14 out of 68', '14 out of 17',\n",
              "       '12 out of 20', '18 out of 32', '10 out of 25', '17 out of 29',\n",
              "       '10 out of 31', '10 out of 15', '13 out of 16', '8 out of 10',\n",
              "       '18 out of 21', '27 out of 58', '1 out of 6', '19 out of 25',\n",
              "       '3 out of 15', '25 out of 43', '10 out of 14', '8 out of 14',\n",
              "       '11 out of 12', '10 out of 13', '18 out of 19', '10 out of 20',\n",
              "       '12 out of 29', '10 out of 18', 'Lower Basement out of 18',\n",
              "       '48 out of 68', '12 out of 42', '15 out of 20', '16 out of 22',\n",
              "       '35 out of 68', '18 out of 30', '11 out of 31', '18 out of 26',\n",
              "       '12 out of 27', '16 out of 20', '16 out of 37',\n",
              "       'Upper Basement out of 7', '6 out of 15', '11 out of 27',\n",
              "       '11 out of 23', '3 out of 12', '29 out of 35', '15 out of 36',\n",
              "       '15 out of 25', '15 out of 28', '8 out of 11', '6 out of 20',\n",
              "       '23 out of 23', '5 out of 15', '16 out of 18', '2 out of 10',\n",
              "       '40 out of 50', '34 out of 40', 'Upper Basement out of 22',\n",
              "       '8 out of 23', '5 out of 21', '20 out of 32', '9 out of 18',\n",
              "       '10 out of 37', '25 out of 48', '4 out of 22', '11 out of 11',\n",
              "       '5 out of 23', '11 out of 18', '4 out of 20', '3 out of 13',\n",
              "       '30 out of 58', '10 out of 11', '15 out of 43', '7 out of 16',\n",
              "       'Upper Basement out of 16', '9 out of 55', '11 out of 25',\n",
              "       '7 out of 27', '14 out of 27', '16 out of 27', '25 out of 50',\n",
              "       '6 out of 30', '21 out of 23', '20 out of 41', '3 out of 62',\n",
              "       '4 out of 13', '7 out of 17', '12 out of 21', '15 out of 58',\n",
              "       '36 out of 45', '9 out of 28', '22 out of 52', '10 out of 19',\n",
              "       '21 out of 58', '48 out of 54', '11 out of 15', '8 out of 18',\n",
              "       '19 out of 22', '15 out of 37', '7 out of 23', '2 out of 17',\n",
              "       '5 out of 16', '76 out of 78', '3 out of 10', '20 out of 27',\n",
              "       '8 out of 36', '14 out of 33', '21 out of 21', '12 out of 25',\n",
              "       '18 out of 29', '14 out of 35', '20 out of 37', '9 out of 35',\n",
              "       '27 out of 27', '18 out of 20', '13 out of 40', '15 out of 60',\n",
              "       '9 out of 11', '8 out of 22', '27 out of 45', '19 out of 20',\n",
              "       '32 out of 46', '19 out of 85', '3 out of 23', '34 out of 46',\n",
              "       '15 out of 24', '4 out of 27', '19 out of 27', '35 out of 60',\n",
              "       '9 out of 21', '21 out of 33', '2 out of 24', '18 out of 33',\n",
              "       '1 out of 10', '60 out of 71', '24 out of 60', '16 out of 38',\n",
              "       '8 out of 45', 'Ground out of 16', '8 out of 32', '10 out of 10',\n",
              "       '7 out of 19', '23 out of 40', '6 out of 17', 'Ground out of 12',\n",
              "       '6 out of 9', 'Ground out of 18', '20 out of 25', '9 out of 32',\n",
              "       '26 out of 32', '12 out of 16', '17 out of 18', '19 out of 26',\n",
              "       '17 out of 19', '14 out of 30', '8 out of 9', '1 out of 9',\n",
              "       '12 out of 23', '1 out of 24', '1 out of 12', '3', '17 out of 31',\n",
              "       '15 out of 29', '3 out of 17', '14 out of 29', '13 out of 17',\n",
              "       '1 out of 14', '2 out of 14', '7 out of 11', '24 out of 31',\n",
              "       '4 out of 16', '2 out of 16', '7 out of 18', '9 out of 13',\n",
              "       '1 out of 11', '6 out of 29', '9 out of 9', '12 out of 18',\n",
              "       '1 out of 15', 'Ground out of 14', '19 out of 31', '1 out of 16',\n",
              "       '25 out of 32', '11 out of 16', '11 out of 17',\n",
              "       'Upper Basement out of 3', '7 out of 30', 'Ground out of 13',\n",
              "       '8 out of 19', '2 out of 25', '4 out of 30', '13 out of 25',\n",
              "       '23 out of 35', '5 out of 34', '20 out of 35', '1', '4 out of 31',\n",
              "       '4 out of 17', '11 out of 35', 'Ground out of 15',\n",
              "       'Ground out of 27', '15 out of 30', '12 out of 30',\n",
              "       'Upper Basement out of 2', '6 out of 13', '23 out of 34'],\n",
              "      dtype=object)"
            ]
          },
          "metadata": {},
          "execution_count": 355
        }
      ]
    },
    {
      "cell_type": "code",
      "source": [
        "def parse_floor(val):\n",
        "    if pd.isna(val):\n",
        "        return (np.nan, np.nan)\n",
        "\n",
        "    val = str(val)\n",
        "\n",
        "    if \"Ground\" in val:\n",
        "        total = val.split(\"out of\")[-1].strip() if \"out of\" in val else np.nan\n",
        "        return (0, float(total) if total.isdigit() else np.nan)\n",
        "\n",
        "    if \"Lower Basement\" in val:\n",
        "        total = val.split(\"out of\")[-1].strip() if \"out of\" in val else np.nan\n",
        "        return (-2, float(total) if total.isdigit() else np.nan)\n",
        "\n",
        "    if \"Upper Basement\" in val:\n",
        "        total = val.split(\"out of\")[-1].strip() if \"out of\" in val else np.nan\n",
        "        return (-1, float(total) if total.isdigit() else np.nan)\n",
        "\n",
        "    if \"out of\" in val:\n",
        "        floor, total = val.split(\"out of\")\n",
        "        return (float(floor.strip()), float(total.strip()))\n",
        "\n",
        "    if val.isdigit():\n",
        "        return (float(val), np.nan)\n",
        "\n",
        "    return (np.nan, np.nan)\n",
        "\n",
        "#applying the function\n",
        "df[['Floor_num', 'Total_floors']] = df['Floor'].apply(parse_floor).apply(pd.Series)"
      ],
      "metadata": {
        "id": "3Ly8o_fOogy7"
      },
      "execution_count": 356,
      "outputs": []
    },
    {
      "cell_type": "code",
      "source": [
        "df[['Floor_num', 'Total_floors']].isna().sum()"
      ],
      "metadata": {
        "colab": {
          "base_uri": "https://localhost:8080/",
          "height": 147
        },
        "id": "HlQCpMTSRBpK",
        "outputId": "369515b2-70cb-4de7-f5b4-8300fa31f832"
      },
      "execution_count": 357,
      "outputs": [
        {
          "output_type": "execute_result",
          "data": {
            "text/plain": [
              "Floor_num       754\n",
              "Total_floors    757\n",
              "dtype: int64"
            ],
            "text/html": [
              "<div>\n",
              "<style scoped>\n",
              "    .dataframe tbody tr th:only-of-type {\n",
              "        vertical-align: middle;\n",
              "    }\n",
              "\n",
              "    .dataframe tbody tr th {\n",
              "        vertical-align: top;\n",
              "    }\n",
              "\n",
              "    .dataframe thead th {\n",
              "        text-align: right;\n",
              "    }\n",
              "</style>\n",
              "<table border=\"1\" class=\"dataframe\">\n",
              "  <thead>\n",
              "    <tr style=\"text-align: right;\">\n",
              "      <th></th>\n",
              "      <th>0</th>\n",
              "    </tr>\n",
              "  </thead>\n",
              "  <tbody>\n",
              "    <tr>\n",
              "      <th>Floor_num</th>\n",
              "      <td>754</td>\n",
              "    </tr>\n",
              "    <tr>\n",
              "      <th>Total_floors</th>\n",
              "      <td>757</td>\n",
              "    </tr>\n",
              "  </tbody>\n",
              "</table>\n",
              "</div><br><label><b>dtype:</b> int64</label>"
            ]
          },
          "metadata": {},
          "execution_count": 357
        }
      ]
    },
    {
      "cell_type": "code",
      "source": [
        "df['Floor_num']=pd.to_numeric(df['Floor_num'],errors='coerce')\n",
        "df['Total_floors']=pd.to_numeric(df['Total_floors'],errors='coerce')\n",
        "\n",
        "# Impute Total_floors with the median per City\n",
        "df['Total_floors'] = df.groupby('City')['Total_floors'].transform(\n",
        "    lambda x: x.fillna(x.median())\n",
        ")\n",
        "\n",
        "# Impute Floor_num with the median per (City, Total_floors)\n",
        "df['Floor_num'] = df.groupby(['City','Total_floors'])['Floor_num'].transform(\n",
        "    lambda x: x.fillna(x.median())\n",
        ")\n",
        "\n",
        "#Fill remaining NaN values with the overall median\n",
        "df['Floor_num'].fillna(df['Floor_num'].median(), inplace=True)\n",
        "df['Total_floors'].fillna(df['Total_floors'].median(), inplace=True)\n",
        "\n",
        "# Create a relative floor feature (Floor number / Total floors)\n",
        "df['RelativeFloor'] = df['Floor_num'] / df['Total_floors']\n",
        "\n",
        "# Drop the original Floor column\n",
        "df.drop(columns=['Floor'], inplace=True)"
      ],
      "metadata": {
        "id": "xRboNz3b6fK6"
      },
      "execution_count": 358,
      "outputs": []
    },
    {
      "cell_type": "code",
      "source": [
        "df['Floor_num'].unique()"
      ],
      "metadata": {
        "colab": {
          "base_uri": "https://localhost:8080/"
        },
        "id": "LBmnkNCifZBs",
        "outputId": "c4157699-3cbb-40ec-9953-fd179f182f17"
      },
      "execution_count": 359,
      "outputs": [
        {
          "output_type": "execute_result",
          "data": {
            "text/plain": [
              "array([ 0.,  1.,  2.,  4.,  3.,  5.,  7., -1., 11., -2.,  6., 14., 43.,\n",
              "       13., 10., 18., 19.,  8., 60., 34., 26., 25., 53., 16., 12., 32.,\n",
              "       28., 17.,  9., 20., 15., 65., 40., 37., 21., 30., 35., 22., 44.,\n",
              "       41., 27., 48., 29., 23., 36., 76., 24.])"
            ]
          },
          "metadata": {},
          "execution_count": 359
        }
      ]
    },
    {
      "cell_type": "markdown",
      "source": [
        "#'Area Type' column"
      ],
      "metadata": {
        "id": "gAadzu47_tjM"
      }
    },
    {
      "cell_type": "code",
      "source": [
        "df['Area Type'].unique()"
      ],
      "metadata": {
        "colab": {
          "base_uri": "https://localhost:8080/"
        },
        "id": "8iHRLOpN_Ep9",
        "outputId": "35f6200f-edd5-4f50-dd51-d3eeb0704af5"
      },
      "execution_count": 360,
      "outputs": [
        {
          "output_type": "execute_result",
          "data": {
            "text/plain": [
              "array(['Super Area', 'Carpet Area', nan, 'CARPET AREA', 'SUPER AREA',\n",
              "       'Built Area'], dtype=object)"
            ]
          },
          "metadata": {},
          "execution_count": 360
        }
      ]
    },
    {
      "cell_type": "code",
      "source": [
        "df['Area Type'].value_counts()"
      ],
      "metadata": {
        "colab": {
          "base_uri": "https://localhost:8080/",
          "height": 272
        },
        "id": "kJL0qbah_7eY",
        "outputId": "395f05d0-c4c4-44f9-8620-5684edad8c7f"
      },
      "execution_count": 361,
      "outputs": [
        {
          "output_type": "execute_result",
          "data": {
            "text/plain": [
              "Area Type\n",
              "Super Area     1920\n",
              "Carpet Area    1700\n",
              "CARPET AREA      25\n",
              "SUPER AREA        7\n",
              "Built Area        2\n",
              "Name: count, dtype: int64"
            ],
            "text/html": [
              "<div>\n",
              "<style scoped>\n",
              "    .dataframe tbody tr th:only-of-type {\n",
              "        vertical-align: middle;\n",
              "    }\n",
              "\n",
              "    .dataframe tbody tr th {\n",
              "        vertical-align: top;\n",
              "    }\n",
              "\n",
              "    .dataframe thead th {\n",
              "        text-align: right;\n",
              "    }\n",
              "</style>\n",
              "<table border=\"1\" class=\"dataframe\">\n",
              "  <thead>\n",
              "    <tr style=\"text-align: right;\">\n",
              "      <th></th>\n",
              "      <th>count</th>\n",
              "    </tr>\n",
              "    <tr>\n",
              "      <th>Area Type</th>\n",
              "      <th></th>\n",
              "    </tr>\n",
              "  </thead>\n",
              "  <tbody>\n",
              "    <tr>\n",
              "      <th>Super Area</th>\n",
              "      <td>1920</td>\n",
              "    </tr>\n",
              "    <tr>\n",
              "      <th>Carpet Area</th>\n",
              "      <td>1700</td>\n",
              "    </tr>\n",
              "    <tr>\n",
              "      <th>CARPET AREA</th>\n",
              "      <td>25</td>\n",
              "    </tr>\n",
              "    <tr>\n",
              "      <th>SUPER AREA</th>\n",
              "      <td>7</td>\n",
              "    </tr>\n",
              "    <tr>\n",
              "      <th>Built Area</th>\n",
              "      <td>2</td>\n",
              "    </tr>\n",
              "  </tbody>\n",
              "</table>\n",
              "</div><br><label><b>dtype:</b> int64</label>"
            ]
          },
          "metadata": {},
          "execution_count": 361
        }
      ]
    },
    {
      "cell_type": "code",
      "source": [
        "df['Area Type'].isna().sum()"
      ],
      "metadata": {
        "colab": {
          "base_uri": "https://localhost:8080/"
        },
        "id": "c58avwZKAEsU",
        "outputId": "49061484-c04b-483c-fd75-5f11369dfd3e"
      },
      "execution_count": 362,
      "outputs": [
        {
          "output_type": "execute_result",
          "data": {
            "text/plain": [
              "np.int64(905)"
            ]
          },
          "metadata": {},
          "execution_count": 362
        }
      ]
    },
    {
      "cell_type": "code",
      "source": [
        "df['Area Type'] = df['Area Type'].str.strip().str.title()\n",
        "# Drop Built Area rows\n",
        "df = df[df['Area Type'] != 'Built Area']\n",
        "df['Area Type'].value_counts()"
      ],
      "metadata": {
        "colab": {
          "base_uri": "https://localhost:8080/",
          "height": 178
        },
        "id": "XY6ARoYDBETs",
        "outputId": "c42398ac-74da-46a2-8890-6d606c21f310"
      },
      "execution_count": 363,
      "outputs": [
        {
          "output_type": "execute_result",
          "data": {
            "text/plain": [
              "Area Type\n",
              "Super Area     1927\n",
              "Carpet Area    1725\n",
              "Name: count, dtype: int64"
            ],
            "text/html": [
              "<div>\n",
              "<style scoped>\n",
              "    .dataframe tbody tr th:only-of-type {\n",
              "        vertical-align: middle;\n",
              "    }\n",
              "\n",
              "    .dataframe tbody tr th {\n",
              "        vertical-align: top;\n",
              "    }\n",
              "\n",
              "    .dataframe thead th {\n",
              "        text-align: right;\n",
              "    }\n",
              "</style>\n",
              "<table border=\"1\" class=\"dataframe\">\n",
              "  <thead>\n",
              "    <tr style=\"text-align: right;\">\n",
              "      <th></th>\n",
              "      <th>count</th>\n",
              "    </tr>\n",
              "    <tr>\n",
              "      <th>Area Type</th>\n",
              "      <th></th>\n",
              "    </tr>\n",
              "  </thead>\n",
              "  <tbody>\n",
              "    <tr>\n",
              "      <th>Super Area</th>\n",
              "      <td>1927</td>\n",
              "    </tr>\n",
              "    <tr>\n",
              "      <th>Carpet Area</th>\n",
              "      <td>1725</td>\n",
              "    </tr>\n",
              "  </tbody>\n",
              "</table>\n",
              "</div><br><label><b>dtype:</b> int64</label>"
            ]
          },
          "metadata": {},
          "execution_count": 363
        }
      ]
    },
    {
      "cell_type": "code",
      "source": [
        "# Fill NaN with 'Unknown'\n",
        "df['Area Type'] = df['Area Type'].fillna('Unknown')\n",
        "df['Area Type'].isna().sum()"
      ],
      "metadata": {
        "colab": {
          "base_uri": "https://localhost:8080/"
        },
        "id": "U77oxfUgByiO",
        "outputId": "b6e739bc-aa55-4413-e1b5-a03fc3bc3da8"
      },
      "execution_count": 364,
      "outputs": [
        {
          "output_type": "execute_result",
          "data": {
            "text/plain": [
              "np.int64(0)"
            ]
          },
          "metadata": {},
          "execution_count": 364
        }
      ]
    },
    {
      "cell_type": "markdown",
      "source": [
        "#'Area Locality' column"
      ],
      "metadata": {
        "id": "oHUjGfkeCo5w"
      }
    },
    {
      "cell_type": "code",
      "source": [
        "df['Area Locality'].isna().sum()"
      ],
      "metadata": {
        "colab": {
          "base_uri": "https://localhost:8080/"
        },
        "id": "bCLDqrTYCpSD",
        "outputId": "9e4984ca-b487-4cb9-ecc5-b1b72351a570"
      },
      "execution_count": 365,
      "outputs": [
        {
          "output_type": "execute_result",
          "data": {
            "text/plain": [
              "np.int64(571)"
            ]
          },
          "metadata": {},
          "execution_count": 365
        }
      ]
    },
    {
      "cell_type": "code",
      "source": [
        "df['Area Locality'].nunique()"
      ],
      "metadata": {
        "colab": {
          "base_uri": "https://localhost:8080/"
        },
        "id": "OMjsuipDDopg",
        "outputId": "72772af9-8b97-4e05-af0d-2bc0efcde551"
      },
      "execution_count": 366,
      "outputs": [
        {
          "output_type": "execute_result",
          "data": {
            "text/plain": [
              "1962"
            ]
          },
          "metadata": {},
          "execution_count": 366
        }
      ]
    },
    {
      "cell_type": "code",
      "source": [
        "df['Area Locality'].value_counts().head(10)"
      ],
      "metadata": {
        "colab": {
          "base_uri": "https://localhost:8080/",
          "height": 429
        },
        "id": "G-6b9EsKDwML",
        "outputId": "ba8126f9-531b-403a-bd38-12e94572a185"
      },
      "execution_count": 367,
      "outputs": [
        {
          "output_type": "execute_result",
          "data": {
            "text/plain": [
              "Area Locality\n",
              "Bandra West        32\n",
              "Electronic City    23\n",
              "Gachibowli         23\n",
              "Miyapur, NH 9      19\n",
              "Chembur            18\n",
              "Kondapur           18\n",
              "Velachery          16\n",
              "Madipakkam         16\n",
              "Medavakkam         16\n",
              "K R Puram          16\n",
              "Name: count, dtype: int64"
            ],
            "text/html": [
              "<div>\n",
              "<style scoped>\n",
              "    .dataframe tbody tr th:only-of-type {\n",
              "        vertical-align: middle;\n",
              "    }\n",
              "\n",
              "    .dataframe tbody tr th {\n",
              "        vertical-align: top;\n",
              "    }\n",
              "\n",
              "    .dataframe thead th {\n",
              "        text-align: right;\n",
              "    }\n",
              "</style>\n",
              "<table border=\"1\" class=\"dataframe\">\n",
              "  <thead>\n",
              "    <tr style=\"text-align: right;\">\n",
              "      <th></th>\n",
              "      <th>count</th>\n",
              "    </tr>\n",
              "    <tr>\n",
              "      <th>Area Locality</th>\n",
              "      <th></th>\n",
              "    </tr>\n",
              "  </thead>\n",
              "  <tbody>\n",
              "    <tr>\n",
              "      <th>Bandra West</th>\n",
              "      <td>32</td>\n",
              "    </tr>\n",
              "    <tr>\n",
              "      <th>Electronic City</th>\n",
              "      <td>23</td>\n",
              "    </tr>\n",
              "    <tr>\n",
              "      <th>Gachibowli</th>\n",
              "      <td>23</td>\n",
              "    </tr>\n",
              "    <tr>\n",
              "      <th>Miyapur, NH 9</th>\n",
              "      <td>19</td>\n",
              "    </tr>\n",
              "    <tr>\n",
              "      <th>Chembur</th>\n",
              "      <td>18</td>\n",
              "    </tr>\n",
              "    <tr>\n",
              "      <th>Kondapur</th>\n",
              "      <td>18</td>\n",
              "    </tr>\n",
              "    <tr>\n",
              "      <th>Velachery</th>\n",
              "      <td>16</td>\n",
              "    </tr>\n",
              "    <tr>\n",
              "      <th>Madipakkam</th>\n",
              "      <td>16</td>\n",
              "    </tr>\n",
              "    <tr>\n",
              "      <th>Medavakkam</th>\n",
              "      <td>16</td>\n",
              "    </tr>\n",
              "    <tr>\n",
              "      <th>K R Puram</th>\n",
              "      <td>16</td>\n",
              "    </tr>\n",
              "  </tbody>\n",
              "</table>\n",
              "</div><br><label><b>dtype:</b> int64</label>"
            ]
          },
          "metadata": {},
          "execution_count": 367
        }
      ]
    },
    {
      "cell_type": "code",
      "source": [
        "# Fill NaN with 'Unknown'\n",
        "df['Area Locality'] = df['Area Type'].fillna('Unknown')"
      ],
      "metadata": {
        "id": "RZy-iCLVEpdH"
      },
      "execution_count": 368,
      "outputs": []
    },
    {
      "cell_type": "markdown",
      "source": [
        "#'Furnishing Status' column"
      ],
      "metadata": {
        "id": "8twQBWxDFQI1"
      }
    },
    {
      "cell_type": "code",
      "source": [
        "df['Furnishing Status'].unique()"
      ],
      "metadata": {
        "colab": {
          "base_uri": "https://localhost:8080/"
        },
        "id": "YIksf1wpGz0p",
        "outputId": "4d91a1e8-427e-4c8c-c246-a2faff347fdd"
      },
      "execution_count": 369,
      "outputs": [
        {
          "output_type": "execute_result",
          "data": {
            "text/plain": [
              "array(['Unfurnished', 'Semi-Furnished', 'Furnished', nan], dtype=object)"
            ]
          },
          "metadata": {},
          "execution_count": 369
        }
      ]
    },
    {
      "cell_type": "code",
      "source": [
        "df['Furnishing Status'].value_counts()"
      ],
      "metadata": {
        "colab": {
          "base_uri": "https://localhost:8080/",
          "height": 209
        },
        "id": "8-RP6r7PG9bV",
        "outputId": "468fa0bb-43dc-4c54-c582-cf4a8b003557"
      },
      "execution_count": 370,
      "outputs": [
        {
          "output_type": "execute_result",
          "data": {
            "text/plain": [
              "Furnishing Status\n",
              "Semi-Furnished    1806\n",
              "Unfurnished       1521\n",
              "Furnished          549\n",
              "Name: count, dtype: int64"
            ],
            "text/html": [
              "<div>\n",
              "<style scoped>\n",
              "    .dataframe tbody tr th:only-of-type {\n",
              "        vertical-align: middle;\n",
              "    }\n",
              "\n",
              "    .dataframe tbody tr th {\n",
              "        vertical-align: top;\n",
              "    }\n",
              "\n",
              "    .dataframe thead th {\n",
              "        text-align: right;\n",
              "    }\n",
              "</style>\n",
              "<table border=\"1\" class=\"dataframe\">\n",
              "  <thead>\n",
              "    <tr style=\"text-align: right;\">\n",
              "      <th></th>\n",
              "      <th>count</th>\n",
              "    </tr>\n",
              "    <tr>\n",
              "      <th>Furnishing Status</th>\n",
              "      <th></th>\n",
              "    </tr>\n",
              "  </thead>\n",
              "  <tbody>\n",
              "    <tr>\n",
              "      <th>Semi-Furnished</th>\n",
              "      <td>1806</td>\n",
              "    </tr>\n",
              "    <tr>\n",
              "      <th>Unfurnished</th>\n",
              "      <td>1521</td>\n",
              "    </tr>\n",
              "    <tr>\n",
              "      <th>Furnished</th>\n",
              "      <td>549</td>\n",
              "    </tr>\n",
              "  </tbody>\n",
              "</table>\n",
              "</div><br><label><b>dtype:</b> int64</label>"
            ]
          },
          "metadata": {},
          "execution_count": 370
        }
      ]
    },
    {
      "cell_type": "code",
      "source": [
        "df['Furnishing Status'].isna().sum()"
      ],
      "metadata": {
        "colab": {
          "base_uri": "https://localhost:8080/"
        },
        "id": "P2PNORX4HBix",
        "outputId": "2001c05d-1bec-41c5-e054-7e83c719c247"
      },
      "execution_count": 371,
      "outputs": [
        {
          "output_type": "execute_result",
          "data": {
            "text/plain": [
              "np.int64(681)"
            ]
          },
          "metadata": {},
          "execution_count": 371
        }
      ]
    },
    {
      "cell_type": "code",
      "source": [
        "# Compare rent distribution for rows with and without Furnishing Status\n",
        "df.groupby(df['Furnishing Status'].isna())['Rent'].mean()"
      ],
      "metadata": {
        "colab": {
          "base_uri": "https://localhost:8080/",
          "height": 178
        },
        "id": "22IMnbFgMJIO",
        "outputId": "b455ddf5-e99e-4729-da8f-f49ae84807a8"
      },
      "execution_count": 372,
      "outputs": [
        {
          "output_type": "execute_result",
          "data": {
            "text/plain": [
              "Furnishing Status\n",
              "False    29493.705624\n",
              "True     29523.960352\n",
              "Name: Rent, dtype: float64"
            ],
            "text/html": [
              "<div>\n",
              "<style scoped>\n",
              "    .dataframe tbody tr th:only-of-type {\n",
              "        vertical-align: middle;\n",
              "    }\n",
              "\n",
              "    .dataframe tbody tr th {\n",
              "        vertical-align: top;\n",
              "    }\n",
              "\n",
              "    .dataframe thead th {\n",
              "        text-align: right;\n",
              "    }\n",
              "</style>\n",
              "<table border=\"1\" class=\"dataframe\">\n",
              "  <thead>\n",
              "    <tr style=\"text-align: right;\">\n",
              "      <th></th>\n",
              "      <th>Rent</th>\n",
              "    </tr>\n",
              "    <tr>\n",
              "      <th>Furnishing Status</th>\n",
              "      <th></th>\n",
              "    </tr>\n",
              "  </thead>\n",
              "  <tbody>\n",
              "    <tr>\n",
              "      <th>False</th>\n",
              "      <td>29493.705624</td>\n",
              "    </tr>\n",
              "    <tr>\n",
              "      <th>True</th>\n",
              "      <td>29523.960352</td>\n",
              "    </tr>\n",
              "  </tbody>\n",
              "</table>\n",
              "</div><br><label><b>dtype:</b> float64</label>"
            ]
          },
          "metadata": {},
          "execution_count": 372
        }
      ]
    },
    {
      "cell_type": "code",
      "source": [
        "df['Furnishing Status'] = df['Furnishing Status'].fillna('Unknown')"
      ],
      "metadata": {
        "id": "67rHOkpPMRFL"
      },
      "execution_count": 373,
      "outputs": []
    },
    {
      "cell_type": "markdown",
      "source": [
        "#'Tenant Preferred' column"
      ],
      "metadata": {
        "id": "4A5PzSssWiyU"
      }
    },
    {
      "cell_type": "code",
      "source": [
        "df['Tenant Preferred'].unique()"
      ],
      "metadata": {
        "colab": {
          "base_uri": "https://localhost:8080/"
        },
        "id": "GPRgh2hXNt9B",
        "outputId": "0c8fe642-4caa-4a5e-c1d3-2294ff6f93e2"
      },
      "execution_count": 374,
      "outputs": [
        {
          "output_type": "execute_result",
          "data": {
            "text/plain": [
              "array(['Bach^elors/Fam.ily', 'Bachelors\\\\/Family*', nan, ...,\n",
              "       '!Bachelors+/Family', '$Family%', 'Bachelo%rs:'], dtype=object)"
            ]
          },
          "metadata": {},
          "execution_count": 374
        }
      ]
    },
    {
      "cell_type": "code",
      "source": [
        "df['Tenant Preferred'].value_counts().head(20)"
      ],
      "metadata": {
        "colab": {
          "base_uri": "https://localhost:8080/",
          "height": 742
        },
        "id": "NYbN8fmaYZ2a",
        "outputId": "1f12a60f-a968-4d56-add0-11c0f65387e9"
      },
      "execution_count": 375,
      "outputs": [
        {
          "output_type": "execute_result",
          "data": {
            "text/plain": [
              "Tenant Preferred\n",
              "Bachelors/F|am/ily    2\n",
              "Ba]chelors/Fami'ly    2\n",
              "Ba'che(lors/Family    2\n",
              "Bachelors/Fami-ly\\    2\n",
              "B]achelor@s/Family    2\n",
              "Bachelo;r;s           2\n",
              "Family/&              2\n",
              "*Bachelo}rs/Family    2\n",
              "Bachelor;s/Fam&ily    2\n",
              "-Bache!lors           2\n",
              "Bache&lo_rs/Family    2\n",
              ")Bachelors/           2\n",
              "Fa|&mily              2\n",
              "Bachelo\"rs/F^amily    2\n",
              "B<(achelors           2\n",
              "Bachel\"o>rs           2\n",
              "Bac!helo%rs/Family    2\n",
              "\\Bachelors/Fami?ly    2\n",
              "B:achel|ors           2\n",
              "Bac(helors'/Family    2\n",
              "Name: count, dtype: int64"
            ],
            "text/html": [
              "<div>\n",
              "<style scoped>\n",
              "    .dataframe tbody tr th:only-of-type {\n",
              "        vertical-align: middle;\n",
              "    }\n",
              "\n",
              "    .dataframe tbody tr th {\n",
              "        vertical-align: top;\n",
              "    }\n",
              "\n",
              "    .dataframe thead th {\n",
              "        text-align: right;\n",
              "    }\n",
              "</style>\n",
              "<table border=\"1\" class=\"dataframe\">\n",
              "  <thead>\n",
              "    <tr style=\"text-align: right;\">\n",
              "      <th></th>\n",
              "      <th>count</th>\n",
              "    </tr>\n",
              "    <tr>\n",
              "      <th>Tenant Preferred</th>\n",
              "      <th></th>\n",
              "    </tr>\n",
              "  </thead>\n",
              "  <tbody>\n",
              "    <tr>\n",
              "      <th>Bachelors/F|am/ily</th>\n",
              "      <td>2</td>\n",
              "    </tr>\n",
              "    <tr>\n",
              "      <th>Ba]chelors/Fami'ly</th>\n",
              "      <td>2</td>\n",
              "    </tr>\n",
              "    <tr>\n",
              "      <th>Ba'che(lors/Family</th>\n",
              "      <td>2</td>\n",
              "    </tr>\n",
              "    <tr>\n",
              "      <th>Bachelors/Fami-ly\\</th>\n",
              "      <td>2</td>\n",
              "    </tr>\n",
              "    <tr>\n",
              "      <th>B]achelor@s/Family</th>\n",
              "      <td>2</td>\n",
              "    </tr>\n",
              "    <tr>\n",
              "      <th>Bachelo;r;s</th>\n",
              "      <td>2</td>\n",
              "    </tr>\n",
              "    <tr>\n",
              "      <th>Family/&amp;</th>\n",
              "      <td>2</td>\n",
              "    </tr>\n",
              "    <tr>\n",
              "      <th>*Bachelo}rs/Family</th>\n",
              "      <td>2</td>\n",
              "    </tr>\n",
              "    <tr>\n",
              "      <th>Bachelor;s/Fam&amp;ily</th>\n",
              "      <td>2</td>\n",
              "    </tr>\n",
              "    <tr>\n",
              "      <th>-Bache!lors</th>\n",
              "      <td>2</td>\n",
              "    </tr>\n",
              "    <tr>\n",
              "      <th>Bache&amp;lo_rs/Family</th>\n",
              "      <td>2</td>\n",
              "    </tr>\n",
              "    <tr>\n",
              "      <th>)Bachelors/</th>\n",
              "      <td>2</td>\n",
              "    </tr>\n",
              "    <tr>\n",
              "      <th>Fa|&amp;mily</th>\n",
              "      <td>2</td>\n",
              "    </tr>\n",
              "    <tr>\n",
              "      <th>Bachelo\"rs/F^amily</th>\n",
              "      <td>2</td>\n",
              "    </tr>\n",
              "    <tr>\n",
              "      <th>B&lt;(achelors</th>\n",
              "      <td>2</td>\n",
              "    </tr>\n",
              "    <tr>\n",
              "      <th>Bachel\"o&gt;rs</th>\n",
              "      <td>2</td>\n",
              "    </tr>\n",
              "    <tr>\n",
              "      <th>Bac!helo%rs/Family</th>\n",
              "      <td>2</td>\n",
              "    </tr>\n",
              "    <tr>\n",
              "      <th>\\Bachelors/Fami?ly</th>\n",
              "      <td>2</td>\n",
              "    </tr>\n",
              "    <tr>\n",
              "      <th>B:achel|ors</th>\n",
              "      <td>2</td>\n",
              "    </tr>\n",
              "    <tr>\n",
              "      <th>Bac(helors'/Family</th>\n",
              "      <td>2</td>\n",
              "    </tr>\n",
              "  </tbody>\n",
              "</table>\n",
              "</div><br><label><b>dtype:</b> int64</label>"
            ]
          },
          "metadata": {},
          "execution_count": 375
        }
      ]
    },
    {
      "cell_type": "code",
      "source": [
        "df['Tenant Preferred'] = df['Tenant Preferred'].astype(str)\n",
        "\n",
        "df['Tenant Preferred'] = df['Tenant Preferred'].apply(lambda x: re.sub(r'[^a-zA-Z\\s/]', '', x).lower().strip())\n",
        "\n",
        "df['Tenant Preferred'] = df['Tenant Preferred'].apply(lambda x:\n",
        "    'Bachelors/Family' if 'bachelor' in x and 'family' in x else\n",
        "    'Bachelors' if 'bachelor' in x else\n",
        "    'Family' if 'family' in x else\n",
        "    'Unknown'\n",
        ")"
      ],
      "metadata": {
        "id": "OSDCUxdlXJJb"
      },
      "execution_count": 376,
      "outputs": []
    },
    {
      "cell_type": "code",
      "source": [
        "df['Tenant Preferred'].unique()"
      ],
      "metadata": {
        "colab": {
          "base_uri": "https://localhost:8080/"
        },
        "id": "M2xZoFZIXesQ",
        "outputId": "58b56892-0ff6-46f6-cb08-13a90cdccc84"
      },
      "execution_count": 377,
      "outputs": [
        {
          "output_type": "execute_result",
          "data": {
            "text/plain": [
              "array(['Bachelors/Family', 'Unknown', 'Bachelors', 'Family'], dtype=object)"
            ]
          },
          "metadata": {},
          "execution_count": 377
        }
      ]
    },
    {
      "cell_type": "markdown",
      "source": [
        "#'Bathroom' column"
      ],
      "metadata": {
        "id": "yV5WtakyahAA"
      }
    },
    {
      "cell_type": "code",
      "source": [
        "df['Bathroom'].unique()"
      ],
      "metadata": {
        "colab": {
          "base_uri": "https://localhost:8080/"
        },
        "id": "qAHm7p5hahX8",
        "outputId": "5b06e1c4-9493-4de9-d4f3-057fe7933ad4"
      },
      "execution_count": 378,
      "outputs": [
        {
          "output_type": "execute_result",
          "data": {
            "text/plain": [
              "array(['2.0', nan, '1.0', '1.0 Bathrooms', '2.0 Bathrooms', '3.0', '4.0',\n",
              "       '5.0', '3.0 Bathrooms', '5.0 Bathrooms', '6.0', '4.0 Bathrooms',\n",
              "       '10.0'], dtype=object)"
            ]
          },
          "metadata": {},
          "execution_count": 378
        }
      ]
    },
    {
      "cell_type": "code",
      "source": [
        "df['Bathroom'] = df['Bathroom'].astype(str)\n",
        "\n",
        "df['Bathroom'] = df['Bathroom'].apply(lambda x: re.sub(r'[^0-9\\.]', '', x).strip())\n",
        "\n",
        "df['Bathroom'] = df['Bathroom'].replace('', np.nan)\n",
        "\n",
        "df['Bathroom'] = df['Bathroom'].astype(float)\n",
        "df['Bathroom'].unique()"
      ],
      "metadata": {
        "colab": {
          "base_uri": "https://localhost:8080/"
        },
        "id": "JC8uIZoBH3sI",
        "outputId": "379e9557-5f27-4cca-86ef-f70e9d85a939"
      },
      "execution_count": 379,
      "outputs": [
        {
          "output_type": "execute_result",
          "data": {
            "text/plain": [
              "array([ 2., nan,  1.,  3.,  4.,  5.,  6., 10.])"
            ]
          },
          "metadata": {},
          "execution_count": 379
        }
      ]
    },
    {
      "cell_type": "code",
      "source": [
        "df['Bathroom'].isna().sum(), df.shape[0]"
      ],
      "metadata": {
        "colab": {
          "base_uri": "https://localhost:8080/"
        },
        "id": "rIg1mO5pIr0u",
        "outputId": "28e1b21d-6c7e-4120-d954-6115afc3750b"
      },
      "execution_count": 380,
      "outputs": [
        {
          "output_type": "execute_result",
          "data": {
            "text/plain": [
              "(np.int64(521), 4557)"
            ]
          },
          "metadata": {},
          "execution_count": 380
        }
      ]
    },
    {
      "cell_type": "code",
      "source": [
        "df.groupby('BHK')['Bathroom'].mean()"
      ],
      "metadata": {
        "colab": {
          "base_uri": "https://localhost:8080/",
          "height": 303
        },
        "id": "FIVd4X47KSgw",
        "outputId": "3af6570d-9b8b-491e-82ab-7951ada43b3b"
      },
      "execution_count": 381,
      "outputs": [
        {
          "output_type": "execute_result",
          "data": {
            "text/plain": [
              "BHK\n",
              "1.0    1.152225\n",
              "2.0    1.831442\n",
              "3.0    2.699176\n",
              "4.0    3.691176\n",
              "5.0    3.600000\n",
              "6.0    4.000000\n",
              "Name: Bathroom, dtype: float64"
            ],
            "text/html": [
              "<div>\n",
              "<style scoped>\n",
              "    .dataframe tbody tr th:only-of-type {\n",
              "        vertical-align: middle;\n",
              "    }\n",
              "\n",
              "    .dataframe tbody tr th {\n",
              "        vertical-align: top;\n",
              "    }\n",
              "\n",
              "    .dataframe thead th {\n",
              "        text-align: right;\n",
              "    }\n",
              "</style>\n",
              "<table border=\"1\" class=\"dataframe\">\n",
              "  <thead>\n",
              "    <tr style=\"text-align: right;\">\n",
              "      <th></th>\n",
              "      <th>Bathroom</th>\n",
              "    </tr>\n",
              "    <tr>\n",
              "      <th>BHK</th>\n",
              "      <th></th>\n",
              "    </tr>\n",
              "  </thead>\n",
              "  <tbody>\n",
              "    <tr>\n",
              "      <th>1.0</th>\n",
              "      <td>1.152225</td>\n",
              "    </tr>\n",
              "    <tr>\n",
              "      <th>2.0</th>\n",
              "      <td>1.831442</td>\n",
              "    </tr>\n",
              "    <tr>\n",
              "      <th>3.0</th>\n",
              "      <td>2.699176</td>\n",
              "    </tr>\n",
              "    <tr>\n",
              "      <th>4.0</th>\n",
              "      <td>3.691176</td>\n",
              "    </tr>\n",
              "    <tr>\n",
              "      <th>5.0</th>\n",
              "      <td>3.600000</td>\n",
              "    </tr>\n",
              "    <tr>\n",
              "      <th>6.0</th>\n",
              "      <td>4.000000</td>\n",
              "    </tr>\n",
              "  </tbody>\n",
              "</table>\n",
              "</div><br><label><b>dtype:</b> float64</label>"
            ]
          },
          "metadata": {},
          "execution_count": 381
        }
      ]
    },
    {
      "cell_type": "code",
      "source": [
        "df[df['Bathroom'] > df['BHK'] + 2]"
      ],
      "metadata": {
        "colab": {
          "base_uri": "https://localhost:8080/",
          "height": 347
        },
        "id": "FBNUlCgLg64m",
        "outputId": "52445551-9cb1-4637-ef56-4a3ae2ebaf0a"
      },
      "execution_count": 382,
      "outputs": [
        {
          "output_type": "execute_result",
          "data": {
            "text/plain": [
              "      BHK    Size    Area Type Area Locality       City Furnishing Status  \\\n",
              "651   2.0  1545.0  Carpet Area   Carpet Area     Mumbai    Semi-Furnished   \n",
              "746   2.0  1286.0  Carpet Area   Carpet Area    Unknown       Unfurnished   \n",
              "982   1.0   680.0      Unknown       Unknown     Mumbai         Furnished   \n",
              "3019  3.0  1408.5  Carpet Area   Carpet Area    Chennai           Unknown   \n",
              "4185  1.0   500.0   Super Area    Super Area  Hyderabad       Unfurnished   \n",
              "\n",
              "      Tenant Preferred  Bathroom Point of Contact    Rent  Post_Age_Days  \\\n",
              "651             Family       5.0              NaN  250000           18.0   \n",
              "746   Bachelors/Family       5.0    Contact Agent  100000           13.0   \n",
              "982   Bachelors/Family       4.0    Contact Agent   40000           14.0   \n",
              "3019  Bachelors/Family       6.0    Contact Owner   20000           31.0   \n",
              "4185  Bachelors/Family      10.0    Contact Owner  200000           35.0   \n",
              "\n",
              "      Floor_num  Total_floors  RelativeFloor  \n",
              "651        65.0          78.0       0.833333  \n",
              "746         7.0          21.0       0.333333  \n",
              "982         5.0           7.0       0.714286  \n",
              "3019        1.0           3.0       0.333333  \n",
              "4185        0.0           4.0       0.000000  "
            ],
            "text/html": [
              "\n",
              "  <div id=\"df-d4a2fcd0-6769-4c9c-aedf-d8dae678bb36\" class=\"colab-df-container\">\n",
              "    <div>\n",
              "<style scoped>\n",
              "    .dataframe tbody tr th:only-of-type {\n",
              "        vertical-align: middle;\n",
              "    }\n",
              "\n",
              "    .dataframe tbody tr th {\n",
              "        vertical-align: top;\n",
              "    }\n",
              "\n",
              "    .dataframe thead th {\n",
              "        text-align: right;\n",
              "    }\n",
              "</style>\n",
              "<table border=\"1\" class=\"dataframe\">\n",
              "  <thead>\n",
              "    <tr style=\"text-align: right;\">\n",
              "      <th></th>\n",
              "      <th>BHK</th>\n",
              "      <th>Size</th>\n",
              "      <th>Area Type</th>\n",
              "      <th>Area Locality</th>\n",
              "      <th>City</th>\n",
              "      <th>Furnishing Status</th>\n",
              "      <th>Tenant Preferred</th>\n",
              "      <th>Bathroom</th>\n",
              "      <th>Point of Contact</th>\n",
              "      <th>Rent</th>\n",
              "      <th>Post_Age_Days</th>\n",
              "      <th>Floor_num</th>\n",
              "      <th>Total_floors</th>\n",
              "      <th>RelativeFloor</th>\n",
              "    </tr>\n",
              "  </thead>\n",
              "  <tbody>\n",
              "    <tr>\n",
              "      <th>651</th>\n",
              "      <td>2.0</td>\n",
              "      <td>1545.0</td>\n",
              "      <td>Carpet Area</td>\n",
              "      <td>Carpet Area</td>\n",
              "      <td>Mumbai</td>\n",
              "      <td>Semi-Furnished</td>\n",
              "      <td>Family</td>\n",
              "      <td>5.0</td>\n",
              "      <td>NaN</td>\n",
              "      <td>250000</td>\n",
              "      <td>18.0</td>\n",
              "      <td>65.0</td>\n",
              "      <td>78.0</td>\n",
              "      <td>0.833333</td>\n",
              "    </tr>\n",
              "    <tr>\n",
              "      <th>746</th>\n",
              "      <td>2.0</td>\n",
              "      <td>1286.0</td>\n",
              "      <td>Carpet Area</td>\n",
              "      <td>Carpet Area</td>\n",
              "      <td>Unknown</td>\n",
              "      <td>Unfurnished</td>\n",
              "      <td>Bachelors/Family</td>\n",
              "      <td>5.0</td>\n",
              "      <td>Contact Agent</td>\n",
              "      <td>100000</td>\n",
              "      <td>13.0</td>\n",
              "      <td>7.0</td>\n",
              "      <td>21.0</td>\n",
              "      <td>0.333333</td>\n",
              "    </tr>\n",
              "    <tr>\n",
              "      <th>982</th>\n",
              "      <td>1.0</td>\n",
              "      <td>680.0</td>\n",
              "      <td>Unknown</td>\n",
              "      <td>Unknown</td>\n",
              "      <td>Mumbai</td>\n",
              "      <td>Furnished</td>\n",
              "      <td>Bachelors/Family</td>\n",
              "      <td>4.0</td>\n",
              "      <td>Contact Agent</td>\n",
              "      <td>40000</td>\n",
              "      <td>14.0</td>\n",
              "      <td>5.0</td>\n",
              "      <td>7.0</td>\n",
              "      <td>0.714286</td>\n",
              "    </tr>\n",
              "    <tr>\n",
              "      <th>3019</th>\n",
              "      <td>3.0</td>\n",
              "      <td>1408.5</td>\n",
              "      <td>Carpet Area</td>\n",
              "      <td>Carpet Area</td>\n",
              "      <td>Chennai</td>\n",
              "      <td>Unknown</td>\n",
              "      <td>Bachelors/Family</td>\n",
              "      <td>6.0</td>\n",
              "      <td>Contact Owner</td>\n",
              "      <td>20000</td>\n",
              "      <td>31.0</td>\n",
              "      <td>1.0</td>\n",
              "      <td>3.0</td>\n",
              "      <td>0.333333</td>\n",
              "    </tr>\n",
              "    <tr>\n",
              "      <th>4185</th>\n",
              "      <td>1.0</td>\n",
              "      <td>500.0</td>\n",
              "      <td>Super Area</td>\n",
              "      <td>Super Area</td>\n",
              "      <td>Hyderabad</td>\n",
              "      <td>Unfurnished</td>\n",
              "      <td>Bachelors/Family</td>\n",
              "      <td>10.0</td>\n",
              "      <td>Contact Owner</td>\n",
              "      <td>200000</td>\n",
              "      <td>35.0</td>\n",
              "      <td>0.0</td>\n",
              "      <td>4.0</td>\n",
              "      <td>0.000000</td>\n",
              "    </tr>\n",
              "  </tbody>\n",
              "</table>\n",
              "</div>\n",
              "    <div class=\"colab-df-buttons\">\n",
              "\n",
              "  <div class=\"colab-df-container\">\n",
              "    <button class=\"colab-df-convert\" onclick=\"convertToInteractive('df-d4a2fcd0-6769-4c9c-aedf-d8dae678bb36')\"\n",
              "            title=\"Convert this dataframe to an interactive table.\"\n",
              "            style=\"display:none;\">\n",
              "\n",
              "  <svg xmlns=\"http://www.w3.org/2000/svg\" height=\"24px\" viewBox=\"0 -960 960 960\">\n",
              "    <path d=\"M120-120v-720h720v720H120Zm60-500h600v-160H180v160Zm220 220h160v-160H400v160Zm0 220h160v-160H400v160ZM180-400h160v-160H180v160Zm440 0h160v-160H620v160ZM180-180h160v-160H180v160Zm440 0h160v-160H620v160Z\"/>\n",
              "  </svg>\n",
              "    </button>\n",
              "\n",
              "  <style>\n",
              "    .colab-df-container {\n",
              "      display:flex;\n",
              "      gap: 12px;\n",
              "    }\n",
              "\n",
              "    .colab-df-convert {\n",
              "      background-color: #E8F0FE;\n",
              "      border: none;\n",
              "      border-radius: 50%;\n",
              "      cursor: pointer;\n",
              "      display: none;\n",
              "      fill: #1967D2;\n",
              "      height: 32px;\n",
              "      padding: 0 0 0 0;\n",
              "      width: 32px;\n",
              "    }\n",
              "\n",
              "    .colab-df-convert:hover {\n",
              "      background-color: #E2EBFA;\n",
              "      box-shadow: 0px 1px 2px rgba(60, 64, 67, 0.3), 0px 1px 3px 1px rgba(60, 64, 67, 0.15);\n",
              "      fill: #174EA6;\n",
              "    }\n",
              "\n",
              "    .colab-df-buttons div {\n",
              "      margin-bottom: 4px;\n",
              "    }\n",
              "\n",
              "    [theme=dark] .colab-df-convert {\n",
              "      background-color: #3B4455;\n",
              "      fill: #D2E3FC;\n",
              "    }\n",
              "\n",
              "    [theme=dark] .colab-df-convert:hover {\n",
              "      background-color: #434B5C;\n",
              "      box-shadow: 0px 1px 3px 1px rgba(0, 0, 0, 0.15);\n",
              "      filter: drop-shadow(0px 1px 2px rgba(0, 0, 0, 0.3));\n",
              "      fill: #FFFFFF;\n",
              "    }\n",
              "  </style>\n",
              "\n",
              "    <script>\n",
              "      const buttonEl =\n",
              "        document.querySelector('#df-d4a2fcd0-6769-4c9c-aedf-d8dae678bb36 button.colab-df-convert');\n",
              "      buttonEl.style.display =\n",
              "        google.colab.kernel.accessAllowed ? 'block' : 'none';\n",
              "\n",
              "      async function convertToInteractive(key) {\n",
              "        const element = document.querySelector('#df-d4a2fcd0-6769-4c9c-aedf-d8dae678bb36');\n",
              "        const dataTable =\n",
              "          await google.colab.kernel.invokeFunction('convertToInteractive',\n",
              "                                                    [key], {});\n",
              "        if (!dataTable) return;\n",
              "\n",
              "        const docLinkHtml = 'Like what you see? Visit the ' +\n",
              "          '<a target=\"_blank\" href=https://colab.research.google.com/notebooks/data_table.ipynb>data table notebook</a>'\n",
              "          + ' to learn more about interactive tables.';\n",
              "        element.innerHTML = '';\n",
              "        dataTable['output_type'] = 'display_data';\n",
              "        await google.colab.output.renderOutput(dataTable, element);\n",
              "        const docLink = document.createElement('div');\n",
              "        docLink.innerHTML = docLinkHtml;\n",
              "        element.appendChild(docLink);\n",
              "      }\n",
              "    </script>\n",
              "  </div>\n",
              "\n",
              "\n",
              "    <div id=\"df-7462df8a-f54f-4a0d-ab0d-b39e5a0d2e42\">\n",
              "      <button class=\"colab-df-quickchart\" onclick=\"quickchart('df-7462df8a-f54f-4a0d-ab0d-b39e5a0d2e42')\"\n",
              "                title=\"Suggest charts\"\n",
              "                style=\"display:none;\">\n",
              "\n",
              "<svg xmlns=\"http://www.w3.org/2000/svg\" height=\"24px\"viewBox=\"0 0 24 24\"\n",
              "     width=\"24px\">\n",
              "    <g>\n",
              "        <path d=\"M19 3H5c-1.1 0-2 .9-2 2v14c0 1.1.9 2 2 2h14c1.1 0 2-.9 2-2V5c0-1.1-.9-2-2-2zM9 17H7v-7h2v7zm4 0h-2V7h2v10zm4 0h-2v-4h2v4z\"/>\n",
              "    </g>\n",
              "</svg>\n",
              "      </button>\n",
              "\n",
              "<style>\n",
              "  .colab-df-quickchart {\n",
              "      --bg-color: #E8F0FE;\n",
              "      --fill-color: #1967D2;\n",
              "      --hover-bg-color: #E2EBFA;\n",
              "      --hover-fill-color: #174EA6;\n",
              "      --disabled-fill-color: #AAA;\n",
              "      --disabled-bg-color: #DDD;\n",
              "  }\n",
              "\n",
              "  [theme=dark] .colab-df-quickchart {\n",
              "      --bg-color: #3B4455;\n",
              "      --fill-color: #D2E3FC;\n",
              "      --hover-bg-color: #434B5C;\n",
              "      --hover-fill-color: #FFFFFF;\n",
              "      --disabled-bg-color: #3B4455;\n",
              "      --disabled-fill-color: #666;\n",
              "  }\n",
              "\n",
              "  .colab-df-quickchart {\n",
              "    background-color: var(--bg-color);\n",
              "    border: none;\n",
              "    border-radius: 50%;\n",
              "    cursor: pointer;\n",
              "    display: none;\n",
              "    fill: var(--fill-color);\n",
              "    height: 32px;\n",
              "    padding: 0;\n",
              "    width: 32px;\n",
              "  }\n",
              "\n",
              "  .colab-df-quickchart:hover {\n",
              "    background-color: var(--hover-bg-color);\n",
              "    box-shadow: 0 1px 2px rgba(60, 64, 67, 0.3), 0 1px 3px 1px rgba(60, 64, 67, 0.15);\n",
              "    fill: var(--button-hover-fill-color);\n",
              "  }\n",
              "\n",
              "  .colab-df-quickchart-complete:disabled,\n",
              "  .colab-df-quickchart-complete:disabled:hover {\n",
              "    background-color: var(--disabled-bg-color);\n",
              "    fill: var(--disabled-fill-color);\n",
              "    box-shadow: none;\n",
              "  }\n",
              "\n",
              "  .colab-df-spinner {\n",
              "    border: 2px solid var(--fill-color);\n",
              "    border-color: transparent;\n",
              "    border-bottom-color: var(--fill-color);\n",
              "    animation:\n",
              "      spin 1s steps(1) infinite;\n",
              "  }\n",
              "\n",
              "  @keyframes spin {\n",
              "    0% {\n",
              "      border-color: transparent;\n",
              "      border-bottom-color: var(--fill-color);\n",
              "      border-left-color: var(--fill-color);\n",
              "    }\n",
              "    20% {\n",
              "      border-color: transparent;\n",
              "      border-left-color: var(--fill-color);\n",
              "      border-top-color: var(--fill-color);\n",
              "    }\n",
              "    30% {\n",
              "      border-color: transparent;\n",
              "      border-left-color: var(--fill-color);\n",
              "      border-top-color: var(--fill-color);\n",
              "      border-right-color: var(--fill-color);\n",
              "    }\n",
              "    40% {\n",
              "      border-color: transparent;\n",
              "      border-right-color: var(--fill-color);\n",
              "      border-top-color: var(--fill-color);\n",
              "    }\n",
              "    60% {\n",
              "      border-color: transparent;\n",
              "      border-right-color: var(--fill-color);\n",
              "    }\n",
              "    80% {\n",
              "      border-color: transparent;\n",
              "      border-right-color: var(--fill-color);\n",
              "      border-bottom-color: var(--fill-color);\n",
              "    }\n",
              "    90% {\n",
              "      border-color: transparent;\n",
              "      border-bottom-color: var(--fill-color);\n",
              "    }\n",
              "  }\n",
              "</style>\n",
              "\n",
              "      <script>\n",
              "        async function quickchart(key) {\n",
              "          const quickchartButtonEl =\n",
              "            document.querySelector('#' + key + ' button');\n",
              "          quickchartButtonEl.disabled = true;  // To prevent multiple clicks.\n",
              "          quickchartButtonEl.classList.add('colab-df-spinner');\n",
              "          try {\n",
              "            const charts = await google.colab.kernel.invokeFunction(\n",
              "                'suggestCharts', [key], {});\n",
              "          } catch (error) {\n",
              "            console.error('Error during call to suggestCharts:', error);\n",
              "          }\n",
              "          quickchartButtonEl.classList.remove('colab-df-spinner');\n",
              "          quickchartButtonEl.classList.add('colab-df-quickchart-complete');\n",
              "        }\n",
              "        (() => {\n",
              "          let quickchartButtonEl =\n",
              "            document.querySelector('#df-7462df8a-f54f-4a0d-ab0d-b39e5a0d2e42 button');\n",
              "          quickchartButtonEl.style.display =\n",
              "            google.colab.kernel.accessAllowed ? 'block' : 'none';\n",
              "        })();\n",
              "      </script>\n",
              "    </div>\n",
              "\n",
              "    </div>\n",
              "  </div>\n"
            ],
            "application/vnd.google.colaboratory.intrinsic+json": {
              "type": "dataframe",
              "summary": "{\n  \"name\": \"df[df['Bathroom'] > df['BHK'] + 2]\",\n  \"rows\": 5,\n  \"fields\": [\n    {\n      \"column\": \"BHK\",\n      \"properties\": {\n        \"dtype\": \"number\",\n        \"std\": 0.8366600265340756,\n        \"min\": 1.0,\n        \"max\": 3.0,\n        \"num_unique_values\": 3,\n        \"samples\": [\n          2.0,\n          1.0,\n          3.0\n        ],\n        \"semantic_type\": \"\",\n        \"description\": \"\"\n      }\n    },\n    {\n      \"column\": \"Size\",\n      \"properties\": {\n        \"dtype\": \"number\",\n        \"std\": 464.4613008636995,\n        \"min\": 500.0,\n        \"max\": 1545.0,\n        \"num_unique_values\": 5,\n        \"samples\": [\n          1286.0,\n          500.0,\n          680.0\n        ],\n        \"semantic_type\": \"\",\n        \"description\": \"\"\n      }\n    },\n    {\n      \"column\": \"Area Type\",\n      \"properties\": {\n        \"dtype\": \"string\",\n        \"num_unique_values\": 3,\n        \"samples\": [\n          \"Carpet Area\",\n          \"Unknown\",\n          \"Super Area\"\n        ],\n        \"semantic_type\": \"\",\n        \"description\": \"\"\n      }\n    },\n    {\n      \"column\": \"Area Locality\",\n      \"properties\": {\n        \"dtype\": \"string\",\n        \"num_unique_values\": 3,\n        \"samples\": [\n          \"Carpet Area\",\n          \"Unknown\",\n          \"Super Area\"\n        ],\n        \"semantic_type\": \"\",\n        \"description\": \"\"\n      }\n    },\n    {\n      \"column\": \"City\",\n      \"properties\": {\n        \"dtype\": \"string\",\n        \"num_unique_values\": 4,\n        \"samples\": [\n          \"Unknown\",\n          \"Hyderabad\",\n          \"Mumbai\"\n        ],\n        \"semantic_type\": \"\",\n        \"description\": \"\"\n      }\n    },\n    {\n      \"column\": \"Furnishing Status\",\n      \"properties\": {\n        \"dtype\": \"string\",\n        \"num_unique_values\": 4,\n        \"samples\": [\n          \"Unfurnished\",\n          \"Unknown\",\n          \"Semi-Furnished\"\n        ],\n        \"semantic_type\": \"\",\n        \"description\": \"\"\n      }\n    },\n    {\n      \"column\": \"Tenant Preferred\",\n      \"properties\": {\n        \"dtype\": \"category\",\n        \"num_unique_values\": 2,\n        \"samples\": [\n          \"Bachelors/Family\",\n          \"Family\"\n        ],\n        \"semantic_type\": \"\",\n        \"description\": \"\"\n      }\n    },\n    {\n      \"column\": \"Bathroom\",\n      \"properties\": {\n        \"dtype\": \"number\",\n        \"std\": 2.345207879911715,\n        \"min\": 4.0,\n        \"max\": 10.0,\n        \"num_unique_values\": 4,\n        \"samples\": [\n          4.0,\n          10.0\n        ],\n        \"semantic_type\": \"\",\n        \"description\": \"\"\n      }\n    },\n    {\n      \"column\": \"Point of Contact\",\n      \"properties\": {\n        \"dtype\": \"category\",\n        \"num_unique_values\": 2,\n        \"samples\": [\n          \"Contact Owner\",\n          \"Contact Agent\"\n        ],\n        \"semantic_type\": \"\",\n        \"description\": \"\"\n      }\n    },\n    {\n      \"column\": \"Rent\",\n      \"properties\": {\n        \"dtype\": \"number\",\n        \"std\": 100099,\n        \"min\": 20000,\n        \"max\": 250000,\n        \"num_unique_values\": 5,\n        \"samples\": [\n          100000,\n          200000\n        ],\n        \"semantic_type\": \"\",\n        \"description\": \"\"\n      }\n    },\n    {\n      \"column\": \"Post_Age_Days\",\n      \"properties\": {\n        \"dtype\": \"number\",\n        \"std\": 10.134100848126586,\n        \"min\": 13.0,\n        \"max\": 35.0,\n        \"num_unique_values\": 5,\n        \"samples\": [\n          13.0,\n          35.0\n        ],\n        \"semantic_type\": \"\",\n        \"description\": \"\"\n      }\n    },\n    {\n      \"column\": \"Floor_num\",\n      \"properties\": {\n        \"dtype\": \"number\",\n        \"std\": 27.763285108214408,\n        \"min\": 0.0,\n        \"max\": 65.0,\n        \"num_unique_values\": 5,\n        \"samples\": [\n          7.0,\n          0.0\n        ],\n        \"semantic_type\": \"\",\n        \"description\": \"\"\n      }\n    },\n    {\n      \"column\": \"Total_floors\",\n      \"properties\": {\n        \"dtype\": \"number\",\n        \"std\": 31.800943382233175,\n        \"min\": 3.0,\n        \"max\": 78.0,\n        \"num_unique_values\": 5,\n        \"samples\": [\n          21.0,\n          4.0\n        ],\n        \"semantic_type\": \"\",\n        \"description\": \"\"\n      }\n    },\n    {\n      \"column\": \"RelativeFloor\",\n      \"properties\": {\n        \"dtype\": \"number\",\n        \"std\": 0.3340129127000035,\n        \"min\": 0.0,\n        \"max\": 0.8333333333333334,\n        \"num_unique_values\": 4,\n        \"samples\": [\n          0.3333333333333333,\n          0.0\n        ],\n        \"semantic_type\": \"\",\n        \"description\": \"\"\n      }\n    }\n  ]\n}"
            }
          },
          "metadata": {},
          "execution_count": 382
        }
      ]
    },
    {
      "cell_type": "code",
      "source": [
        "df=df[df['Bathroom'] <= df['BHK'] + 2]"
      ],
      "metadata": {
        "id": "YtUJiIWchZMZ"
      },
      "execution_count": 383,
      "outputs": []
    },
    {
      "cell_type": "code",
      "source": [
        "# Fill missing bathroom values based on median of each BHK group\n",
        "df['Bathroom'] = df.groupby('BHK')['Bathroom'].transform(lambda x: x.fillna(x.median()))\n",
        "\n",
        "# If still any missing values exist, fill with overall median\n",
        "df['Bathroom'] = df['Bathroom'].fillna(df['Bathroom'].median())\n",
        "\n",
        "df['Bathroom'].isna().sum()"
      ],
      "metadata": {
        "colab": {
          "base_uri": "https://localhost:8080/"
        },
        "id": "Y-6cwqSGKlKP",
        "outputId": "31cb9920-5ab7-44d8-d704-b58e9b011f89"
      },
      "execution_count": 384,
      "outputs": [
        {
          "output_type": "execute_result",
          "data": {
            "text/plain": [
              "np.int64(0)"
            ]
          },
          "metadata": {},
          "execution_count": 384
        }
      ]
    },
    {
      "cell_type": "markdown",
      "source": [
        "#'Point of Contact' column"
      ],
      "metadata": {
        "id": "8wNI9xSNK0o1"
      }
    },
    {
      "cell_type": "code",
      "source": [
        "df['Point of Contact'].unique()"
      ],
      "metadata": {
        "colab": {
          "base_uri": "https://localhost:8080/"
        },
        "id": "zklwfFs4K1J6",
        "outputId": "a1dc955d-d826-44e9-a401-1727305d50f4"
      },
      "execution_count": 385,
      "outputs": [
        {
          "output_type": "execute_result",
          "data": {
            "text/plain": [
              "array(['Contact Owner', nan, 'Contact Agent'], dtype=object)"
            ]
          },
          "metadata": {},
          "execution_count": 385
        }
      ]
    },
    {
      "cell_type": "code",
      "source": [
        "df['Point of Contact'].isna().sum()"
      ],
      "metadata": {
        "colab": {
          "base_uri": "https://localhost:8080/"
        },
        "id": "v7GFxZZhK-KI",
        "outputId": "fef6b0b2-9ac1-40da-9e81-7db82a679bf8"
      },
      "execution_count": 386,
      "outputs": [
        {
          "output_type": "execute_result",
          "data": {
            "text/plain": [
              "np.int64(502)"
            ]
          },
          "metadata": {},
          "execution_count": 386
        }
      ]
    },
    {
      "cell_type": "code",
      "source": [
        "df['Point of Contact'] = df['Point of Contact'].fillna('Unknown')"
      ],
      "metadata": {
        "id": "LHdm-0Q2LE_R"
      },
      "execution_count": 387,
      "outputs": []
    },
    {
      "cell_type": "code",
      "source": [
        "df.isnull().sum()"
      ],
      "metadata": {
        "colab": {
          "base_uri": "https://localhost:8080/",
          "height": 523
        },
        "id": "N9JF2yL0NOLG",
        "outputId": "1d51a788-4332-4cd4-b03f-081243944827"
      },
      "execution_count": 388,
      "outputs": [
        {
          "output_type": "execute_result",
          "data": {
            "text/plain": [
              "BHK                  0\n",
              "Size                 0\n",
              "Area Type            0\n",
              "Area Locality        0\n",
              "City                 0\n",
              "Furnishing Status    0\n",
              "Tenant Preferred     0\n",
              "Bathroom             0\n",
              "Point of Contact     0\n",
              "Rent                 0\n",
              "Post_Age_Days        0\n",
              "Floor_num            0\n",
              "Total_floors         0\n",
              "RelativeFloor        0\n",
              "dtype: int64"
            ],
            "text/html": [
              "<div>\n",
              "<style scoped>\n",
              "    .dataframe tbody tr th:only-of-type {\n",
              "        vertical-align: middle;\n",
              "    }\n",
              "\n",
              "    .dataframe tbody tr th {\n",
              "        vertical-align: top;\n",
              "    }\n",
              "\n",
              "    .dataframe thead th {\n",
              "        text-align: right;\n",
              "    }\n",
              "</style>\n",
              "<table border=\"1\" class=\"dataframe\">\n",
              "  <thead>\n",
              "    <tr style=\"text-align: right;\">\n",
              "      <th></th>\n",
              "      <th>0</th>\n",
              "    </tr>\n",
              "  </thead>\n",
              "  <tbody>\n",
              "    <tr>\n",
              "      <th>BHK</th>\n",
              "      <td>0</td>\n",
              "    </tr>\n",
              "    <tr>\n",
              "      <th>Size</th>\n",
              "      <td>0</td>\n",
              "    </tr>\n",
              "    <tr>\n",
              "      <th>Area Type</th>\n",
              "      <td>0</td>\n",
              "    </tr>\n",
              "    <tr>\n",
              "      <th>Area Locality</th>\n",
              "      <td>0</td>\n",
              "    </tr>\n",
              "    <tr>\n",
              "      <th>City</th>\n",
              "      <td>0</td>\n",
              "    </tr>\n",
              "    <tr>\n",
              "      <th>Furnishing Status</th>\n",
              "      <td>0</td>\n",
              "    </tr>\n",
              "    <tr>\n",
              "      <th>Tenant Preferred</th>\n",
              "      <td>0</td>\n",
              "    </tr>\n",
              "    <tr>\n",
              "      <th>Bathroom</th>\n",
              "      <td>0</td>\n",
              "    </tr>\n",
              "    <tr>\n",
              "      <th>Point of Contact</th>\n",
              "      <td>0</td>\n",
              "    </tr>\n",
              "    <tr>\n",
              "      <th>Rent</th>\n",
              "      <td>0</td>\n",
              "    </tr>\n",
              "    <tr>\n",
              "      <th>Post_Age_Days</th>\n",
              "      <td>0</td>\n",
              "    </tr>\n",
              "    <tr>\n",
              "      <th>Floor_num</th>\n",
              "      <td>0</td>\n",
              "    </tr>\n",
              "    <tr>\n",
              "      <th>Total_floors</th>\n",
              "      <td>0</td>\n",
              "    </tr>\n",
              "    <tr>\n",
              "      <th>RelativeFloor</th>\n",
              "      <td>0</td>\n",
              "    </tr>\n",
              "  </tbody>\n",
              "</table>\n",
              "</div><br><label><b>dtype:</b> int64</label>"
            ]
          },
          "metadata": {},
          "execution_count": 388
        }
      ]
    },
    {
      "cell_type": "markdown",
      "source": [
        "#**EDA**"
      ],
      "metadata": {
        "id": "5xTe1qchNKnE"
      }
    },
    {
      "cell_type": "code",
      "source": [
        "df.describe(include='all')"
      ],
      "metadata": {
        "colab": {
          "base_uri": "https://localhost:8080/",
          "height": 466
        },
        "id": "g6Di9YXdeonf",
        "outputId": "102f1030-f0a8-43a1-8147-7ecbdbcf97d3"
      },
      "execution_count": 389,
      "outputs": [
        {
          "output_type": "execute_result",
          "data": {
            "text/plain": [
              "                BHK         Size   Area Type Area Locality    City  \\\n",
              "count   4031.000000  4031.000000        4031          4031    4031   \n",
              "unique          NaN          NaN           3             3       7   \n",
              "top             NaN          NaN  Super Area    Super Area  Mumbai   \n",
              "freq            NaN          NaN        1709          1709     701   \n",
              "mean       2.008435   888.277847         NaN           NaN     NaN   \n",
              "std        0.691622   414.274832         NaN           NaN     NaN   \n",
              "min        1.000000   100.000000         NaN           NaN     NaN   \n",
              "25%        2.000000   600.000000         NaN           NaN     NaN   \n",
              "50%        2.000000   800.000000         NaN           NaN     NaN   \n",
              "75%        2.000000  1100.000000         NaN           NaN     NaN   \n",
              "max        6.000000  2100.000000         NaN           NaN     NaN   \n",
              "\n",
              "       Furnishing Status  Tenant Preferred     Bathroom Point of Contact  \\\n",
              "count               4031              4031  4031.000000             4031   \n",
              "unique                 4                 4          NaN                3   \n",
              "top       Semi-Furnished  Bachelors/Family          NaN    Contact Owner   \n",
              "freq                1580              2422          NaN             2485   \n",
              "mean                 NaN               NaN     1.873729              NaN   \n",
              "std                  NaN               NaN     0.763095              NaN   \n",
              "min                  NaN               NaN     1.000000              NaN   \n",
              "25%                  NaN               NaN     1.000000              NaN   \n",
              "50%                  NaN               NaN     2.000000              NaN   \n",
              "75%                  NaN               NaN     2.000000              NaN   \n",
              "max                  NaN               NaN     6.000000              NaN   \n",
              "\n",
              "                Rent  Post_Age_Days    Floor_num  Total_floors  RelativeFloor  \n",
              "count   4.031000e+03    4031.000000  4031.000000   4031.000000    4031.000000  \n",
              "unique           NaN            NaN          NaN           NaN            NaN  \n",
              "top              NaN            NaN          NaN           NaN            NaN  \n",
              "freq             NaN            NaN          NaN           NaN            NaN  \n",
              "mean    2.900816e+04      33.171173     3.236418      6.393451       0.458489  \n",
              "std     4.706511e+04      20.526844     5.116841      8.200587       0.303389  \n",
              "min     1.200000e+03       0.000000    -2.000000      1.000000      -1.000000  \n",
              "25%     1.000000e+04      16.000000     1.000000      3.000000       0.250000  \n",
              "50%     1.500000e+04      31.000000     2.000000      4.000000       0.500000  \n",
              "75%     3.000000e+04      49.000000     3.000000      5.000000       0.666667  \n",
              "max     1.200000e+06      89.000000    76.000000     78.000000       1.000000  "
            ],
            "text/html": [
              "\n",
              "  <div id=\"df-9268b8c5-a9b3-4a0a-9ffb-954910d0593c\" class=\"colab-df-container\">\n",
              "    <div>\n",
              "<style scoped>\n",
              "    .dataframe tbody tr th:only-of-type {\n",
              "        vertical-align: middle;\n",
              "    }\n",
              "\n",
              "    .dataframe tbody tr th {\n",
              "        vertical-align: top;\n",
              "    }\n",
              "\n",
              "    .dataframe thead th {\n",
              "        text-align: right;\n",
              "    }\n",
              "</style>\n",
              "<table border=\"1\" class=\"dataframe\">\n",
              "  <thead>\n",
              "    <tr style=\"text-align: right;\">\n",
              "      <th></th>\n",
              "      <th>BHK</th>\n",
              "      <th>Size</th>\n",
              "      <th>Area Type</th>\n",
              "      <th>Area Locality</th>\n",
              "      <th>City</th>\n",
              "      <th>Furnishing Status</th>\n",
              "      <th>Tenant Preferred</th>\n",
              "      <th>Bathroom</th>\n",
              "      <th>Point of Contact</th>\n",
              "      <th>Rent</th>\n",
              "      <th>Post_Age_Days</th>\n",
              "      <th>Floor_num</th>\n",
              "      <th>Total_floors</th>\n",
              "      <th>RelativeFloor</th>\n",
              "    </tr>\n",
              "  </thead>\n",
              "  <tbody>\n",
              "    <tr>\n",
              "      <th>count</th>\n",
              "      <td>4031.000000</td>\n",
              "      <td>4031.000000</td>\n",
              "      <td>4031</td>\n",
              "      <td>4031</td>\n",
              "      <td>4031</td>\n",
              "      <td>4031</td>\n",
              "      <td>4031</td>\n",
              "      <td>4031.000000</td>\n",
              "      <td>4031</td>\n",
              "      <td>4.031000e+03</td>\n",
              "      <td>4031.000000</td>\n",
              "      <td>4031.000000</td>\n",
              "      <td>4031.000000</td>\n",
              "      <td>4031.000000</td>\n",
              "    </tr>\n",
              "    <tr>\n",
              "      <th>unique</th>\n",
              "      <td>NaN</td>\n",
              "      <td>NaN</td>\n",
              "      <td>3</td>\n",
              "      <td>3</td>\n",
              "      <td>7</td>\n",
              "      <td>4</td>\n",
              "      <td>4</td>\n",
              "      <td>NaN</td>\n",
              "      <td>3</td>\n",
              "      <td>NaN</td>\n",
              "      <td>NaN</td>\n",
              "      <td>NaN</td>\n",
              "      <td>NaN</td>\n",
              "      <td>NaN</td>\n",
              "    </tr>\n",
              "    <tr>\n",
              "      <th>top</th>\n",
              "      <td>NaN</td>\n",
              "      <td>NaN</td>\n",
              "      <td>Super Area</td>\n",
              "      <td>Super Area</td>\n",
              "      <td>Mumbai</td>\n",
              "      <td>Semi-Furnished</td>\n",
              "      <td>Bachelors/Family</td>\n",
              "      <td>NaN</td>\n",
              "      <td>Contact Owner</td>\n",
              "      <td>NaN</td>\n",
              "      <td>NaN</td>\n",
              "      <td>NaN</td>\n",
              "      <td>NaN</td>\n",
              "      <td>NaN</td>\n",
              "    </tr>\n",
              "    <tr>\n",
              "      <th>freq</th>\n",
              "      <td>NaN</td>\n",
              "      <td>NaN</td>\n",
              "      <td>1709</td>\n",
              "      <td>1709</td>\n",
              "      <td>701</td>\n",
              "      <td>1580</td>\n",
              "      <td>2422</td>\n",
              "      <td>NaN</td>\n",
              "      <td>2485</td>\n",
              "      <td>NaN</td>\n",
              "      <td>NaN</td>\n",
              "      <td>NaN</td>\n",
              "      <td>NaN</td>\n",
              "      <td>NaN</td>\n",
              "    </tr>\n",
              "    <tr>\n",
              "      <th>mean</th>\n",
              "      <td>2.008435</td>\n",
              "      <td>888.277847</td>\n",
              "      <td>NaN</td>\n",
              "      <td>NaN</td>\n",
              "      <td>NaN</td>\n",
              "      <td>NaN</td>\n",
              "      <td>NaN</td>\n",
              "      <td>1.873729</td>\n",
              "      <td>NaN</td>\n",
              "      <td>2.900816e+04</td>\n",
              "      <td>33.171173</td>\n",
              "      <td>3.236418</td>\n",
              "      <td>6.393451</td>\n",
              "      <td>0.458489</td>\n",
              "    </tr>\n",
              "    <tr>\n",
              "      <th>std</th>\n",
              "      <td>0.691622</td>\n",
              "      <td>414.274832</td>\n",
              "      <td>NaN</td>\n",
              "      <td>NaN</td>\n",
              "      <td>NaN</td>\n",
              "      <td>NaN</td>\n",
              "      <td>NaN</td>\n",
              "      <td>0.763095</td>\n",
              "      <td>NaN</td>\n",
              "      <td>4.706511e+04</td>\n",
              "      <td>20.526844</td>\n",
              "      <td>5.116841</td>\n",
              "      <td>8.200587</td>\n",
              "      <td>0.303389</td>\n",
              "    </tr>\n",
              "    <tr>\n",
              "      <th>min</th>\n",
              "      <td>1.000000</td>\n",
              "      <td>100.000000</td>\n",
              "      <td>NaN</td>\n",
              "      <td>NaN</td>\n",
              "      <td>NaN</td>\n",
              "      <td>NaN</td>\n",
              "      <td>NaN</td>\n",
              "      <td>1.000000</td>\n",
              "      <td>NaN</td>\n",
              "      <td>1.200000e+03</td>\n",
              "      <td>0.000000</td>\n",
              "      <td>-2.000000</td>\n",
              "      <td>1.000000</td>\n",
              "      <td>-1.000000</td>\n",
              "    </tr>\n",
              "    <tr>\n",
              "      <th>25%</th>\n",
              "      <td>2.000000</td>\n",
              "      <td>600.000000</td>\n",
              "      <td>NaN</td>\n",
              "      <td>NaN</td>\n",
              "      <td>NaN</td>\n",
              "      <td>NaN</td>\n",
              "      <td>NaN</td>\n",
              "      <td>1.000000</td>\n",
              "      <td>NaN</td>\n",
              "      <td>1.000000e+04</td>\n",
              "      <td>16.000000</td>\n",
              "      <td>1.000000</td>\n",
              "      <td>3.000000</td>\n",
              "      <td>0.250000</td>\n",
              "    </tr>\n",
              "    <tr>\n",
              "      <th>50%</th>\n",
              "      <td>2.000000</td>\n",
              "      <td>800.000000</td>\n",
              "      <td>NaN</td>\n",
              "      <td>NaN</td>\n",
              "      <td>NaN</td>\n",
              "      <td>NaN</td>\n",
              "      <td>NaN</td>\n",
              "      <td>2.000000</td>\n",
              "      <td>NaN</td>\n",
              "      <td>1.500000e+04</td>\n",
              "      <td>31.000000</td>\n",
              "      <td>2.000000</td>\n",
              "      <td>4.000000</td>\n",
              "      <td>0.500000</td>\n",
              "    </tr>\n",
              "    <tr>\n",
              "      <th>75%</th>\n",
              "      <td>2.000000</td>\n",
              "      <td>1100.000000</td>\n",
              "      <td>NaN</td>\n",
              "      <td>NaN</td>\n",
              "      <td>NaN</td>\n",
              "      <td>NaN</td>\n",
              "      <td>NaN</td>\n",
              "      <td>2.000000</td>\n",
              "      <td>NaN</td>\n",
              "      <td>3.000000e+04</td>\n",
              "      <td>49.000000</td>\n",
              "      <td>3.000000</td>\n",
              "      <td>5.000000</td>\n",
              "      <td>0.666667</td>\n",
              "    </tr>\n",
              "    <tr>\n",
              "      <th>max</th>\n",
              "      <td>6.000000</td>\n",
              "      <td>2100.000000</td>\n",
              "      <td>NaN</td>\n",
              "      <td>NaN</td>\n",
              "      <td>NaN</td>\n",
              "      <td>NaN</td>\n",
              "      <td>NaN</td>\n",
              "      <td>6.000000</td>\n",
              "      <td>NaN</td>\n",
              "      <td>1.200000e+06</td>\n",
              "      <td>89.000000</td>\n",
              "      <td>76.000000</td>\n",
              "      <td>78.000000</td>\n",
              "      <td>1.000000</td>\n",
              "    </tr>\n",
              "  </tbody>\n",
              "</table>\n",
              "</div>\n",
              "    <div class=\"colab-df-buttons\">\n",
              "\n",
              "  <div class=\"colab-df-container\">\n",
              "    <button class=\"colab-df-convert\" onclick=\"convertToInteractive('df-9268b8c5-a9b3-4a0a-9ffb-954910d0593c')\"\n",
              "            title=\"Convert this dataframe to an interactive table.\"\n",
              "            style=\"display:none;\">\n",
              "\n",
              "  <svg xmlns=\"http://www.w3.org/2000/svg\" height=\"24px\" viewBox=\"0 -960 960 960\">\n",
              "    <path d=\"M120-120v-720h720v720H120Zm60-500h600v-160H180v160Zm220 220h160v-160H400v160Zm0 220h160v-160H400v160ZM180-400h160v-160H180v160Zm440 0h160v-160H620v160ZM180-180h160v-160H180v160Zm440 0h160v-160H620v160Z\"/>\n",
              "  </svg>\n",
              "    </button>\n",
              "\n",
              "  <style>\n",
              "    .colab-df-container {\n",
              "      display:flex;\n",
              "      gap: 12px;\n",
              "    }\n",
              "\n",
              "    .colab-df-convert {\n",
              "      background-color: #E8F0FE;\n",
              "      border: none;\n",
              "      border-radius: 50%;\n",
              "      cursor: pointer;\n",
              "      display: none;\n",
              "      fill: #1967D2;\n",
              "      height: 32px;\n",
              "      padding: 0 0 0 0;\n",
              "      width: 32px;\n",
              "    }\n",
              "\n",
              "    .colab-df-convert:hover {\n",
              "      background-color: #E2EBFA;\n",
              "      box-shadow: 0px 1px 2px rgba(60, 64, 67, 0.3), 0px 1px 3px 1px rgba(60, 64, 67, 0.15);\n",
              "      fill: #174EA6;\n",
              "    }\n",
              "\n",
              "    .colab-df-buttons div {\n",
              "      margin-bottom: 4px;\n",
              "    }\n",
              "\n",
              "    [theme=dark] .colab-df-convert {\n",
              "      background-color: #3B4455;\n",
              "      fill: #D2E3FC;\n",
              "    }\n",
              "\n",
              "    [theme=dark] .colab-df-convert:hover {\n",
              "      background-color: #434B5C;\n",
              "      box-shadow: 0px 1px 3px 1px rgba(0, 0, 0, 0.15);\n",
              "      filter: drop-shadow(0px 1px 2px rgba(0, 0, 0, 0.3));\n",
              "      fill: #FFFFFF;\n",
              "    }\n",
              "  </style>\n",
              "\n",
              "    <script>\n",
              "      const buttonEl =\n",
              "        document.querySelector('#df-9268b8c5-a9b3-4a0a-9ffb-954910d0593c button.colab-df-convert');\n",
              "      buttonEl.style.display =\n",
              "        google.colab.kernel.accessAllowed ? 'block' : 'none';\n",
              "\n",
              "      async function convertToInteractive(key) {\n",
              "        const element = document.querySelector('#df-9268b8c5-a9b3-4a0a-9ffb-954910d0593c');\n",
              "        const dataTable =\n",
              "          await google.colab.kernel.invokeFunction('convertToInteractive',\n",
              "                                                    [key], {});\n",
              "        if (!dataTable) return;\n",
              "\n",
              "        const docLinkHtml = 'Like what you see? Visit the ' +\n",
              "          '<a target=\"_blank\" href=https://colab.research.google.com/notebooks/data_table.ipynb>data table notebook</a>'\n",
              "          + ' to learn more about interactive tables.';\n",
              "        element.innerHTML = '';\n",
              "        dataTable['output_type'] = 'display_data';\n",
              "        await google.colab.output.renderOutput(dataTable, element);\n",
              "        const docLink = document.createElement('div');\n",
              "        docLink.innerHTML = docLinkHtml;\n",
              "        element.appendChild(docLink);\n",
              "      }\n",
              "    </script>\n",
              "  </div>\n",
              "\n",
              "\n",
              "    <div id=\"df-b9aa0cdf-0a03-4fdd-a22b-8fb7de3d0de9\">\n",
              "      <button class=\"colab-df-quickchart\" onclick=\"quickchart('df-b9aa0cdf-0a03-4fdd-a22b-8fb7de3d0de9')\"\n",
              "                title=\"Suggest charts\"\n",
              "                style=\"display:none;\">\n",
              "\n",
              "<svg xmlns=\"http://www.w3.org/2000/svg\" height=\"24px\"viewBox=\"0 0 24 24\"\n",
              "     width=\"24px\">\n",
              "    <g>\n",
              "        <path d=\"M19 3H5c-1.1 0-2 .9-2 2v14c0 1.1.9 2 2 2h14c1.1 0 2-.9 2-2V5c0-1.1-.9-2-2-2zM9 17H7v-7h2v7zm4 0h-2V7h2v10zm4 0h-2v-4h2v4z\"/>\n",
              "    </g>\n",
              "</svg>\n",
              "      </button>\n",
              "\n",
              "<style>\n",
              "  .colab-df-quickchart {\n",
              "      --bg-color: #E8F0FE;\n",
              "      --fill-color: #1967D2;\n",
              "      --hover-bg-color: #E2EBFA;\n",
              "      --hover-fill-color: #174EA6;\n",
              "      --disabled-fill-color: #AAA;\n",
              "      --disabled-bg-color: #DDD;\n",
              "  }\n",
              "\n",
              "  [theme=dark] .colab-df-quickchart {\n",
              "      --bg-color: #3B4455;\n",
              "      --fill-color: #D2E3FC;\n",
              "      --hover-bg-color: #434B5C;\n",
              "      --hover-fill-color: #FFFFFF;\n",
              "      --disabled-bg-color: #3B4455;\n",
              "      --disabled-fill-color: #666;\n",
              "  }\n",
              "\n",
              "  .colab-df-quickchart {\n",
              "    background-color: var(--bg-color);\n",
              "    border: none;\n",
              "    border-radius: 50%;\n",
              "    cursor: pointer;\n",
              "    display: none;\n",
              "    fill: var(--fill-color);\n",
              "    height: 32px;\n",
              "    padding: 0;\n",
              "    width: 32px;\n",
              "  }\n",
              "\n",
              "  .colab-df-quickchart:hover {\n",
              "    background-color: var(--hover-bg-color);\n",
              "    box-shadow: 0 1px 2px rgba(60, 64, 67, 0.3), 0 1px 3px 1px rgba(60, 64, 67, 0.15);\n",
              "    fill: var(--button-hover-fill-color);\n",
              "  }\n",
              "\n",
              "  .colab-df-quickchart-complete:disabled,\n",
              "  .colab-df-quickchart-complete:disabled:hover {\n",
              "    background-color: var(--disabled-bg-color);\n",
              "    fill: var(--disabled-fill-color);\n",
              "    box-shadow: none;\n",
              "  }\n",
              "\n",
              "  .colab-df-spinner {\n",
              "    border: 2px solid var(--fill-color);\n",
              "    border-color: transparent;\n",
              "    border-bottom-color: var(--fill-color);\n",
              "    animation:\n",
              "      spin 1s steps(1) infinite;\n",
              "  }\n",
              "\n",
              "  @keyframes spin {\n",
              "    0% {\n",
              "      border-color: transparent;\n",
              "      border-bottom-color: var(--fill-color);\n",
              "      border-left-color: var(--fill-color);\n",
              "    }\n",
              "    20% {\n",
              "      border-color: transparent;\n",
              "      border-left-color: var(--fill-color);\n",
              "      border-top-color: var(--fill-color);\n",
              "    }\n",
              "    30% {\n",
              "      border-color: transparent;\n",
              "      border-left-color: var(--fill-color);\n",
              "      border-top-color: var(--fill-color);\n",
              "      border-right-color: var(--fill-color);\n",
              "    }\n",
              "    40% {\n",
              "      border-color: transparent;\n",
              "      border-right-color: var(--fill-color);\n",
              "      border-top-color: var(--fill-color);\n",
              "    }\n",
              "    60% {\n",
              "      border-color: transparent;\n",
              "      border-right-color: var(--fill-color);\n",
              "    }\n",
              "    80% {\n",
              "      border-color: transparent;\n",
              "      border-right-color: var(--fill-color);\n",
              "      border-bottom-color: var(--fill-color);\n",
              "    }\n",
              "    90% {\n",
              "      border-color: transparent;\n",
              "      border-bottom-color: var(--fill-color);\n",
              "    }\n",
              "  }\n",
              "</style>\n",
              "\n",
              "      <script>\n",
              "        async function quickchart(key) {\n",
              "          const quickchartButtonEl =\n",
              "            document.querySelector('#' + key + ' button');\n",
              "          quickchartButtonEl.disabled = true;  // To prevent multiple clicks.\n",
              "          quickchartButtonEl.classList.add('colab-df-spinner');\n",
              "          try {\n",
              "            const charts = await google.colab.kernel.invokeFunction(\n",
              "                'suggestCharts', [key], {});\n",
              "          } catch (error) {\n",
              "            console.error('Error during call to suggestCharts:', error);\n",
              "          }\n",
              "          quickchartButtonEl.classList.remove('colab-df-spinner');\n",
              "          quickchartButtonEl.classList.add('colab-df-quickchart-complete');\n",
              "        }\n",
              "        (() => {\n",
              "          let quickchartButtonEl =\n",
              "            document.querySelector('#df-b9aa0cdf-0a03-4fdd-a22b-8fb7de3d0de9 button');\n",
              "          quickchartButtonEl.style.display =\n",
              "            google.colab.kernel.accessAllowed ? 'block' : 'none';\n",
              "        })();\n",
              "      </script>\n",
              "    </div>\n",
              "\n",
              "    </div>\n",
              "  </div>\n"
            ],
            "application/vnd.google.colaboratory.intrinsic+json": {
              "type": "dataframe",
              "summary": "{\n  \"name\": \"df\",\n  \"rows\": 11,\n  \"fields\": [\n    {\n      \"column\": \"BHK\",\n      \"properties\": {\n        \"dtype\": \"number\",\n        \"std\": 1424.3816625260747,\n        \"min\": 0.69162182586026,\n        \"max\": 4031.0,\n        \"num_unique_values\": 6,\n        \"samples\": [\n          4031.0,\n          2.008434631605061,\n          6.0\n        ],\n        \"semantic_type\": \"\",\n        \"description\": \"\"\n      }\n    },\n    {\n      \"column\": \"Size\",\n      \"properties\": {\n        \"dtype\": \"number\",\n        \"std\": 1268.0468529586,\n        \"min\": 100.0,\n        \"max\": 4031.0,\n        \"num_unique_values\": 8,\n        \"samples\": [\n          888.2778466881667,\n          800.0,\n          4031.0\n        ],\n        \"semantic_type\": \"\",\n        \"description\": \"\"\n      }\n    },\n    {\n      \"column\": \"Area Type\",\n      \"properties\": {\n        \"dtype\": \"category\",\n        \"num_unique_values\": 4,\n        \"samples\": [\n          3,\n          \"1709\",\n          \"4031\"\n        ],\n        \"semantic_type\": \"\",\n        \"description\": \"\"\n      }\n    },\n    {\n      \"column\": \"Area Locality\",\n      \"properties\": {\n        \"dtype\": \"category\",\n        \"num_unique_values\": 4,\n        \"samples\": [\n          3,\n          \"1709\",\n          \"4031\"\n        ],\n        \"semantic_type\": \"\",\n        \"description\": \"\"\n      }\n    },\n    {\n      \"column\": \"City\",\n      \"properties\": {\n        \"dtype\": \"category\",\n        \"num_unique_values\": 4,\n        \"samples\": [\n          7,\n          \"701\",\n          \"4031\"\n        ],\n        \"semantic_type\": \"\",\n        \"description\": \"\"\n      }\n    },\n    {\n      \"column\": \"Furnishing Status\",\n      \"properties\": {\n        \"dtype\": \"category\",\n        \"num_unique_values\": 4,\n        \"samples\": [\n          4,\n          \"1580\",\n          \"4031\"\n        ],\n        \"semantic_type\": \"\",\n        \"description\": \"\"\n      }\n    },\n    {\n      \"column\": \"Tenant Preferred\",\n      \"properties\": {\n        \"dtype\": \"category\",\n        \"num_unique_values\": 4,\n        \"samples\": [\n          4,\n          \"2422\",\n          \"4031\"\n        ],\n        \"semantic_type\": \"\",\n        \"description\": \"\"\n      }\n    },\n    {\n      \"column\": \"Bathroom\",\n      \"properties\": {\n        \"dtype\": \"number\",\n        \"std\": 1424.4354234571372,\n        \"min\": 0.7630954103083948,\n        \"max\": 4031.0,\n        \"num_unique_values\": 6,\n        \"samples\": [\n          4031.0,\n          1.873728603324237,\n          6.0\n        ],\n        \"semantic_type\": \"\",\n        \"description\": \"\"\n      }\n    },\n    {\n      \"column\": \"Point of Contact\",\n      \"properties\": {\n        \"dtype\": \"category\",\n        \"num_unique_values\": 4,\n        \"samples\": [\n          3,\n          \"2485\",\n          \"4031\"\n        ],\n        \"semantic_type\": \"\",\n        \"description\": \"\"\n      }\n    },\n    {\n      \"column\": \"Rent\",\n      \"properties\": {\n        \"dtype\": \"number\",\n        \"std\": 417661.11507849465,\n        \"min\": 1200.0,\n        \"max\": 1200000.0,\n        \"num_unique_values\": 8,\n        \"samples\": [\n          29008.155544529895,\n          15000.0,\n          4031.0\n        ],\n        \"semantic_type\": \"\",\n        \"description\": \"\"\n      }\n    },\n    {\n      \"column\": \"Post_Age_Days\",\n      \"properties\": {\n        \"dtype\": \"number\",\n        \"std\": 1413.3663731251024,\n        \"min\": 0.0,\n        \"max\": 4031.0,\n        \"num_unique_values\": 8,\n        \"samples\": [\n          33.1711734061027,\n          31.0,\n          4031.0\n        ],\n        \"semantic_type\": \"\",\n        \"description\": \"\"\n      }\n    },\n    {\n      \"column\": \"Floor_num\",\n      \"properties\": {\n        \"dtype\": \"number\",\n        \"std\": 1420.9482622545465,\n        \"min\": -2.0,\n        \"max\": 4031.0,\n        \"num_unique_values\": 8,\n        \"samples\": [\n          3.236417762341851,\n          2.0,\n          4031.0\n        ],\n        \"semantic_type\": \"\",\n        \"description\": \"\"\n      }\n    },\n    {\n      \"column\": \"Total_floors\",\n      \"properties\": {\n        \"dtype\": \"number\",\n        \"std\": 1420.0743364268817,\n        \"min\": 1.0,\n        \"max\": 4031.0,\n        \"num_unique_values\": 8,\n        \"samples\": [\n          6.393450756636071,\n          4.0,\n          4031.0\n        ],\n        \"semantic_type\": \"\",\n        \"description\": \"\"\n      }\n    },\n    {\n      \"column\": \"RelativeFloor\",\n      \"properties\": {\n        \"dtype\": \"number\",\n        \"std\": 1425.0638037178464,\n        \"min\": -1.0,\n        \"max\": 4031.0,\n        \"num_unique_values\": 8,\n        \"samples\": [\n          0.4584886101974474,\n          0.5,\n          4031.0\n        ],\n        \"semantic_type\": \"\",\n        \"description\": \"\"\n      }\n    }\n  ]\n}"
            }
          },
          "metadata": {},
          "execution_count": 389
        }
      ]
    },
    {
      "cell_type": "code",
      "source": [
        "df.corr(numeric_only=True)['Rent'].sort_values(ascending=False)"
      ],
      "metadata": {
        "colab": {
          "base_uri": "https://localhost:8080/",
          "height": 335
        },
        "id": "P1AJA2HCd_ne",
        "outputId": "fe9c139d-2833-4a2c-dee3-78eae0abddbc"
      },
      "execution_count": 390,
      "outputs": [
        {
          "output_type": "execute_result",
          "data": {
            "text/plain": [
              "Rent             1.000000\n",
              "Bathroom         0.511927\n",
              "Total_floors     0.453553\n",
              "Floor_num        0.429383\n",
              "BHK              0.396001\n",
              "Size             0.335104\n",
              "RelativeFloor    0.113647\n",
              "Post_Age_Days   -0.136288\n",
              "Name: Rent, dtype: float64"
            ],
            "text/html": [
              "<div>\n",
              "<style scoped>\n",
              "    .dataframe tbody tr th:only-of-type {\n",
              "        vertical-align: middle;\n",
              "    }\n",
              "\n",
              "    .dataframe tbody tr th {\n",
              "        vertical-align: top;\n",
              "    }\n",
              "\n",
              "    .dataframe thead th {\n",
              "        text-align: right;\n",
              "    }\n",
              "</style>\n",
              "<table border=\"1\" class=\"dataframe\">\n",
              "  <thead>\n",
              "    <tr style=\"text-align: right;\">\n",
              "      <th></th>\n",
              "      <th>Rent</th>\n",
              "    </tr>\n",
              "  </thead>\n",
              "  <tbody>\n",
              "    <tr>\n",
              "      <th>Rent</th>\n",
              "      <td>1.000000</td>\n",
              "    </tr>\n",
              "    <tr>\n",
              "      <th>Bathroom</th>\n",
              "      <td>0.511927</td>\n",
              "    </tr>\n",
              "    <tr>\n",
              "      <th>Total_floors</th>\n",
              "      <td>0.453553</td>\n",
              "    </tr>\n",
              "    <tr>\n",
              "      <th>Floor_num</th>\n",
              "      <td>0.429383</td>\n",
              "    </tr>\n",
              "    <tr>\n",
              "      <th>BHK</th>\n",
              "      <td>0.396001</td>\n",
              "    </tr>\n",
              "    <tr>\n",
              "      <th>Size</th>\n",
              "      <td>0.335104</td>\n",
              "    </tr>\n",
              "    <tr>\n",
              "      <th>RelativeFloor</th>\n",
              "      <td>0.113647</td>\n",
              "    </tr>\n",
              "    <tr>\n",
              "      <th>Post_Age_Days</th>\n",
              "      <td>-0.136288</td>\n",
              "    </tr>\n",
              "  </tbody>\n",
              "</table>\n",
              "</div><br><label><b>dtype:</b> float64</label>"
            ]
          },
          "metadata": {},
          "execution_count": 390
        }
      ]
    },
    {
      "cell_type": "code",
      "source": [
        "sns.scatterplot(x='Size', y='Rent', data=df)\n",
        "plt.title('Rent vs Size')\n",
        "plt.show()"
      ],
      "metadata": {
        "colab": {
          "base_uri": "https://localhost:8080/",
          "height": 472
        },
        "id": "z-LIRMqGeRtC",
        "outputId": "5a5e522e-5b2a-4691-dc7f-0a1abbdb1aed"
      },
      "execution_count": 391,
      "outputs": [
        {
          "output_type": "display_data",
          "data": {
            "text/plain": [
              "<Figure size 640x480 with 1 Axes>"
            ],
            "image/png": "[encoded data removed]"
          },
          "metadata": {}
        }
      ]
    },
    {
      "cell_type": "code",
      "source": [
        "num_cols = ['Rent', 'Size', 'BHK', 'Bathroom']\n",
        "for col in num_cols:\n",
        "    plt.figure()\n",
        "    sns.histplot(df[col], kde=True, bins=30)\n",
        "    plt.title(f'Distribution of {col}')\n",
        "    plt.show()\n"
      ],
      "metadata": {
        "colab": {
          "base_uri": "https://localhost:8080/",
          "height": 1000
        },
        "id": "d035P98IebpB",
        "outputId": "4e068367-cdbe-40a3-83e1-43f67818de30"
      },
      "execution_count": 392,
      "outputs": [
        {
          "output_type": "display_data",
          "data": {
            "text/plain": [
              "<Figure size 640x480 with 1 Axes>"
            ],
            "image/png": "[encoded data removed]"
          },
          "metadata": {}
        },
        {
          "output_type": "display_data",
          "data": {
            "text/plain": [
              "<Figure size 640x480 with 1 Axes>"
            ],
            "image/png": "[encoded data removed]"
          },
          "metadata": {}
        },
        {
          "output_type": "display_data",
          "data": {
            "text/plain": [
              "<Figure size 640x480 with 1 Axes>"
            ],
            "image/png": "[encoded data removed]"
          },
          "metadata": {}
        },
        {
          "output_type": "display_data",
          "data": {
            "text/plain": [
              "<Figure size 640x480 with 1 Axes>"
            ],
            "image/png": "[encoded data removed]"
          },
          "metadata": {}
        }
      ]
    },
    {
      "cell_type": "code",
      "source": [
        "avg_rent_city = df.groupby('City')['Rent'].mean().sort_values(ascending=False)\n",
        "sns.barplot(x=avg_rent_city.index, y=avg_rent_city.values)\n",
        "plt.title('Average Rent by City')\n",
        "plt.xticks(rotation=45)\n",
        "plt.show()\n"
      ],
      "metadata": {
        "colab": {
          "base_uri": "https://localhost:8080/",
          "height": 522
        },
        "id": "coT2gMEx_fP5",
        "outputId": "c100c922-f37d-4ee6-e0f7-404a299fd644"
      },
      "execution_count": 393,
      "outputs": [
        {
          "output_type": "display_data",
          "data": {
            "text/plain": [
              "<Figure size 640x480 with 1 Axes>"
            ],
            "image/png": "[encoded data removed]"
          },
          "metadata": {}
        }
      ]
    },
    {
      "cell_type": "code",
      "source": [
        "sns.scatterplot(x='Size', y='Rent', hue='City', data=df)\n",
        "plt.title('Size vs Rent')\n",
        "plt.show()"
      ],
      "metadata": {
        "colab": {
          "base_uri": "https://localhost:8080/",
          "height": 472
        },
        "id": "Tg5VIP7J_zv5",
        "outputId": "fbaee5b8-84df-48f8-b6a8-048d830cf0fe"
      },
      "execution_count": 394,
      "outputs": [
        {
          "output_type": "display_data",
          "data": {
            "text/plain": [
              "<Figure size 640x480 with 1 Axes>"
            ],
            "image/png": "[encoded data removed]"
          },
          "metadata": {}
        }
      ]
    },
    {
      "cell_type": "code",
      "source": [
        "corr = df[['Rent', 'Size', 'BHK', 'Bathroom', 'Floor_num', 'Total_floors']].corr()\n",
        "sns.heatmap(corr, annot=True, cmap='coolwarm')\n",
        "plt.title('Correlation Heatmap')\n",
        "plt.show()"
      ],
      "metadata": {
        "colab": {
          "base_uri": "https://localhost:8080/",
          "height": 517
        },
        "id": "OzbUfuwEAMTe",
        "outputId": "6246c26f-7a79-4542-cf2e-34b1668b5f6f"
      },
      "execution_count": 395,
      "outputs": [
        {
          "output_type": "display_data",
          "data": {
            "text/plain": [
              "<Figure size 640x480 with 2 Axes>"
            ],
            "image/png": "[encoded data removed]"
          },
          "metadata": {}
        }
      ]
    },
    {
      "cell_type": "markdown",
      "source": [
        "#**Feature Engineering**"
      ],
      "metadata": {
        "id": "KlfVXCt2B5E7"
      }
    },
    {
      "cell_type": "code",
      "source": [
        "categorical_cols = ['Area Type', 'City', 'Furnishing Status', 'Tenant Preferred', 'Point of Contact','Area Locality']\n",
        "\n",
        "le = LabelEncoder()\n",
        "for col in categorical_cols:\n",
        "    df[col] = le.fit_transform(df[col])"
      ],
      "metadata": {
        "id": "ojUsbWzuCEQB"
      },
      "execution_count": 396,
      "outputs": []
    },
    {
      "cell_type": "code",
      "source": [
        "df['Rent_per_sqft'] = df['Rent'] / df['Size']\n",
        "df['Bath_per_BHK'] = df['Bathroom'] / df['BHK']"
      ],
      "metadata": {
        "id": "Y7u8L0chjom8"
      },
      "execution_count": 397,
      "outputs": []
    },
    {
      "cell_type": "code",
      "source": [
        "df.columns"
      ],
      "metadata": {
        "colab": {
          "base_uri": "https://localhost:8080/"
        },
        "id": "vlAbzipgkFU4",
        "outputId": "f87df65b-9063-46b5-8454-409bf98be9bc"
      },
      "execution_count": 398,
      "outputs": [
        {
          "output_type": "execute_result",
          "data": {
            "text/plain": [
              "Index(['BHK', 'Size', 'Area Type', 'Area Locality', 'City',\n",
              "       'Furnishing Status', 'Tenant Preferred', 'Bathroom', 'Point of Contact',\n",
              "       'Rent', 'Post_Age_Days', 'Floor_num', 'Total_floors', 'RelativeFloor',\n",
              "       'Rent_per_sqft', 'Bath_per_BHK'],\n",
              "      dtype='object')"
            ]
          },
          "metadata": {},
          "execution_count": 398
        }
      ]
    },
    {
      "cell_type": "code",
      "source": [
        "num_cols = ['Rent', 'Size', 'BHK', 'Bathroom',\n",
        "             'Floor_num', 'Total_floors',\n",
        "             'Rent_per_sqft', 'Bath_per_BHK', 'RelativeFloor']\n",
        "scaler = StandardScaler()\n",
        "df[num_cols] = scaler.fit_transform(df[num_cols])"
      ],
      "metadata": {
        "id": "UHEIn2aykFOl"
      },
      "execution_count": 399,
      "outputs": []
    },
    {
      "cell_type": "markdown",
      "source": [
        "# **Modeling**"
      ],
      "metadata": {
        "id": "deszfmtfnR8R"
      }
    },
    {
      "cell_type": "code",
      "source": [
        "df.dtypes[df.dtypes == 'object']"
      ],
      "metadata": {
        "colab": {
          "base_uri": "https://localhost:8080/",
          "height": 84
        },
        "id": "Qu_LgthUnXJ4",
        "outputId": "12e25ef1-b714-4c74-d021-1ce73df30f60"
      },
      "execution_count": 400,
      "outputs": [
        {
          "output_type": "execute_result",
          "data": {
            "text/plain": [
              "Series([], dtype: object)"
            ],
            "text/html": [
              "<div>\n",
              "<style scoped>\n",
              "    .dataframe tbody tr th:only-of-type {\n",
              "        vertical-align: middle;\n",
              "    }\n",
              "\n",
              "    .dataframe tbody tr th {\n",
              "        vertical-align: top;\n",
              "    }\n",
              "\n",
              "    .dataframe thead th {\n",
              "        text-align: right;\n",
              "    }\n",
              "</style>\n",
              "<table border=\"1\" class=\"dataframe\">\n",
              "  <thead>\n",
              "    <tr style=\"text-align: right;\">\n",
              "      <th></th>\n",
              "      <th>0</th>\n",
              "    </tr>\n",
              "  </thead>\n",
              "  <tbody>\n",
              "  </tbody>\n",
              "</table>\n",
              "</div><br><label><b>dtype:</b> object</label>"
            ]
          },
          "metadata": {},
          "execution_count": 400
        }
      ]
    },
    {
      "cell_type": "code",
      "source": [
        "df.shape"
      ],
      "metadata": {
        "colab": {
          "base_uri": "https://localhost:8080/"
        },
        "id": "RS0ghHtbuvEu",
        "outputId": "31de5716-db5b-4fa2-c64a-f962ab5fd343"
      },
      "execution_count": 401,
      "outputs": [
        {
          "output_type": "execute_result",
          "data": {
            "text/plain": [
              "(4031, 16)"
            ]
          },
          "metadata": {},
          "execution_count": 401
        }
      ]
    },
    {
      "cell_type": "code",
      "source": [
        "df.isnull().sum()"
      ],
      "metadata": {
        "colab": {
          "base_uri": "https://localhost:8080/",
          "height": 585
        },
        "id": "EVKtI6VauxBK",
        "outputId": "05eb2418-0aa0-4c47-da04-1b412ebfd4a0"
      },
      "execution_count": 402,
      "outputs": [
        {
          "output_type": "execute_result",
          "data": {
            "text/plain": [
              "BHK                  0\n",
              "Size                 0\n",
              "Area Type            0\n",
              "Area Locality        0\n",
              "City                 0\n",
              "Furnishing Status    0\n",
              "Tenant Preferred     0\n",
              "Bathroom             0\n",
              "Point of Contact     0\n",
              "Rent                 0\n",
              "Post_Age_Days        0\n",
              "Floor_num            0\n",
              "Total_floors         0\n",
              "RelativeFloor        0\n",
              "Rent_per_sqft        0\n",
              "Bath_per_BHK         0\n",
              "dtype: int64"
            ],
            "text/html": [
              "<div>\n",
              "<style scoped>\n",
              "    .dataframe tbody tr th:only-of-type {\n",
              "        vertical-align: middle;\n",
              "    }\n",
              "\n",
              "    .dataframe tbody tr th {\n",
              "        vertical-align: top;\n",
              "    }\n",
              "\n",
              "    .dataframe thead th {\n",
              "        text-align: right;\n",
              "    }\n",
              "</style>\n",
              "<table border=\"1\" class=\"dataframe\">\n",
              "  <thead>\n",
              "    <tr style=\"text-align: right;\">\n",
              "      <th></th>\n",
              "      <th>0</th>\n",
              "    </tr>\n",
              "  </thead>\n",
              "  <tbody>\n",
              "    <tr>\n",
              "      <th>BHK</th>\n",
              "      <td>0</td>\n",
              "    </tr>\n",
              "    <tr>\n",
              "      <th>Size</th>\n",
              "      <td>0</td>\n",
              "    </tr>\n",
              "    <tr>\n",
              "      <th>Area Type</th>\n",
              "      <td>0</td>\n",
              "    </tr>\n",
              "    <tr>\n",
              "      <th>Area Locality</th>\n",
              "      <td>0</td>\n",
              "    </tr>\n",
              "    <tr>\n",
              "      <th>City</th>\n",
              "      <td>0</td>\n",
              "    </tr>\n",
              "    <tr>\n",
              "      <th>Furnishing Status</th>\n",
              "      <td>0</td>\n",
              "    </tr>\n",
              "    <tr>\n",
              "      <th>Tenant Preferred</th>\n",
              "      <td>0</td>\n",
              "    </tr>\n",
              "    <tr>\n",
              "      <th>Bathroom</th>\n",
              "      <td>0</td>\n",
              "    </tr>\n",
              "    <tr>\n",
              "      <th>Point of Contact</th>\n",
              "      <td>0</td>\n",
              "    </tr>\n",
              "    <tr>\n",
              "      <th>Rent</th>\n",
              "      <td>0</td>\n",
              "    </tr>\n",
              "    <tr>\n",
              "      <th>Post_Age_Days</th>\n",
              "      <td>0</td>\n",
              "    </tr>\n",
              "    <tr>\n",
              "      <th>Floor_num</th>\n",
              "      <td>0</td>\n",
              "    </tr>\n",
              "    <tr>\n",
              "      <th>Total_floors</th>\n",
              "      <td>0</td>\n",
              "    </tr>\n",
              "    <tr>\n",
              "      <th>RelativeFloor</th>\n",
              "      <td>0</td>\n",
              "    </tr>\n",
              "    <tr>\n",
              "      <th>Rent_per_sqft</th>\n",
              "      <td>0</td>\n",
              "    </tr>\n",
              "    <tr>\n",
              "      <th>Bath_per_BHK</th>\n",
              "      <td>0</td>\n",
              "    </tr>\n",
              "  </tbody>\n",
              "</table>\n",
              "</div><br><label><b>dtype:</b> int64</label>"
            ]
          },
          "metadata": {},
          "execution_count": 402
        }
      ]
    },
    {
      "cell_type": "code",
      "source": [
        "df.describe()"
      ],
      "metadata": {
        "colab": {
          "base_uri": "https://localhost:8080/",
          "height": 407
        },
        "id": "s4CKqqjPu-Zt",
        "outputId": "d2a11cc8-acca-4009-f685-60ca5d788f9f"
      },
      "execution_count": 403,
      "outputs": [
        {
          "output_type": "execute_result",
          "data": {
            "text/plain": [
              "                BHK          Size    Area Type  Area Locality         City  \\\n",
              "count  4.031000e+03  4.031000e+03  4031.000000    4031.000000  4031.000000   \n",
              "mean  -3.102345e-16 -5.640627e-17     0.820888       0.820888     2.945671   \n",
              "std    1.000124e+00  1.000124e+00     0.737624       0.737624     2.063334   \n",
              "min   -1.458253e+00 -1.903026e+00     0.000000       0.000000     0.000000   \n",
              "25%   -1.219695e-02 -6.959477e-01     0.000000       0.000000     1.000000   \n",
              "50%   -1.219695e-02 -2.131165e-01     1.000000       1.000000     3.000000   \n",
              "75%   -1.219695e-02  5.111303e-01     1.000000       1.000000     5.000000   \n",
              "max    5.772028e+00  2.925286e+00     2.000000       2.000000     6.000000   \n",
              "\n",
              "       Furnishing Status  Tenant Preferred      Bathroom  Point of Contact  \\\n",
              "count        4031.000000       4031.000000  4.031000e+03       4031.000000   \n",
              "mean            1.517986          1.231208  1.022364e-16          0.865542   \n",
              "std             0.888086          0.886417  1.000124e+00          0.604599   \n",
              "min             0.000000          0.000000 -1.145122e+00          0.000000   \n",
              "25%             1.000000          1.000000 -1.145122e+00          0.000000   \n",
              "50%             1.000000          1.000000  1.654931e-01          1.000000   \n",
              "75%             2.000000          1.000000  1.654931e-01          1.000000   \n",
              "max             3.000000          3.000000  5.407952e+00          2.000000   \n",
              "\n",
              "               Rent  Post_Age_Days     Floor_num  Total_floors  RelativeFloor  \\\n",
              "count  4.031000e+03    4031.000000  4.031000e+03  4.031000e+03   4.031000e+03   \n",
              "mean  -4.230470e-17      33.171173 -2.820314e-17 -5.640627e-17   1.304395e-16   \n",
              "std    1.000124e+00      20.526844  1.000124e+00  1.000124e+00   1.000124e+00   \n",
              "min   -5.909176e-01       0.000000 -1.023496e+00 -6.577724e-01  -4.807914e+00   \n",
              "25%   -4.039194e-01      16.000000 -4.371243e-01 -4.138572e-01  -6.872836e-01   \n",
              "50%   -2.976704e-01      31.000000 -2.416669e-01 -2.918996e-01   1.368425e-01   \n",
              "75%    2.107649e-02      49.000000 -4.620959e-02 -1.699419e-01   6.862599e-01   \n",
              "max    2.488334e+01      89.000000  1.422218e+01  8.732964e+00   1.785095e+00   \n",
              "\n",
              "       Rent_per_sqft  Bath_per_BHK  \n",
              "count   4.031000e+03  4.031000e+03  \n",
              "mean    1.410157e-17 -1.163379e-16  \n",
              "std     1.000124e+00  1.000124e+00  \n",
              "min    -7.267545e-01 -2.435404e+00  \n",
              "25%    -4.562207e-01  1.422284e-01  \n",
              "50%    -3.343250e-01  1.422284e-01  \n",
              "75%     2.456457e-02  1.422284e-01  \n",
              "max     2.102789e+01  7.015915e+00  "
            ],
            "text/html": [
              "\n",
              "  <div id=\"df-25e17fa1-a15d-4874-8254-b6769466bfb1\" class=\"colab-df-container\">\n",
              "    <div>\n",
              "<style scoped>\n",
              "    .dataframe tbody tr th:only-of-type {\n",
              "        vertical-align: middle;\n",
              "    }\n",
              "\n",
              "    .dataframe tbody tr th {\n",
              "        vertical-align: top;\n",
              "    }\n",
              "\n",
              "    .dataframe thead th {\n",
              "        text-align: right;\n",
              "    }\n",
              "</style>\n",
              "<table border=\"1\" class=\"dataframe\">\n",
              "  <thead>\n",
              "    <tr style=\"text-align: right;\">\n",
              "      <th></th>\n",
              "      <th>BHK</th>\n",
              "      <th>Size</th>\n",
              "      <th>Area Type</th>\n",
              "      <th>Area Locality</th>\n",
              "      <th>City</th>\n",
              "      <th>Furnishing Status</th>\n",
              "      <th>Tenant Preferred</th>\n",
              "      <th>Bathroom</th>\n",
              "      <th>Point of Contact</th>\n",
              "      <th>Rent</th>\n",
              "      <th>Post_Age_Days</th>\n",
              "      <th>Floor_num</th>\n",
              "      <th>Total_floors</th>\n",
              "      <th>RelativeFloor</th>\n",
              "      <th>Rent_per_sqft</th>\n",
              "      <th>Bath_per_BHK</th>\n",
              "    </tr>\n",
              "  </thead>\n",
              "  <tbody>\n",
              "    <tr>\n",
              "      <th>count</th>\n",
              "      <td>4.031000e+03</td>\n",
              "      <td>4.031000e+03</td>\n",
              "      <td>4031.000000</td>\n",
              "      <td>4031.000000</td>\n",
              "      <td>4031.000000</td>\n",
              "      <td>4031.000000</td>\n",
              "      <td>4031.000000</td>\n",
              "      <td>4.031000e+03</td>\n",
              "      <td>4031.000000</td>\n",
              "      <td>4.031000e+03</td>\n",
              "      <td>4031.000000</td>\n",
              "      <td>4.031000e+03</td>\n",
              "      <td>4.031000e+03</td>\n",
              "      <td>4.031000e+03</td>\n",
              "      <td>4.031000e+03</td>\n",
              "      <td>4.031000e+03</td>\n",
              "    </tr>\n",
              "    <tr>\n",
              "      <th>mean</th>\n",
              "      <td>-3.102345e-16</td>\n",
              "      <td>-5.640627e-17</td>\n",
              "      <td>0.820888</td>\n",
              "      <td>0.820888</td>\n",
              "      <td>2.945671</td>\n",
              "      <td>1.517986</td>\n",
              "      <td>1.231208</td>\n",
              "      <td>1.022364e-16</td>\n",
              "      <td>0.865542</td>\n",
              "      <td>-4.230470e-17</td>\n",
              "      <td>33.171173</td>\n",
              "      <td>-2.820314e-17</td>\n",
              "      <td>-5.640627e-17</td>\n",
              "      <td>1.304395e-16</td>\n",
              "      <td>1.410157e-17</td>\n",
              "      <td>-1.163379e-16</td>\n",
              "    </tr>\n",
              "    <tr>\n",
              "      <th>std</th>\n",
              "      <td>1.000124e+00</td>\n",
              "      <td>1.000124e+00</td>\n",
              "      <td>0.737624</td>\n",
              "      <td>0.737624</td>\n",
              "      <td>2.063334</td>\n",
              "      <td>0.888086</td>\n",
              "      <td>0.886417</td>\n",
              "      <td>1.000124e+00</td>\n",
              "      <td>0.604599</td>\n",
              "      <td>1.000124e+00</td>\n",
              "      <td>20.526844</td>\n",
              "      <td>1.000124e+00</td>\n",
              "      <td>1.000124e+00</td>\n",
              "      <td>1.000124e+00</td>\n",
              "      <td>1.000124e+00</td>\n",
              "      <td>1.000124e+00</td>\n",
              "    </tr>\n",
              "    <tr>\n",
              "      <th>min</th>\n",
              "      <td>-1.458253e+00</td>\n",
              "      <td>-1.903026e+00</td>\n",
              "      <td>0.000000</td>\n",
              "      <td>0.000000</td>\n",
              "      <td>0.000000</td>\n",
              "      <td>0.000000</td>\n",
              "      <td>0.000000</td>\n",
              "      <td>-1.145122e+00</td>\n",
              "      <td>0.000000</td>\n",
              "      <td>-5.909176e-01</td>\n",
              "      <td>0.000000</td>\n",
              "      <td>-1.023496e+00</td>\n",
              "      <td>-6.577724e-01</td>\n",
              "      <td>-4.807914e+00</td>\n",
              "      <td>-7.267545e-01</td>\n",
              "      <td>-2.435404e+00</td>\n",
              "    </tr>\n",
              "    <tr>\n",
              "      <th>25%</th>\n",
              "      <td>-1.219695e-02</td>\n",
              "      <td>-6.959477e-01</td>\n",
              "      <td>0.000000</td>\n",
              "      <td>0.000000</td>\n",
              "      <td>1.000000</td>\n",
              "      <td>1.000000</td>\n",
              "      <td>1.000000</td>\n",
              "      <td>-1.145122e+00</td>\n",
              "      <td>0.000000</td>\n",
              "      <td>-4.039194e-01</td>\n",
              "      <td>16.000000</td>\n",
              "      <td>-4.371243e-01</td>\n",
              "      <td>-4.138572e-01</td>\n",
              "      <td>-6.872836e-01</td>\n",
              "      <td>-4.562207e-01</td>\n",
              "      <td>1.422284e-01</td>\n",
              "    </tr>\n",
              "    <tr>\n",
              "      <th>50%</th>\n",
              "      <td>-1.219695e-02</td>\n",
              "      <td>-2.131165e-01</td>\n",
              "      <td>1.000000</td>\n",
              "      <td>1.000000</td>\n",
              "      <td>3.000000</td>\n",
              "      <td>1.000000</td>\n",
              "      <td>1.000000</td>\n",
              "      <td>1.654931e-01</td>\n",
              "      <td>1.000000</td>\n",
              "      <td>-2.976704e-01</td>\n",
              "      <td>31.000000</td>\n",
              "      <td>-2.416669e-01</td>\n",
              "      <td>-2.918996e-01</td>\n",
              "      <td>1.368425e-01</td>\n",
              "      <td>-3.343250e-01</td>\n",
              "      <td>1.422284e-01</td>\n",
              "    </tr>\n",
              "    <tr>\n",
              "      <th>75%</th>\n",
              "      <td>-1.219695e-02</td>\n",
              "      <td>5.111303e-01</td>\n",
              "      <td>1.000000</td>\n",
              "      <td>1.000000</td>\n",
              "      <td>5.000000</td>\n",
              "      <td>2.000000</td>\n",
              "      <td>1.000000</td>\n",
              "      <td>1.654931e-01</td>\n",
              "      <td>1.000000</td>\n",
              "      <td>2.107649e-02</td>\n",
              "      <td>49.000000</td>\n",
              "      <td>-4.620959e-02</td>\n",
              "      <td>-1.699419e-01</td>\n",
              "      <td>6.862599e-01</td>\n",
              "      <td>2.456457e-02</td>\n",
              "      <td>1.422284e-01</td>\n",
              "    </tr>\n",
              "    <tr>\n",
              "      <th>max</th>\n",
              "      <td>5.772028e+00</td>\n",
              "      <td>2.925286e+00</td>\n",
              "      <td>2.000000</td>\n",
              "      <td>2.000000</td>\n",
              "      <td>6.000000</td>\n",
              "      <td>3.000000</td>\n",
              "      <td>3.000000</td>\n",
              "      <td>5.407952e+00</td>\n",
              "      <td>2.000000</td>\n",
              "      <td>2.488334e+01</td>\n",
              "      <td>89.000000</td>\n",
              "      <td>1.422218e+01</td>\n",
              "      <td>8.732964e+00</td>\n",
              "      <td>1.785095e+00</td>\n",
              "      <td>2.102789e+01</td>\n",
              "      <td>7.015915e+00</td>\n",
              "    </tr>\n",
              "  </tbody>\n",
              "</table>\n",
              "</div>\n",
              "    <div class=\"colab-df-buttons\">\n",
              "\n",
              "  <div class=\"colab-df-container\">\n",
              "    <button class=\"colab-df-convert\" onclick=\"convertToInteractive('df-25e17fa1-a15d-4874-8254-b6769466bfb1')\"\n",
              "            title=\"Convert this dataframe to an interactive table.\"\n",
              "            style=\"display:none;\">\n",
              "\n",
              "  <svg xmlns=\"http://www.w3.org/2000/svg\" height=\"24px\" viewBox=\"0 -960 960 960\">\n",
              "    <path d=\"M120-120v-720h720v720H120Zm60-500h600v-160H180v160Zm220 220h160v-160H400v160Zm0 220h160v-160H400v160ZM180-400h160v-160H180v160Zm440 0h160v-160H620v160ZM180-180h160v-160H180v160Zm440 0h160v-160H620v160Z\"/>\n",
              "  </svg>\n",
              "    </button>\n",
              "\n",
              "  <style>\n",
              "    .colab-df-container {\n",
              "      display:flex;\n",
              "      gap: 12px;\n",
              "    }\n",
              "\n",
              "    .colab-df-convert {\n",
              "      background-color: #E8F0FE;\n",
              "      border: none;\n",
              "      border-radius: 50%;\n",
              "      cursor: pointer;\n",
              "      display: none;\n",
              "      fill: #1967D2;\n",
              "      height: 32px;\n",
              "      padding: 0 0 0 0;\n",
              "      width: 32px;\n",
              "    }\n",
              "\n",
              "    .colab-df-convert:hover {\n",
              "      background-color: #E2EBFA;\n",
              "      box-shadow: 0px 1px 2px rgba(60, 64, 67, 0.3), 0px 1px 3px 1px rgba(60, 64, 67, 0.15);\n",
              "      fill: #174EA6;\n",
              "    }\n",
              "\n",
              "    .colab-df-buttons div {\n",
              "      margin-bottom: 4px;\n",
              "    }\n",
              "\n",
              "    [theme=dark] .colab-df-convert {\n",
              "      background-color: #3B4455;\n",
              "      fill: #D2E3FC;\n",
              "    }\n",
              "\n",
              "    [theme=dark] .colab-df-convert:hover {\n",
              "      background-color: #434B5C;\n",
              "      box-shadow: 0px 1px 3px 1px rgba(0, 0, 0, 0.15);\n",
              "      filter: drop-shadow(0px 1px 2px rgba(0, 0, 0, 0.3));\n",
              "      fill: #FFFFFF;\n",
              "    }\n",
              "  </style>\n",
              "\n",
              "    <script>\n",
              "      const buttonEl =\n",
              "        document.querySelector('#df-25e17fa1-a15d-4874-8254-b6769466bfb1 button.colab-df-convert');\n",
              "      buttonEl.style.display =\n",
              "        google.colab.kernel.accessAllowed ? 'block' : 'none';\n",
              "\n",
              "      async function convertToInteractive(key) {\n",
              "        const element = document.querySelector('#df-25e17fa1-a15d-4874-8254-b6769466bfb1');\n",
              "        const dataTable =\n",
              "          await google.colab.kernel.invokeFunction('convertToInteractive',\n",
              "                                                    [key], {});\n",
              "        if (!dataTable) return;\n",
              "\n",
              "        const docLinkHtml = 'Like what you see? Visit the ' +\n",
              "          '<a target=\"_blank\" href=https://colab.research.google.com/notebooks/data_table.ipynb>data table notebook</a>'\n",
              "          + ' to learn more about interactive tables.';\n",
              "        element.innerHTML = '';\n",
              "        dataTable['output_type'] = 'display_data';\n",
              "        await google.colab.output.renderOutput(dataTable, element);\n",
              "        const docLink = document.createElement('div');\n",
              "        docLink.innerHTML = docLinkHtml;\n",
              "        element.appendChild(docLink);\n",
              "      }\n",
              "    </script>\n",
              "  </div>\n",
              "\n",
              "\n",
              "    <div id=\"df-ae0334d7-ace4-43f4-a631-c1699b78ef4d\">\n",
              "      <button class=\"colab-df-quickchart\" onclick=\"quickchart('df-ae0334d7-ace4-43f4-a631-c1699b78ef4d')\"\n",
              "                title=\"Suggest charts\"\n",
              "                style=\"display:none;\">\n",
              "\n",
              "<svg xmlns=\"http://www.w3.org/2000/svg\" height=\"24px\"viewBox=\"0 0 24 24\"\n",
              "     width=\"24px\">\n",
              "    <g>\n",
              "        <path d=\"M19 3H5c-1.1 0-2 .9-2 2v14c0 1.1.9 2 2 2h14c1.1 0 2-.9 2-2V5c0-1.1-.9-2-2-2zM9 17H7v-7h2v7zm4 0h-2V7h2v10zm4 0h-2v-4h2v4z\"/>\n",
              "    </g>\n",
              "</svg>\n",
              "      </button>\n",
              "\n",
              "<style>\n",
              "  .colab-df-quickchart {\n",
              "      --bg-color: #E8F0FE;\n",
              "      --fill-color: #1967D2;\n",
              "      --hover-bg-color: #E2EBFA;\n",
              "      --hover-fill-color: #174EA6;\n",
              "      --disabled-fill-color: #AAA;\n",
              "      --disabled-bg-color: #DDD;\n",
              "  }\n",
              "\n",
              "  [theme=dark] .colab-df-quickchart {\n",
              "      --bg-color: #3B4455;\n",
              "      --fill-color: #D2E3FC;\n",
              "      --hover-bg-color: #434B5C;\n",
              "      --hover-fill-color: #FFFFFF;\n",
              "      --disabled-bg-color: #3B4455;\n",
              "      --disabled-fill-color: #666;\n",
              "  }\n",
              "\n",
              "  .colab-df-quickchart {\n",
              "    background-color: var(--bg-color);\n",
              "    border: none;\n",
              "    border-radius: 50%;\n",
              "    cursor: pointer;\n",
              "    display: none;\n",
              "    fill: var(--fill-color);\n",
              "    height: 32px;\n",
              "    padding: 0;\n",
              "    width: 32px;\n",
              "  }\n",
              "\n",
              "  .colab-df-quickchart:hover {\n",
              "    background-color: var(--hover-bg-color);\n",
              "    box-shadow: 0 1px 2px rgba(60, 64, 67, 0.3), 0 1px 3px 1px rgba(60, 64, 67, 0.15);\n",
              "    fill: var(--button-hover-fill-color);\n",
              "  }\n",
              "\n",
              "  .colab-df-quickchart-complete:disabled,\n",
              "  .colab-df-quickchart-complete:disabled:hover {\n",
              "    background-color: var(--disabled-bg-color);\n",
              "    fill: var(--disabled-fill-color);\n",
              "    box-shadow: none;\n",
              "  }\n",
              "\n",
              "  .colab-df-spinner {\n",
              "    border: 2px solid var(--fill-color);\n",
              "    border-color: transparent;\n",
              "    border-bottom-color: var(--fill-color);\n",
              "    animation:\n",
              "      spin 1s steps(1) infinite;\n",
              "  }\n",
              "\n",
              "  @keyframes spin {\n",
              "    0% {\n",
              "      border-color: transparent;\n",
              "      border-bottom-color: var(--fill-color);\n",
              "      border-left-color: var(--fill-color);\n",
              "    }\n",
              "    20% {\n",
              "      border-color: transparent;\n",
              "      border-left-color: var(--fill-color);\n",
              "      border-top-color: var(--fill-color);\n",
              "    }\n",
              "    30% {\n",
              "      border-color: transparent;\n",
              "      border-left-color: var(--fill-color);\n",
              "      border-top-color: var(--fill-color);\n",
              "      border-right-color: var(--fill-color);\n",
              "    }\n",
              "    40% {\n",
              "      border-color: transparent;\n",
              "      border-right-color: var(--fill-color);\n",
              "      border-top-color: var(--fill-color);\n",
              "    }\n",
              "    60% {\n",
              "      border-color: transparent;\n",
              "      border-right-color: var(--fill-color);\n",
              "    }\n",
              "    80% {\n",
              "      border-color: transparent;\n",
              "      border-right-color: var(--fill-color);\n",
              "      border-bottom-color: var(--fill-color);\n",
              "    }\n",
              "    90% {\n",
              "      border-color: transparent;\n",
              "      border-bottom-color: var(--fill-color);\n",
              "    }\n",
              "  }\n",
              "</style>\n",
              "\n",
              "      <script>\n",
              "        async function quickchart(key) {\n",
              "          const quickchartButtonEl =\n",
              "            document.querySelector('#' + key + ' button');\n",
              "          quickchartButtonEl.disabled = true;  // To prevent multiple clicks.\n",
              "          quickchartButtonEl.classList.add('colab-df-spinner');\n",
              "          try {\n",
              "            const charts = await google.colab.kernel.invokeFunction(\n",
              "                'suggestCharts', [key], {});\n",
              "          } catch (error) {\n",
              "            console.error('Error during call to suggestCharts:', error);\n",
              "          }\n",
              "          quickchartButtonEl.classList.remove('colab-df-spinner');\n",
              "          quickchartButtonEl.classList.add('colab-df-quickchart-complete');\n",
              "        }\n",
              "        (() => {\n",
              "          let quickchartButtonEl =\n",
              "            document.querySelector('#df-ae0334d7-ace4-43f4-a631-c1699b78ef4d button');\n",
              "          quickchartButtonEl.style.display =\n",
              "            google.colab.kernel.accessAllowed ? 'block' : 'none';\n",
              "        })();\n",
              "      </script>\n",
              "    </div>\n",
              "\n",
              "    </div>\n",
              "  </div>\n"
            ],
            "application/vnd.google.colaboratory.intrinsic+json": {
              "type": "dataframe",
              "summary": "{\n  \"name\": \"df\",\n  \"rows\": 8,\n  \"fields\": [\n    {\n      \"column\": \"BHK\",\n      \"properties\": {\n        \"dtype\": \"number\",\n        \"std\": 1424.9088005942053,\n        \"min\": -1.4582531986309653,\n        \"max\": 4031.0,\n        \"num_unique_values\": 6,\n        \"samples\": [\n          4031.0,\n          -3.102344864643454e-16,\n          5.772028035909527\n        ],\n        \"semantic_type\": \"\",\n        \"description\": \"\"\n      }\n    },\n    {\n      \"column\": \"Size\",\n      \"properties\": {\n        \"dtype\": \"number\",\n        \"std\": 1425.0923516406672,\n        \"min\": -1.9030256730299113,\n        \"max\": 4031.0,\n        \"num_unique_values\": 8,\n        \"samples\": [\n          -5.640627026624462e-17,\n          -0.21311649098498214,\n          4031.0\n        ],\n        \"semantic_type\": \"\",\n        \"description\": \"\"\n      }\n    },\n    {\n      \"column\": \"Area Type\",\n      \"properties\": {\n        \"dtype\": \"number\",\n        \"std\": 1424.893110773527,\n        \"min\": 0.0,\n        \"max\": 4031.0,\n        \"num_unique_values\": 6,\n        \"samples\": [\n          4031.0,\n          0.8208881170925328,\n          2.0\n        ],\n        \"semantic_type\": \"\",\n        \"description\": \"\"\n      }\n    },\n    {\n      \"column\": \"Area Locality\",\n      \"properties\": {\n        \"dtype\": \"number\",\n        \"std\": 1424.893110773527,\n        \"min\": 0.0,\n        \"max\": 4031.0,\n        \"num_unique_values\": 6,\n        \"samples\": [\n          4031.0,\n          0.8208881170925328,\n          2.0\n        ],\n        \"semantic_type\": \"\",\n        \"description\": \"\"\n      }\n    },\n    {\n      \"column\": \"City\",\n      \"properties\": {\n        \"dtype\": \"number\",\n        \"std\": 1424.1644512731084,\n        \"min\": 0.0,\n        \"max\": 4031.0,\n        \"num_unique_values\": 8,\n        \"samples\": [\n          2.9456710493674025,\n          3.0,\n          4031.0\n        ],\n        \"semantic_type\": \"\",\n        \"description\": \"\"\n      }\n    },\n    {\n      \"column\": \"Furnishing Status\",\n      \"properties\": {\n        \"dtype\": \"number\",\n        \"std\": 1424.6989125674359,\n        \"min\": 0.0,\n        \"max\": 4031.0,\n        \"num_unique_values\": 7,\n        \"samples\": [\n          4031.0,\n          1.5179856115107915,\n          2.0\n        ],\n        \"semantic_type\": \"\",\n        \"description\": \"\"\n      }\n    },\n    {\n      \"column\": \"Tenant Preferred\",\n      \"properties\": {\n        \"dtype\": \"number\",\n        \"std\": 1424.7639605349834,\n        \"min\": 0.0,\n        \"max\": 4031.0,\n        \"num_unique_values\": 6,\n        \"samples\": [\n          4031.0,\n          1.2312081369387249,\n          3.0\n        ],\n        \"semantic_type\": \"\",\n        \"description\": \"\"\n      }\n    },\n    {\n      \"column\": \"Bathroom\",\n      \"properties\": {\n        \"dtype\": \"number\",\n        \"std\": 1424.950526811555,\n        \"min\": -1.1451215507896637,\n        \"max\": 4031.0,\n        \"num_unique_values\": 6,\n        \"samples\": [\n          4031.0,\n          1.0223636485756838e-16,\n          5.407951946134151\n        ],\n        \"semantic_type\": \"\",\n        \"description\": \"\"\n      }\n    },\n    {\n      \"column\": \"Point of Contact\",\n      \"properties\": {\n        \"dtype\": \"number\",\n        \"std\": 1424.897576028972,\n        \"min\": 0.0,\n        \"max\": 4031.0,\n        \"num_unique_values\": 6,\n        \"samples\": [\n          4031.0,\n          0.8655420491193252,\n          2.0\n        ],\n        \"semantic_type\": \"\",\n        \"description\": \"\"\n      }\n    },\n    {\n      \"column\": \"Rent\",\n      \"properties\": {\n        \"dtype\": \"number\",\n        \"std\": 1423.9574213323783,\n        \"min\": -0.5909176235202949,\n        \"max\": 4031.0,\n        \"num_unique_values\": 8,\n        \"samples\": [\n          -4.2304702699683463e-17,\n          -0.29767044315546254,\n          4031.0\n        ],\n        \"semantic_type\": \"\",\n        \"description\": \"\"\n      }\n    },\n    {\n      \"column\": \"Post_Age_Days\",\n      \"properties\": {\n        \"dtype\": \"number\",\n        \"std\": 1413.3663731251024,\n        \"min\": 0.0,\n        \"max\": 4031.0,\n        \"num_unique_values\": 8,\n        \"samples\": [\n          33.1711734061027,\n          31.0,\n          4031.0\n        ],\n        \"semantic_type\": \"\",\n        \"description\": \"\"\n      }\n    },\n    {\n      \"column\": \"Floor_num\",\n      \"properties\": {\n        \"dtype\": \"number\",\n        \"std\": 1424.502144938699,\n        \"min\": -1.0234962900655349,\n        \"max\": 4031.0,\n        \"num_unique_values\": 8,\n        \"samples\": [\n          -2.820313513312231e-17,\n          -0.24166692769028927,\n          4031.0\n        ],\n        \"semantic_type\": \"\",\n        \"description\": \"\"\n      }\n    },\n    {\n      \"column\": \"Total_floors\",\n      \"properties\": {\n        \"dtype\": \"number\",\n        \"std\": 1424.763002314297,\n        \"min\": -0.6577724228989527,\n        \"max\": 4031.0,\n        \"num_unique_values\": 8,\n        \"samples\": [\n          -5.640627026624462e-17,\n          -0.2918995600997698,\n          4031.0\n        ],\n        \"semantic_type\": \"\",\n        \"description\": \"\"\n      }\n    },\n    {\n      \"column\": \"RelativeFloor\",\n      \"properties\": {\n        \"dtype\": \"number\",\n        \"std\": 1425.2704101671395,\n        \"min\": -4.807913959947855,\n        \"max\": 4031.0,\n        \"num_unique_values\": 8,\n        \"samples\": [\n          1.3043949999069067e-16,\n          0.13684247455419649,\n          4031.0\n        ],\n        \"semantic_type\": \"\",\n        \"description\": \"\"\n      }\n    },\n    {\n      \"column\": \"Rent_per_sqft\",\n      \"properties\": {\n        \"dtype\": \"number\",\n        \"std\": 1424.1557777191065,\n        \"min\": -0.7267544780303025,\n        \"max\": 4031.0,\n        \"num_unique_values\": 8,\n        \"samples\": [\n          1.4101567566561154e-17,\n          -0.3343250230165759,\n          4031.0\n        ],\n        \"semantic_type\": \"\",\n        \"description\": \"\"\n      }\n    },\n    {\n      \"column\": \"Bath_per_BHK\",\n      \"properties\": {\n        \"dtype\": \"number\",\n        \"std\": 1424.87286161694,\n        \"min\": -2.435403961103813,\n        \"max\": 4031.0,\n        \"num_unique_values\": 6,\n        \"samples\": [\n          4031.0,\n          -1.1633793242412954e-16,\n          7.015914732310833\n        ],\n        \"semantic_type\": \"\",\n        \"description\": \"\"\n      }\n    }\n  ]\n}"
            }
          },
          "metadata": {},
          "execution_count": 403
        }
      ]
    },
    {
      "cell_type": "code",
      "source": [
        "def evaluate_models(df, target_col='Rent', test_size=0.2, random_state=42, encoding='auto'):\n",
        "    \"\"\"\n",
        "    Runs multiple regression models, compares results, and tunes the best one automatically.\n",
        "    \"\"\"\n",
        "\n",
        "    # Split features and target\n",
        "    X = df.drop(target_col, axis=1)\n",
        "    y = df[target_col]\n",
        "\n",
        "    # Handle encoding automatically\n",
        "    if encoding == 'auto':\n",
        "        if X.select_dtypes(include='object').shape[1] > 0:\n",
        "            print(\"Detected categorical features — applying OneHotEncoding automatically.\")\n",
        "            X = pd.get_dummies(X, drop_first=True)\n",
        "    elif encoding == 'onehot':\n",
        "        X = pd.get_dummies(X, drop_first=True)\n",
        "    # if encoding == 'label' → do nothing\n",
        "\n",
        "    # Split data\n",
        "    X_train, X_test, y_train, y_test = train_test_split(X, y, test_size=test_size, random_state=random_state)\n",
        "\n",
        "    # Models to test\n",
        "    models = {\n",
        "        \"Linear Regression\": LinearRegression(),\n",
        "        \"Ridge Regression\": Ridge(),\n",
        "        \"Lasso Regression\": Lasso(),\n",
        "        \"Random Forest\": RandomForestRegressor(random_state=random_state),\n",
        "        \"XGBoost\": XGBRegressor(random_state=random_state, n_estimators=300, learning_rate=0.1)\n",
        "    }\n",
        "\n",
        "    results = []\n",
        "\n",
        "    # Train and evaluate each model\n",
        "    for name, model in models.items():\n",
        "        model.fit(X_train, y_train)\n",
        "        y_pred = model.predict(X_test)\n",
        "\n",
        "        r2 = r2_score(y_test, y_pred)\n",
        "        mae = mean_absolute_error(y_test, y_pred)\n",
        "        rmse = np.sqrt(mean_squared_error(y_test, y_pred))\n",
        "\n",
        "        results.append({\n",
        "            \"Model\": name,\n",
        "            \"R² Score\": round(r2, 4),\n",
        "            \"MAE\": round(mae, 2),\n",
        "            \"RMSE\": round(rmse, 2)\n",
        "        })\n",
        "\n",
        "    # Create a summary DataFrame\n",
        "    results_df = pd.DataFrame(results).sort_values(by=\"R² Score\", ascending=False).reset_index(drop=True)\n",
        "    print(\"\\n Model Comparison:\")\n",
        "    display(results_df)\n",
        "\n",
        "    # =================================\n",
        "    # Tune the Best Model\n",
        "    # =================================\n",
        "    best_model_name = results_df.loc[0, \"Model\"]\n",
        "    print(f\"\\n  Best Model Detected: {best_model_name}\\n\")\n",
        "\n",
        "    # Parameter grids for all models\n",
        "    param_grids = {\n",
        "        \"Linear Regression\": {},\n",
        "        \"Ridge Regression\": {'alpha': [0.1, 1.0, 10.0, 50.0]},\n",
        "        \"Lasso Regression\": {'alpha': [0.001, 0.01, 0.1, 1.0]},\n",
        "        \"Random Forest\": {\n",
        "            'n_estimators': [100, 200, 300],\n",
        "            'max_depth': [None, 10, 20],\n",
        "            'min_samples_split': [2, 5, 10]\n",
        "        },\n",
        "        \"XGBoost\": {\n",
        "            'n_estimators': [100, 200, 300],\n",
        "            'max_depth': [3, 5, 7],\n",
        "            'learning_rate': [0.01, 0.05, 0.1],\n",
        "            'subsample': [0.8, 1.0],\n",
        "            'colsample_bytree': [0.8, 1.0]\n",
        "        }\n",
        "    }\n",
        "\n",
        "    if best_model_name in param_grids and param_grids[best_model_name]:\n",
        "        print(f\" Tuning hyperparameters for {best_model_name}...\")\n",
        "        model = models[best_model_name]\n",
        "        grid_search = GridSearchCV(\n",
        "            estimator=model,\n",
        "            param_grid=param_grids[best_model_name],\n",
        "            scoring='r2',\n",
        "            cv=3,\n",
        "            verbose=1,\n",
        "            n_jobs=-1\n",
        "        )\n",
        "        grid_search.fit(X_train, y_train)\n",
        "\n",
        "        print(\"\\n Best Parameters Found:\")\n",
        "        print(grid_search.best_params_)\n",
        "        print(f\" Best Cross-Validation R²: {grid_search.best_score_:.4f}\")\n",
        "\n",
        "        # Evaluate tuned model\n",
        "        tuned_model = grid_search.best_estimator_\n",
        "        y_pred_tuned = tuned_model.predict(X_test)\n",
        "\n",
        "        print(\"\\n Final Evaluation after Tuning:\")\n",
        "        print(\"R² Score:\", round(r2_score(y_test, y_pred_tuned), 4))\n",
        "        print(\"MAE:\", round(mean_absolute_error(y_test, y_pred_tuned), 2))\n",
        "        print(\"RMSE:\", round(np.sqrt(mean_squared_error(y_test, y_pred_tuned)), 2))\n",
        "    else:\n",
        "        print(\" No hyperparameter tuning applied (model has no tunable params).\")\n",
        "\n",
        "    return results_df\n",
        "\n",
        "\n",
        "# ======================\n",
        "# Run All Models\n",
        "# ======================\n",
        "results = evaluate_models(df, target_col='Rent', encoding='label')"
      ],
      "metadata": {
        "colab": {
          "base_uri": "https://localhost:8080/",
          "height": 484
        },
        "id": "_IaStLQ0qpvb",
        "outputId": "3e7748a7-61f1-4834-ad2c-e8b257a7d8c7"
      },
      "execution_count": 404,
      "outputs": [
        {
          "output_type": "stream",
          "name": "stdout",
          "text": [
            "\n",
            " Model Comparison:\n"
          ]
        },
        {
          "output_type": "display_data",
          "data": {
            "text/plain": [
              "               Model  R² Score   MAE  RMSE\n",
              "0            XGBoost    0.9499  0.03  0.27\n",
              "1      Random Forest    0.8940  0.03  0.39\n",
              "2  Linear Regression    0.6749  0.24  0.68\n",
              "3   Ridge Regression    0.6748  0.24  0.68\n",
              "4   Lasso Regression    0.0054  0.51  1.19"
            ],
            "text/html": [
              "\n",
              "  <div id=\"df-fa70ee4e-e292-45b0-917e-0b46cd31f388\" class=\"colab-df-container\">\n",
              "    <div>\n",
              "<style scoped>\n",
              "    .dataframe tbody tr th:only-of-type {\n",
              "        vertical-align: middle;\n",
              "    }\n",
              "\n",
              "    .dataframe tbody tr th {\n",
              "        vertical-align: top;\n",
              "    }\n",
              "\n",
              "    .dataframe thead th {\n",
              "        text-align: right;\n",
              "    }\n",
              "</style>\n",
              "<table border=\"1\" class=\"dataframe\">\n",
              "  <thead>\n",
              "    <tr style=\"text-align: right;\">\n",
              "      <th></th>\n",
              "      <th>Model</th>\n",
              "      <th>R² Score</th>\n",
              "      <th>MAE</th>\n",
              "      <th>RMSE</th>\n",
              "    </tr>\n",
              "  </thead>\n",
              "  <tbody>\n",
              "    <tr>\n",
              "      <th>0</th>\n",
              "      <td>XGBoost</td>\n",
              "      <td>0.9499</td>\n",
              "      <td>0.03</td>\n",
              "      <td>0.27</td>\n",
              "    </tr>\n",
              "    <tr>\n",
              "      <th>1</th>\n",
              "      <td>Random Forest</td>\n",
              "      <td>0.8940</td>\n",
              "      <td>0.03</td>\n",
              "      <td>0.39</td>\n",
              "    </tr>\n",
              "    <tr>\n",
              "      <th>2</th>\n",
              "      <td>Linear Regression</td>\n",
              "      <td>0.6749</td>\n",
              "      <td>0.24</td>\n",
              "      <td>0.68</td>\n",
              "    </tr>\n",
              "    <tr>\n",
              "      <th>3</th>\n",
              "      <td>Ridge Regression</td>\n",
              "      <td>0.6748</td>\n",
              "      <td>0.24</td>\n",
              "      <td>0.68</td>\n",
              "    </tr>\n",
              "    <tr>\n",
              "      <th>4</th>\n",
              "      <td>Lasso Regression</td>\n",
              "      <td>0.0054</td>\n",
              "      <td>0.51</td>\n",
              "      <td>1.19</td>\n",
              "    </tr>\n",
              "  </tbody>\n",
              "</table>\n",
              "</div>\n",
              "    <div class=\"colab-df-buttons\">\n",
              "\n",
              "  <div class=\"colab-df-container\">\n",
              "    <button class=\"colab-df-convert\" onclick=\"convertToInteractive('df-fa70ee4e-e292-45b0-917e-0b46cd31f388')\"\n",
              "            title=\"Convert this dataframe to an interactive table.\"\n",
              "            style=\"display:none;\">\n",
              "\n",
              "  <svg xmlns=\"http://www.w3.org/2000/svg\" height=\"24px\" viewBox=\"0 -960 960 960\">\n",
              "    <path d=\"M120-120v-720h720v720H120Zm60-500h600v-160H180v160Zm220 220h160v-160H400v160Zm0 220h160v-160H400v160ZM180-400h160v-160H180v160Zm440 0h160v-160H620v160ZM180-180h160v-160H180v160Zm440 0h160v-160H620v160Z\"/>\n",
              "  </svg>\n",
              "    </button>\n",
              "\n",
              "  <style>\n",
              "    .colab-df-container {\n",
              "      display:flex;\n",
              "      gap: 12px;\n",
              "    }\n",
              "\n",
              "    .colab-df-convert {\n",
              "      background-color: #E8F0FE;\n",
              "      border: none;\n",
              "      border-radius: 50%;\n",
              "      cursor: pointer;\n",
              "      display: none;\n",
              "      fill: #1967D2;\n",
              "      height: 32px;\n",
              "      padding: 0 0 0 0;\n",
              "      width: 32px;\n",
              "    }\n",
              "\n",
              "    .colab-df-convert:hover {\n",
              "      background-color: #E2EBFA;\n",
              "      box-shadow: 0px 1px 2px rgba(60, 64, 67, 0.3), 0px 1px 3px 1px rgba(60, 64, 67, 0.15);\n",
              "      fill: #174EA6;\n",
              "    }\n",
              "\n",
              "    .colab-df-buttons div {\n",
              "      margin-bottom: 4px;\n",
              "    }\n",
              "\n",
              "    [theme=dark] .colab-df-convert {\n",
              "      background-color: #3B4455;\n",
              "      fill: #D2E3FC;\n",
              "    }\n",
              "\n",
              "    [theme=dark] .colab-df-convert:hover {\n",
              "      background-color: #434B5C;\n",
              "      box-shadow: 0px 1px 3px 1px rgba(0, 0, 0, 0.15);\n",
              "      filter: drop-shadow(0px 1px 2px rgba(0, 0, 0, 0.3));\n",
              "      fill: #FFFFFF;\n",
              "    }\n",
              "  </style>\n",
              "\n",
              "    <script>\n",
              "      const buttonEl =\n",
              "        document.querySelector('#df-fa70ee4e-e292-45b0-917e-0b46cd31f388 button.colab-df-convert');\n",
              "      buttonEl.style.display =\n",
              "        google.colab.kernel.accessAllowed ? 'block' : 'none';\n",
              "\n",
              "      async function convertToInteractive(key) {\n",
              "        const element = document.querySelector('#df-fa70ee4e-e292-45b0-917e-0b46cd31f388');\n",
              "        const dataTable =\n",
              "          await google.colab.kernel.invokeFunction('convertToInteractive',\n",
              "                                                    [key], {});\n",
              "        if (!dataTable) return;\n",
              "\n",
              "        const docLinkHtml = 'Like what you see? Visit the ' +\n",
              "          '<a target=\"_blank\" href=https://colab.research.google.com/notebooks/data_table.ipynb>data table notebook</a>'\n",
              "          + ' to learn more about interactive tables.';\n",
              "        element.innerHTML = '';\n",
              "        dataTable['output_type'] = 'display_data';\n",
              "        await google.colab.output.renderOutput(dataTable, element);\n",
              "        const docLink = document.createElement('div');\n",
              "        docLink.innerHTML = docLinkHtml;\n",
              "        element.appendChild(docLink);\n",
              "      }\n",
              "    </script>\n",
              "  </div>\n",
              "\n",
              "\n",
              "    <div id=\"df-ae233cb9-2970-48f2-ba61-f0f269b37f55\">\n",
              "      <button class=\"colab-df-quickchart\" onclick=\"quickchart('df-ae233cb9-2970-48f2-ba61-f0f269b37f55')\"\n",
              "                title=\"Suggest charts\"\n",
              "                style=\"display:none;\">\n",
              "\n",
              "<svg xmlns=\"http://www.w3.org/2000/svg\" height=\"24px\"viewBox=\"0 0 24 24\"\n",
              "     width=\"24px\">\n",
              "    <g>\n",
              "        <path d=\"M19 3H5c-1.1 0-2 .9-2 2v14c0 1.1.9 2 2 2h14c1.1 0 2-.9 2-2V5c0-1.1-.9-2-2-2zM9 17H7v-7h2v7zm4 0h-2V7h2v10zm4 0h-2v-4h2v4z\"/>\n",
              "    </g>\n",
              "</svg>\n",
              "      </button>\n",
              "\n",
              "<style>\n",
              "  .colab-df-quickchart {\n",
              "      --bg-color: #E8F0FE;\n",
              "      --fill-color: #1967D2;\n",
              "      --hover-bg-color: #E2EBFA;\n",
              "      --hover-fill-color: #174EA6;\n",
              "      --disabled-fill-color: #AAA;\n",
              "      --disabled-bg-color: #DDD;\n",
              "  }\n",
              "\n",
              "  [theme=dark] .colab-df-quickchart {\n",
              "      --bg-color: #3B4455;\n",
              "      --fill-color: #D2E3FC;\n",
              "      --hover-bg-color: #434B5C;\n",
              "      --hover-fill-color: #FFFFFF;\n",
              "      --disabled-bg-color: #3B4455;\n",
              "      --disabled-fill-color: #666;\n",
              "  }\n",
              "\n",
              "  .colab-df-quickchart {\n",
              "    background-color: var(--bg-color);\n",
              "    border: none;\n",
              "    border-radius: 50%;\n",
              "    cursor: pointer;\n",
              "    display: none;\n",
              "    fill: var(--fill-color);\n",
              "    height: 32px;\n",
              "    padding: 0;\n",
              "    width: 32px;\n",
              "  }\n",
              "\n",
              "  .colab-df-quickchart:hover {\n",
              "    background-color: var(--hover-bg-color);\n",
              "    box-shadow: 0 1px 2px rgba(60, 64, 67, 0.3), 0 1px 3px 1px rgba(60, 64, 67, 0.15);\n",
              "    fill: var(--button-hover-fill-color);\n",
              "  }\n",
              "\n",
              "  .colab-df-quickchart-complete:disabled,\n",
              "  .colab-df-quickchart-complete:disabled:hover {\n",
              "    background-color: var(--disabled-bg-color);\n",
              "    fill: var(--disabled-fill-color);\n",
              "    box-shadow: none;\n",
              "  }\n",
              "\n",
              "  .colab-df-spinner {\n",
              "    border: 2px solid var(--fill-color);\n",
              "    border-color: transparent;\n",
              "    border-bottom-color: var(--fill-color);\n",
              "    animation:\n",
              "      spin 1s steps(1) infinite;\n",
              "  }\n",
              "\n",
              "  @keyframes spin {\n",
              "    0% {\n",
              "      border-color: transparent;\n",
              "      border-bottom-color: var(--fill-color);\n",
              "      border-left-color: var(--fill-color);\n",
              "    }\n",
              "    20% {\n",
              "      border-color: transparent;\n",
              "      border-left-color: var(--fill-color);\n",
              "      border-top-color: var(--fill-color);\n",
              "    }\n",
              "    30% {\n",
              "      border-color: transparent;\n",
              "      border-left-color: var(--fill-color);\n",
              "      border-top-color: var(--fill-color);\n",
              "      border-right-color: var(--fill-color);\n",
              "    }\n",
              "    40% {\n",
              "      border-color: transparent;\n",
              "      border-right-color: var(--fill-color);\n",
              "      border-top-color: var(--fill-color);\n",
              "    }\n",
              "    60% {\n",
              "      border-color: transparent;\n",
              "      border-right-color: var(--fill-color);\n",
              "    }\n",
              "    80% {\n",
              "      border-color: transparent;\n",
              "      border-right-color: var(--fill-color);\n",
              "      border-bottom-color: var(--fill-color);\n",
              "    }\n",
              "    90% {\n",
              "      border-color: transparent;\n",
              "      border-bottom-color: var(--fill-color);\n",
              "    }\n",
              "  }\n",
              "</style>\n",
              "\n",
              "      <script>\n",
              "        async function quickchart(key) {\n",
              "          const quickchartButtonEl =\n",
              "            document.querySelector('#' + key + ' button');\n",
              "          quickchartButtonEl.disabled = true;  // To prevent multiple clicks.\n",
              "          quickchartButtonEl.classList.add('colab-df-spinner');\n",
              "          try {\n",
              "            const charts = await google.colab.kernel.invokeFunction(\n",
              "                'suggestCharts', [key], {});\n",
              "          } catch (error) {\n",
              "            console.error('Error during call to suggestCharts:', error);\n",
              "          }\n",
              "          quickchartButtonEl.classList.remove('colab-df-spinner');\n",
              "          quickchartButtonEl.classList.add('colab-df-quickchart-complete');\n",
              "        }\n",
              "        (() => {\n",
              "          let quickchartButtonEl =\n",
              "            document.querySelector('#df-ae233cb9-2970-48f2-ba61-f0f269b37f55 button');\n",
              "          quickchartButtonEl.style.display =\n",
              "            google.colab.kernel.accessAllowed ? 'block' : 'none';\n",
              "        })();\n",
              "      </script>\n",
              "    </div>\n",
              "\n",
              "    </div>\n",
              "  </div>\n"
            ],
            "application/vnd.google.colaboratory.intrinsic+json": {
              "type": "dataframe",
              "summary": "{\n  \"name\": \"results = evaluate_models(df, target_col='Rent', encoding='label')\",\n  \"rows\": 5,\n  \"fields\": [\n    {\n      \"column\": \"Model\",\n      \"properties\": {\n        \"dtype\": \"string\",\n        \"num_unique_values\": 5,\n        \"samples\": [\n          \"Random Forest\",\n          \"Lasso Regression\",\n          \"Linear Regression\"\n        ],\n        \"semantic_type\": \"\",\n        \"description\": \"\"\n      }\n    },\n    {\n      \"column\": \"R\\u00b2 Score\",\n      \"properties\": {\n        \"dtype\": \"number\",\n        \"std\": 0.3760651605772595,\n        \"min\": 0.0054,\n        \"max\": 0.9499,\n        \"num_unique_values\": 5,\n        \"samples\": [\n          0.894,\n          0.0054,\n          0.6749\n        ],\n        \"semantic_type\": \"\",\n        \"description\": \"\"\n      }\n    },\n    {\n      \"column\": \"MAE\",\n      \"properties\": {\n        \"dtype\": \"number\",\n        \"std\": 0.1978635893740938,\n        \"min\": 0.03,\n        \"max\": 0.51,\n        \"num_unique_values\": 3,\n        \"samples\": [\n          0.03,\n          0.24,\n          0.51\n        ],\n        \"semantic_type\": \"\",\n        \"description\": \"\"\n      }\n    },\n    {\n      \"column\": \"RMSE\",\n      \"properties\": {\n        \"dtype\": \"number\",\n        \"std\": 0.3553449028760649,\n        \"min\": 0.27,\n        \"max\": 1.19,\n        \"num_unique_values\": 4,\n        \"samples\": [\n          0.39,\n          1.19,\n          0.27\n        ],\n        \"semantic_type\": \"\",\n        \"description\": \"\"\n      }\n    }\n  ]\n}"
            }
          },
          "metadata": {}
        },
        {
          "output_type": "stream",
          "name": "stdout",
          "text": [
            "\n",
            "  Best Model Detected: XGBoost\n",
            "\n",
            " Tuning hyperparameters for XGBoost...\n",
            "Fitting 3 folds for each of 108 candidates, totalling 324 fits\n",
            "\n",
            " Best Parameters Found:\n",
            "{'colsample_bytree': 1.0, 'learning_rate': 0.05, 'max_depth': 3, 'n_estimators': 300, 'subsample': 0.8}\n",
            " Best Cross-Validation R²: 0.9628\n",
            "\n",
            " Final Evaluation after Tuning:\n",
            "R² Score: 0.9145\n",
            "MAE: 0.04\n",
            "RMSE: 0.35\n"
          ]
        }
      ]
    }
  ]
}